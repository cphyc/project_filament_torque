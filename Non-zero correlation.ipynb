{
 "cells": [
  {
   "cell_type": "code",
   "execution_count": 1,
   "metadata": {
    "ExecuteTime": {
     "end_time": "2018-03-05T16:03:39.828754Z",
     "start_time": "2018-03-05T16:03:38.984601Z"
    },
    "extensions": {
     "jupyter_dashboards": {
      "version": 1,
      "views": {
       "grid_default": {
        "hidden": true
       },
       "report_default": {}
      }
     }
    }
   },
   "outputs": [],
   "source": [
    "import numpy as np\n",
    "from numpy import sqrt, exp, sin, cos, pi\n",
    "from numba import jit\n",
    "import matplotlib.pyplot as plt\n",
    "from scipy.special import spherical_jn as jn\n",
    "from scipy.integrate import dblquad, tplquad\n",
    "from scipy.interpolate import interp1d\n",
    "%matplotlib inline\n",
    "import matplotlib as mpl\n",
    "\n",
    "mpl.rcParams['figure.figsize'] = (12, 8)\n",
    "\n",
    "from tqdm import tqdm as tqdm\n",
    "from itertools import product, combinations_with_replacement"
   ]
  },
  {
   "cell_type": "code",
   "execution_count": 2,
   "metadata": {
    "ExecuteTime": {
     "end_time": "2018-03-05T16:03:40.427267Z",
     "start_time": "2018-03-05T16:03:40.389939Z"
    },
    "extensions": {
     "jupyter_dashboards": {
      "version": 1,
      "views": {
       "grid_default": {
        "hidden": true
       },
       "report_default": {}
      }
     }
    }
   },
   "outputs": [],
   "source": [
    "import corner"
   ]
  },
  {
   "cell_type": "code",
   "execution_count": 3,
   "metadata": {
    "ExecuteTime": {
     "end_time": "2018-03-05T16:03:40.916442Z",
     "start_time": "2018-03-05T16:03:40.850046Z"
    },
    "extensions": {
     "jupyter_dashboards": {
      "version": 1,
      "views": {
       "grid_default": {
        "hidden": true
       },
       "report_default": {}
      }
     }
    }
   },
   "outputs": [],
   "source": [
    "run code/correlations.py"
   ]
  },
  {
   "cell_type": "markdown",
   "metadata": {
    "extensions": {
     "jupyter_dashboards": {
      "version": 1,
      "views": {
       "grid_default": {
        "hidden": true
       },
       "report_default": {
        "hidden": true
       }
      }
     }
    }
   },
   "source": [
    "# Three walls, one filament"
   ]
  },
  {
   "cell_type": "code",
   "execution_count": 103,
   "metadata": {
    "ExecuteTime": {
     "end_time": "2018-03-05T17:01:24.038851Z",
     "start_time": "2018-03-05T17:01:24.016879Z"
    }
   },
   "outputs": [],
   "source": [
    "import mgen\n",
    "# Compute the hessian\n",
    "def get_hessian(e1, angle, eigvals):\n",
    "    '''Create a hessian given its eigenvalues and directions d1, d2'''\n",
    "    l1, l2, l3 = eigvals\n",
    "    H0 = np.diag([l1, l2, l3])\n",
    "    R1 = mgen.rotation_around_axis(e1, -angle)\n",
    "    return H0 @ R1"
   ]
  },
  {
   "cell_type": "code",
   "execution_count": 105,
   "metadata": {
    "ExecuteTime": {
     "end_time": "2018-03-05T17:05:54.136048Z",
     "start_time": "2018-03-05T17:02:17.181082Z"
    },
    "extensions": {
     "jupyter_dashboards": {
      "version": 1,
      "views": {
       "grid_default": {
        "hidden": true
       },
       "report_default": {
        "hidden": true
       }
      }
     }
    },
    "scrolled": true
   },
   "outputs": [
    {
     "name": "stderr",
     "output_type": "stream",
     "text": [
      "\n",
      "\n",
      "\n",
      "\n",
      "\n",
      "\n",
      "\n",
      "  0%|          | 0/9045 [00:00<?, ?it/s]\u001b[A\u001b[A\u001b[A\u001b[A\u001b[A\u001b[A\u001b[A\n",
      "\n",
      "\n",
      "\n",
      "\n",
      "\n",
      "\n",
      "  0%|          | 1/9045 [00:03<9:45:14,  3.88s/it]\u001b[A\u001b[A\u001b[A\u001b[A\u001b[A\u001b[A\u001b[A\n",
      "\n",
      "\n",
      "\n",
      "\n",
      "\n",
      "\n",
      "  1%|          | 68/9045 [00:05<11:49, 12.64it/s] \u001b[A\u001b[A\u001b[A\u001b[A\u001b[A\u001b[A\u001b[A\n",
      "\n",
      "\n",
      "\n",
      "\n",
      "\n",
      "\n",
      "  1%|▏         | 135/9045 [00:09<09:56, 14.94it/s]\u001b[A\u001b[A\u001b[A\u001b[A\u001b[A\u001b[A\u001b[A\n",
      "\n",
      "\n",
      "\n",
      "\n",
      "\n",
      "\n",
      "  2%|▏         | 202/9045 [00:09<06:47, 21.69it/s]\u001b[A\u001b[A\u001b[A\u001b[A\u001b[A\u001b[A\u001b[A\n",
      "\n",
      "\n",
      "\n",
      "\n",
      "\n",
      "\n",
      "  4%|▎         | 336/9045 [00:09<04:08, 35.04it/s]\u001b[A\u001b[A\u001b[A\u001b[A\u001b[A\u001b[A\u001b[A\n",
      "\n",
      "\n",
      "\n",
      "\n",
      "\n",
      "\n",
      "  4%|▍         | 403/9045 [00:10<03:43, 38.71it/s]\u001b[A\u001b[A\u001b[A\u001b[A\u001b[A\u001b[A\u001b[A\n",
      "\n",
      "\n",
      "\n",
      "\n",
      "\n",
      "\n",
      "  5%|▌         | 470/9045 [00:12<03:51, 37.02it/s]\u001b[A\u001b[A\u001b[A\u001b[A\u001b[A\u001b[A\u001b[A\n",
      "\n",
      "\n",
      "\n",
      "\n",
      "\n",
      "\n",
      "  6%|▌         | 537/9045 [00:13<03:33, 39.90it/s]\u001b[A\u001b[A\u001b[A\u001b[A\u001b[A\u001b[A\u001b[A\n",
      "\n",
      "\n",
      "\n",
      "\n",
      "\n",
      "\n",
      "  7%|▋         | 604/9045 [00:17<04:10, 33.65it/s]\u001b[A\u001b[A\u001b[A\u001b[A\u001b[A\u001b[A\u001b[A\n",
      "\n",
      "\n",
      "\n",
      "\n",
      "\n",
      "\n",
      "  7%|▋         | 671/9045 [00:19<04:03, 34.43it/s]\u001b[A\u001b[A\u001b[A\u001b[A\u001b[A\u001b[A\u001b[A\n",
      "\n",
      "\n",
      "\n",
      "\n",
      "\n",
      "\n",
      "  8%|▊         | 738/9045 [00:21<04:06, 33.74it/s]\u001b[A\u001b[A\u001b[A\u001b[A\u001b[A\u001b[A\u001b[A\n",
      "\n",
      "\n",
      "\n",
      "\n",
      "\n",
      "\n",
      "  9%|▉         | 805/9045 [00:23<04:04, 33.69it/s]\u001b[A\u001b[A\u001b[A\u001b[A\u001b[A\u001b[A\u001b[A\n",
      "\n",
      "\n",
      "\n",
      "\n",
      "\n",
      "\n",
      " 10%|█         | 939/9045 [00:24<03:29, 38.66it/s]\u001b[A\u001b[A\u001b[A\u001b[A\u001b[A\u001b[A\u001b[A\n",
      "\n",
      "\n",
      "\n",
      "\n",
      "\n",
      "\n",
      " 12%|█▏        | 1073/9045 [00:24<03:03, 43.51it/s]\u001b[A\u001b[A\u001b[A\u001b[A\u001b[A\u001b[A\u001b[A\n",
      "\n",
      "\n",
      "\n",
      "\n",
      "\n",
      "\n",
      " 13%|█▎        | 1207/9045 [00:26<02:52, 45.53it/s]\u001b[A\u001b[A\u001b[A\u001b[A\u001b[A\u001b[A\u001b[A\n",
      "\n",
      "\n",
      "\n",
      "\n",
      "\n",
      "\n",
      " 14%|█▍        | 1274/9045 [00:30<03:08, 41.32it/s]\u001b[A\u001b[A\u001b[A\u001b[A\u001b[A\u001b[A\u001b[A\n",
      "\n",
      "\n",
      "\n",
      "\n",
      "\n",
      "\n",
      " 15%|█▍        | 1341/9045 [00:32<03:08, 40.93it/s]\u001b[A\u001b[A\u001b[A\u001b[A\u001b[A\u001b[A\u001b[A\n",
      "\n",
      "\n",
      "\n",
      "\n",
      "\n",
      "\n",
      " 16%|█▋        | 1475/9045 [00:32<02:48, 44.85it/s]\u001b[A\u001b[A\u001b[A\u001b[A\u001b[A\u001b[A\u001b[A\n",
      "\n",
      "\n",
      "\n",
      "\n",
      "\n",
      "\n",
      " 17%|█▋        | 1542/9045 [00:34<02:48, 44.56it/s]\u001b[A\u001b[A\u001b[A\u001b[A\u001b[A\u001b[A\u001b[A\n",
      "\n",
      "\n",
      "\n",
      "\n",
      "\n",
      "\n",
      " 18%|█▊        | 1609/9045 [00:37<02:55, 42.45it/s]\u001b[A\u001b[A\u001b[A\u001b[A\u001b[A\u001b[A\u001b[A\n",
      "\n",
      "\n",
      "\n",
      "\n",
      "\n",
      "\n",
      " 19%|█▊        | 1676/9045 [00:38<02:47, 44.08it/s]\u001b[A\u001b[A\u001b[A\u001b[A\u001b[A\u001b[A\u001b[A\n",
      "\n",
      "\n",
      "\n",
      "\n",
      "\n",
      "\n",
      " 19%|█▉        | 1743/9045 [00:42<02:56, 41.27it/s]\u001b[A\u001b[A\u001b[A\u001b[A\u001b[A\u001b[A\u001b[A\n",
      "\n",
      "\n",
      "\n",
      "\n",
      "\n",
      "\n",
      " 20%|██        | 1810/9045 [00:42<02:49, 42.61it/s]\u001b[A\u001b[A\u001b[A\u001b[A\u001b[A\u001b[A\u001b[A\n",
      "\n",
      "\n",
      "\n",
      "\n",
      "\n",
      "\n",
      " 21%|██        | 1877/9045 [00:48<03:03, 39.02it/s]\u001b[A\u001b[A\u001b[A\u001b[A\u001b[A\u001b[A\u001b[A\n",
      "\n",
      "\n",
      "\n",
      "\n",
      "\n",
      "\n",
      " 21%|██▏       | 1944/9045 [00:52<03:11, 37.07it/s]\u001b[A\u001b[A\u001b[A\u001b[A\u001b[A\u001b[A\u001b[A\n",
      "\n",
      "\n",
      "\n",
      "\n",
      "\n",
      "\n",
      " 22%|██▏       | 2011/9045 [00:52<03:04, 38.15it/s]\u001b[A\u001b[A\u001b[A\u001b[A\u001b[A\u001b[A\u001b[A\n",
      "\n",
      "\n",
      "\n",
      "\n",
      "\n",
      "\n",
      " 24%|██▎       | 2145/9045 [00:52<02:50, 40.58it/s]\u001b[A\u001b[A\u001b[A\u001b[A\u001b[A\u001b[A\u001b[A\n",
      "\n",
      "\n",
      "\n",
      "\n",
      "\n",
      "\n",
      " 25%|██▌       | 2279/9045 [00:54<02:41, 41.86it/s]\u001b[A\u001b[A\u001b[A\u001b[A\u001b[A\u001b[A\u001b[A\n",
      "\n",
      "\n",
      "\n",
      "\n",
      "\n",
      "\n",
      " 26%|██▌       | 2346/9045 [00:55<02:38, 42.19it/s]\u001b[A\u001b[A\u001b[A\u001b[A\u001b[A\u001b[A\u001b[A\n",
      "\n",
      "\n",
      "\n",
      "\n",
      "\n",
      "\n",
      " 27%|██▋       | 2413/9045 [00:56<02:35, 42.57it/s]\u001b[A\u001b[A\u001b[A\u001b[A\u001b[A\u001b[A\u001b[A\n",
      "\n",
      "\n",
      "\n",
      "\n",
      "\n",
      "\n",
      " 27%|██▋       | 2480/9045 [01:01<02:42, 40.40it/s]\u001b[A\u001b[A\u001b[A\u001b[A\u001b[A\u001b[A\u001b[A\n",
      "\n",
      "\n",
      "\n",
      "\n",
      "\n",
      "\n",
      " 28%|██▊       | 2547/9045 [01:02<02:40, 40.57it/s]\u001b[A\u001b[A\u001b[A\u001b[A\u001b[A\u001b[A\u001b[A\n",
      "\n",
      "\n",
      "\n",
      "\n",
      "\n",
      "\n",
      " 29%|██▉       | 2614/9045 [01:02<02:34, 41.50it/s]\u001b[A\u001b[A\u001b[A\u001b[A\u001b[A\u001b[A\u001b[A\n",
      "\n",
      "\n",
      "\n",
      "\n",
      "\n",
      "\n",
      " 30%|███       | 2748/9045 [01:08<02:35, 40.37it/s]\u001b[A\u001b[A\u001b[A\u001b[A\u001b[A\u001b[A\u001b[A\n",
      "\n",
      "\n",
      "\n",
      "\n",
      "\n",
      "\n",
      " 31%|███       | 2815/9045 [01:08<02:31, 41.21it/s]\u001b[A\u001b[A\u001b[A\u001b[A\u001b[A\u001b[A\u001b[A\n",
      "\n",
      "\n",
      "\n",
      "\n",
      "\n",
      "\n",
      " 32%|███▏      | 2882/9045 [01:09<02:28, 41.58it/s]\u001b[A\u001b[A\u001b[A\u001b[A\u001b[A\u001b[A\u001b[A\n",
      "\n",
      "\n",
      "\n",
      "\n",
      "\n",
      "\n",
      " 33%|███▎      | 2949/9045 [01:12<02:30, 40.52it/s]\u001b[A\u001b[A\u001b[A\u001b[A\u001b[A\u001b[A\u001b[A\n",
      "\n",
      "\n",
      "\n",
      "\n",
      "\n",
      "\n",
      " 33%|███▎      | 3016/9045 [01:18<02:37, 38.22it/s]\u001b[A\u001b[A\u001b[A\u001b[A\u001b[A\u001b[A\u001b[A\n",
      "\n",
      "\n",
      "\n",
      "\n",
      "\n",
      "\n",
      " 34%|███▍      | 3083/9045 [01:19<02:33, 38.93it/s]\u001b[A\u001b[A\u001b[A\u001b[A\u001b[A\u001b[A\u001b[A\n",
      "\n",
      "\n",
      "\n",
      "\n",
      "\n",
      "\n",
      " 35%|███▍      | 3150/9045 [01:21<02:32, 38.70it/s]\u001b[A\u001b[A\u001b[A\u001b[A\u001b[A\u001b[A\u001b[A\n",
      "\n",
      "\n",
      "\n",
      "\n",
      "\n",
      "\n",
      " 37%|███▋      | 3351/9045 [01:23<02:22, 39.95it/s]\u001b[A\u001b[A\u001b[A\u001b[A\u001b[A\u001b[A\u001b[A\n",
      "\n",
      "\n",
      "\n",
      "\n",
      "\n",
      "\n",
      " 38%|███▊      | 3418/9045 [01:25<02:21, 39.90it/s]\u001b[A\u001b[A\u001b[A\u001b[A\u001b[A\u001b[A\u001b[A\n",
      "\n",
      "\n",
      "\n",
      "\n",
      "\n",
      "\n",
      " 39%|███▊      | 3485/9045 [01:26<02:18, 40.24it/s]\u001b[A\u001b[A\u001b[A\u001b[A\u001b[A\u001b[A\u001b[A\n",
      "\n",
      "\n",
      "\n",
      "\n",
      "\n",
      "\n",
      " 39%|███▉      | 3552/9045 [01:26<02:14, 40.94it/s]\u001b[A\u001b[A\u001b[A\u001b[A\u001b[A\u001b[A\u001b[A\n",
      "\n",
      "\n",
      "\n",
      "\n",
      "\n",
      "\n",
      " 40%|████      | 3619/9045 [01:27<02:10, 41.44it/s]\u001b[A\u001b[A\u001b[A\u001b[A\u001b[A\u001b[A\u001b[A\n",
      "\n",
      "\n",
      "\n",
      "\n",
      "\n",
      "\n",
      " 41%|████      | 3686/9045 [01:29<02:09, 41.39it/s]\u001b[A\u001b[A\u001b[A\u001b[A\u001b[A\u001b[A\u001b[A\n",
      "\n",
      "\n",
      "\n",
      "\n",
      "\n",
      "\n",
      " 41%|████▏     | 3753/9045 [01:31<02:08, 41.07it/s]\u001b[A\u001b[A\u001b[A\u001b[A\u001b[A\u001b[A\u001b[A\n",
      "\n",
      "\n",
      "\n",
      "\n",
      "\n",
      "\n",
      " 42%|████▏     | 3820/9045 [01:32<02:06, 41.44it/s]\u001b[A\u001b[A\u001b[A\u001b[A\u001b[A\u001b[A\u001b[A\n",
      "\n",
      "\n",
      "\n",
      "\n",
      "\n",
      "\n",
      " 43%|████▎     | 3887/9045 [01:32<02:02, 42.11it/s]\u001b[A\u001b[A\u001b[A\u001b[A\u001b[A\u001b[A\u001b[A\n",
      "\n",
      "\n",
      "\n",
      "\n",
      "\n",
      "\n",
      " 44%|████▎     | 3954/9045 [01:35<02:03, 41.27it/s]\u001b[A\u001b[A\u001b[A\u001b[A\u001b[A\u001b[A\u001b[A\n",
      "\n",
      "\n",
      "\n",
      "\n",
      "\n",
      "\n",
      " 44%|████▍     | 4021/9045 [01:44<02:10, 38.52it/s]\u001b[A\u001b[A\u001b[A\u001b[A\u001b[A\u001b[A\u001b[A\n",
      "\n",
      "\n",
      "\n",
      "\n",
      "\n",
      "\n",
      " 45%|████▌     | 4088/9045 [01:50<02:13, 37.16it/s]\u001b[A\u001b[A\u001b[A\u001b[A\u001b[A\u001b[A\u001b[A\n",
      "\n",
      "\n",
      "\n",
      "\n",
      "\n",
      "\n",
      " 46%|████▌     | 4155/9045 [01:53<02:13, 36.54it/s]\u001b[A\u001b[A\u001b[A\u001b[A\u001b[A\u001b[A\u001b[A\n",
      "\n",
      "\n",
      "\n",
      "\n",
      "\n",
      "\n",
      " 47%|████▋     | 4222/9045 [01:54<02:11, 36.78it/s]\u001b[A\u001b[A\u001b[A\u001b[A\u001b[A\u001b[A\u001b[A\n",
      "\n",
      "\n",
      "\n",
      "\n",
      "\n",
      "\n",
      " 47%|████▋     | 4289/9045 [01:56<02:08, 36.95it/s]\u001b[A\u001b[A\u001b[A\u001b[A\u001b[A\u001b[A\u001b[A\n",
      "\n",
      "\n",
      "\n",
      "\n",
      "\n",
      "\n",
      " 48%|████▊     | 4356/9045 [02:03<02:12, 35.34it/s]\u001b[A\u001b[A\u001b[A\u001b[A\u001b[A\u001b[A\u001b[A\n",
      "\n",
      "\n",
      "\n",
      "\n",
      "\n",
      "\n",
      " 49%|████▉     | 4423/9045 [02:03<02:09, 35.69it/s]\u001b[A\u001b[A\u001b[A\u001b[A\u001b[A\u001b[A\u001b[A\n",
      "\n",
      "\n",
      "\n",
      "\n",
      "\n",
      "\n",
      " 50%|████▉     | 4490/9045 [02:05<02:07, 35.78it/s]\u001b[A\u001b[A\u001b[A\u001b[A\u001b[A\u001b[A\u001b[A\n",
      "\n",
      "\n",
      "\n",
      "\n",
      "\n",
      "\n",
      " 50%|█████     | 4557/9045 [02:07<02:05, 35.76it/s]\u001b[A\u001b[A\u001b[A\u001b[A\u001b[A\u001b[A\u001b[A\n",
      "\n",
      "\n",
      "\n",
      "\n",
      "\n",
      "\n",
      " 51%|█████     | 4624/9045 [02:13<02:07, 34.72it/s]\u001b[A\u001b[A\u001b[A\u001b[A\u001b[A\u001b[A\u001b[A\n",
      "\n",
      "\n",
      "\n",
      "\n",
      "\n",
      "\n",
      " 52%|█████▏    | 4691/9045 [02:18<02:08, 33.95it/s]\u001b[A\u001b[A\u001b[A\u001b[A\u001b[A\u001b[A\u001b[A\n",
      "\n",
      "\n",
      "\n",
      "\n",
      "\n",
      "\n",
      " 53%|█████▎    | 4758/9045 [02:18<02:05, 34.27it/s]\u001b[A\u001b[A\u001b[A\u001b[A\u001b[A\u001b[A\u001b[A\n",
      "\n",
      "\n",
      "\n",
      "\n",
      "\n",
      "\n",
      " 53%|█████▎    | 4825/9045 [02:24<02:06, 33.34it/s]\u001b[A\u001b[A\u001b[A\u001b[A\u001b[A\u001b[A\u001b[A\n",
      "\n",
      "\n",
      "\n",
      "\n",
      "\n",
      "\n",
      " 54%|█████▍    | 4892/9045 [02:26<02:04, 33.42it/s]\u001b[A\u001b[A\u001b[A\u001b[A\u001b[A\u001b[A\u001b[A\n",
      "\n",
      "\n",
      "\n",
      "\n",
      "\n",
      "\n",
      " 55%|█████▍    | 4959/9045 [02:36<02:08, 31.71it/s]\u001b[A\u001b[A\u001b[A\u001b[A\u001b[A\u001b[A\u001b[A\n",
      "\n",
      "\n",
      "\n",
      "\n",
      "\n",
      "\n",
      " 56%|█████▌    | 5026/9045 [02:37<02:05, 31.96it/s]\u001b[A\u001b[A\u001b[A\u001b[A\u001b[A\u001b[A\u001b[A\n",
      "\n",
      "\n",
      "\n",
      "\n",
      "\n",
      "\n",
      " 56%|█████▋    | 5093/9045 [02:37<02:02, 32.24it/s]\u001b[A\u001b[A\u001b[A\u001b[A\u001b[A\u001b[A\u001b[A\n",
      "\n",
      "\n",
      "\n",
      "\n",
      "\n",
      "\n",
      " 57%|█████▋    | 5160/9045 [02:40<02:00, 32.22it/s]\u001b[A\u001b[A\u001b[A\u001b[A\u001b[A\u001b[A\u001b[A\n",
      "\n",
      "\n",
      "\n",
      "\n",
      "\n",
      "\n",
      " 58%|█████▊    | 5227/9045 [02:40<01:57, 32.60it/s]\u001b[A\u001b[A\u001b[A\u001b[A\u001b[A\u001b[A\u001b[A\n",
      "\n",
      "\n",
      "\n",
      "\n",
      "\n",
      "\n",
      " 59%|█████▊    | 5294/9045 [02:40<01:54, 32.90it/s]\u001b[A\u001b[A\u001b[A\u001b[A\u001b[A\u001b[A\u001b[A\n",
      "\n",
      "\n",
      "\n",
      "\n",
      "\n",
      "\n",
      " 59%|█████▉    | 5361/9045 [02:43<01:52, 32.80it/s]\u001b[A\u001b[A\u001b[A\u001b[A\u001b[A\u001b[A\u001b[A\n",
      "\n",
      "\n",
      "\n",
      "\n",
      "\n",
      "\n",
      " 60%|██████    | 5428/9045 [02:45<01:50, 32.80it/s]\u001b[A\u001b[A\u001b[A\u001b[A\u001b[A\u001b[A\u001b[A\n",
      "\n",
      "\n",
      "\n",
      "\n",
      "\n",
      "\n",
      " 61%|██████    | 5495/9045 [02:46<01:47, 33.08it/s]\u001b[A\u001b[A\u001b[A\u001b[A\u001b[A\u001b[A\u001b[A\n",
      "\n",
      "\n",
      "\n",
      "\n",
      "\n",
      "\n",
      " 61%|██████▏   | 5562/9045 [02:48<01:45, 33.03it/s]\u001b[A\u001b[A\u001b[A\u001b[A\u001b[A\u001b[A\u001b[A\n",
      "\n",
      "\n",
      "\n",
      "\n",
      "\n",
      "\n",
      " 62%|██████▏   | 5629/9045 [02:51<01:44, 32.74it/s]\u001b[A\u001b[A\u001b[A\u001b[A\u001b[A\u001b[A\u001b[A\n",
      "\n",
      "\n",
      "\n",
      "\n",
      "\n",
      "\n",
      " 63%|██████▎   | 5696/9045 [02:56<01:43, 32.24it/s]\u001b[A\u001b[A\u001b[A\u001b[A\u001b[A\u001b[A\u001b[A\n",
      "\n",
      "\n",
      "\n",
      "\n",
      "\n",
      "\n",
      " 64%|██████▎   | 5763/9045 [02:57<01:41, 32.38it/s]\u001b[A\u001b[A\u001b[A\u001b[A\u001b[A\u001b[A\u001b[A\n",
      "\n",
      "\n",
      "\n",
      "\n",
      "\n",
      "\n",
      " 64%|██████▍   | 5830/9045 [02:59<01:38, 32.52it/s]\u001b[A\u001b[A\u001b[A\u001b[A\u001b[A\u001b[A\u001b[A\n",
      "\n",
      "\n",
      "\n",
      "\n",
      "\n",
      "\n",
      " 65%|██████▌   | 5897/9045 [03:01<01:37, 32.44it/s]\u001b[A\u001b[A\u001b[A\u001b[A\u001b[A\u001b[A\u001b[A\n",
      "\n",
      "\n",
      "\n",
      "\n",
      "\n",
      "\n",
      " 67%|██████▋   | 6031/9045 [03:03<01:31, 32.96it/s]\u001b[A\u001b[A\u001b[A\u001b[A\u001b[A\u001b[A\u001b[A\n",
      "\n",
      "\n",
      "\n",
      "\n",
      "\n",
      "\n",
      " 67%|██████▋   | 6098/9045 [03:03<01:28, 33.15it/s]\u001b[A\u001b[A\u001b[A\u001b[A\u001b[A\u001b[A\u001b[A\n",
      "\n",
      "\n",
      "\n",
      "\n",
      "\n",
      "\n",
      " 68%|██████▊   | 6165/9045 [03:04<01:25, 33.50it/s]\u001b[A\u001b[A\u001b[A\u001b[A\u001b[A\u001b[A\u001b[A\n",
      "\n",
      "\n",
      "\n",
      "\n",
      "\n",
      "\n",
      " 69%|██████▉   | 6232/9045 [03:06<01:24, 33.35it/s]\u001b[A\u001b[A\u001b[A\u001b[A\u001b[A\u001b[A\u001b[A\n",
      "\n",
      "\n",
      "\n",
      "\n",
      "\n",
      "\n",
      " 70%|██████▉   | 6299/9045 [03:08<01:22, 33.42it/s]\u001b[A\u001b[A\u001b[A\u001b[A\u001b[A\u001b[A\u001b[A\n",
      "\n",
      "\n",
      "\n",
      "\n",
      "\n",
      "\n",
      " 70%|███████   | 6366/9045 [03:10<01:20, 33.45it/s]\u001b[A\u001b[A\u001b[A\u001b[A\u001b[A\u001b[A\u001b[A\n",
      "\n",
      "\n",
      "\n",
      "\n",
      "\n",
      "\n",
      " 71%|███████   | 6433/9045 [03:13<01:18, 33.30it/s]\u001b[A\u001b[A\u001b[A\u001b[A\u001b[A\u001b[A\u001b[A\n",
      "\n",
      "\n",
      "\n",
      "\n",
      "\n",
      "\n",
      " 72%|███████▏  | 6500/9045 [03:15<01:16, 33.28it/s]\u001b[A\u001b[A\u001b[A\u001b[A\u001b[A\u001b[A\u001b[A\n",
      "\n",
      "\n",
      "\n",
      "\n",
      "\n",
      "\n",
      " 74%|███████▍  | 6701/9045 [03:16<01:08, 34.04it/s]\u001b[A\u001b[A\u001b[A\u001b[A\u001b[A\u001b[A\u001b[A\n",
      "\n",
      "\n",
      "\n",
      "\n",
      "\n",
      "\n",
      " 75%|███████▍  | 6768/9045 [03:17<01:06, 34.23it/s]\u001b[A\u001b[A\u001b[A\u001b[A\u001b[A\u001b[A\u001b[A\n",
      "\n",
      "\n",
      "\n",
      "\n",
      "\n",
      "\n",
      " 76%|███████▌  | 6835/9045 [03:17<01:03, 34.54it/s]\u001b[A\u001b[A\u001b[A\u001b[A\u001b[A\u001b[A\u001b[A\n",
      "\n",
      "\n",
      "\n",
      "\n",
      "\n",
      "\n",
      " 76%|███████▋  | 6902/9045 [03:18<01:01, 34.74it/s]\u001b[A\u001b[A\u001b[A\u001b[A\u001b[A\u001b[A\u001b[A\n",
      "\n",
      "\n",
      "\n",
      "\n",
      "\n",
      "\n",
      " 77%|███████▋  | 6969/9045 [03:19<00:59, 34.85it/s]\u001b[A\u001b[A\u001b[A\u001b[A\u001b[A\u001b[A\u001b[A\n",
      "\n",
      "\n",
      "\n",
      "\n",
      "\n",
      "\n",
      " 78%|███████▊  | 7036/9045 [03:22<00:57, 34.79it/s]\u001b[A\u001b[A\u001b[A\u001b[A\u001b[A\u001b[A\u001b[A\n",
      "\n",
      "\n",
      "\n",
      "\n",
      "\n",
      "\n",
      " 79%|███████▊  | 7103/9045 [03:22<00:55, 35.07it/s]\u001b[A\u001b[A\u001b[A\u001b[A\u001b[A\u001b[A\u001b[A\n",
      "\n",
      "\n",
      "\n",
      "\n",
      "\n",
      "\n",
      " 79%|███████▉  | 7170/9045 [03:22<00:53, 35.33it/s]\u001b[A\u001b[A\u001b[A\u001b[A\u001b[A\u001b[A\u001b[A\n",
      "\n",
      "\n",
      "\n",
      "\n",
      "\n",
      "\n",
      " 80%|████████  | 7237/9045 [03:23<00:50, 35.57it/s]\u001b[A\u001b[A\u001b[A\u001b[A\u001b[A\u001b[A\u001b[A\n",
      "\n",
      "\n",
      "\n",
      "\n",
      "\n",
      "\n",
      " 81%|████████  | 7304/9045 [03:24<00:48, 35.77it/s]\u001b[A\u001b[A\u001b[A\u001b[A\u001b[A\u001b[A\u001b[A\n",
      "\n",
      "\n",
      "\n",
      "\n",
      "\n",
      "\n",
      " 82%|████████▏ | 7438/9045 [03:24<00:44, 36.35it/s]\u001b[A\u001b[A\u001b[A\u001b[A\u001b[A\u001b[A\u001b[A\n",
      "\n",
      "\n",
      "\n",
      "\n",
      "\n",
      "\n",
      " 83%|████████▎ | 7505/9045 [03:25<00:42, 36.60it/s]\u001b[A\u001b[A\u001b[A\u001b[A\u001b[A\u001b[A\u001b[A\n",
      "\n",
      "\n",
      "\n",
      "\n",
      "\n",
      "\n",
      " 84%|████████▎ | 7572/9045 [03:25<00:40, 36.77it/s]\u001b[A\u001b[A\u001b[A\u001b[A\u001b[A\u001b[A\u001b[A\n",
      "\n",
      "\n",
      "\n",
      "\n",
      "\n",
      "\n",
      " 84%|████████▍ | 7639/9045 [03:27<00:38, 36.83it/s]\u001b[A\u001b[A\u001b[A\u001b[A\u001b[A\u001b[A\u001b[A\n",
      "\n",
      "\n",
      "\n",
      "\n",
      "\n",
      "\n",
      " 85%|████████▌ | 7706/9045 [03:28<00:36, 37.04it/s]\u001b[A\u001b[A\u001b[A\u001b[A\u001b[A\u001b[A\u001b[A\n",
      "\n",
      "\n",
      "\n",
      "\n",
      "\n",
      "\n",
      " 86%|████████▌ | 7773/9045 [03:28<00:34, 37.34it/s]\u001b[A\u001b[A\u001b[A\u001b[A\u001b[A\u001b[A\u001b[A\n",
      "\n",
      "\n",
      "\n",
      "\n",
      "\n",
      "\n"
     ]
    },
    {
     "name": "stderr",
     "output_type": "stream",
     "text": [
      " 87%|████████▋ | 7840/9045 [03:28<00:32, 37.58it/s]\u001b[A\u001b[A\u001b[A\u001b[A\u001b[A\u001b[A\u001b[A\n",
      "\n",
      "\n",
      "\n",
      "\n",
      "\n",
      "\n",
      " 87%|████████▋ | 7907/9045 [03:29<00:30, 37.73it/s]\u001b[A\u001b[A\u001b[A\u001b[A\u001b[A\u001b[A\u001b[A\n",
      "\n",
      "\n",
      "\n",
      "\n",
      "\n",
      "\n",
      " 88%|████████▊ | 7974/9045 [03:30<00:28, 37.96it/s]\u001b[A\u001b[A\u001b[A\u001b[A\u001b[A\u001b[A\u001b[A\n",
      "\n",
      "\n",
      "\n",
      "\n",
      "\n",
      "\n",
      " 89%|████████▉ | 8041/9045 [03:30<00:26, 38.21it/s]\u001b[A\u001b[A\u001b[A\u001b[A\u001b[A\u001b[A\u001b[A\n",
      "\n",
      "\n",
      "\n",
      "\n",
      "\n",
      "\n",
      " 90%|████████▉ | 8108/9045 [03:31<00:24, 38.26it/s]\u001b[A\u001b[A\u001b[A\u001b[A\u001b[A\u001b[A\u001b[A\n",
      "\n",
      "\n",
      "\n",
      "\n",
      "\n",
      "\n",
      " 90%|█████████ | 8175/9045 [03:32<00:22, 38.54it/s]\u001b[A\u001b[A\u001b[A\u001b[A\u001b[A\u001b[A\u001b[A\n",
      "\n",
      "\n",
      "\n",
      "\n",
      "\n",
      "\n",
      " 91%|█████████ | 8242/9045 [03:32<00:20, 38.79it/s]\u001b[A\u001b[A\u001b[A\u001b[A\u001b[A\u001b[A\u001b[A\n",
      "\n",
      "\n",
      "\n",
      "\n",
      "\n",
      "\n",
      " 92%|█████████▏| 8309/9045 [03:32<00:18, 39.09it/s]\u001b[A\u001b[A\u001b[A\u001b[A\u001b[A\u001b[A\u001b[A\n",
      "\n",
      "\n",
      "\n",
      "\n",
      "\n",
      "\n",
      " 93%|█████████▎| 8376/9045 [03:33<00:17, 39.22it/s]\u001b[A\u001b[A\u001b[A\u001b[A\u001b[A\u001b[A\u001b[A\n",
      "\n",
      "\n",
      "\n",
      "\n",
      "\n",
      "\n",
      " 94%|█████████▍| 8510/9045 [03:34<00:13, 39.73it/s]\u001b[A\u001b[A\u001b[A\u001b[A\u001b[A\u001b[A\u001b[A\n",
      "\n",
      "\n",
      "\n",
      "\n",
      "\n",
      "\n",
      " 95%|█████████▍| 8577/9045 [03:34<00:11, 39.91it/s]\u001b[A\u001b[A\u001b[A\u001b[A\u001b[A\u001b[A\u001b[A\n",
      "\n",
      "\n",
      "\n",
      "\n",
      "\n",
      "\n",
      " 96%|█████████▌| 8644/9045 [03:35<00:09, 40.14it/s]\u001b[A\u001b[A\u001b[A\u001b[A\u001b[A\u001b[A\u001b[A\n",
      "\n",
      "\n",
      "\n",
      "\n",
      "\n",
      "\n",
      " 98%|█████████▊| 8845/9045 [03:35<00:04, 41.00it/s]\u001b[A\u001b[A\u001b[A\u001b[A\u001b[A\u001b[A\u001b[A\n",
      "\n",
      "\n",
      "\n",
      "\n",
      "\n",
      "\n",
      " 99%|█████████▊| 8912/9045 [03:35<00:03, 41.30it/s]\u001b[A\u001b[A\u001b[A\u001b[A\u001b[A\u001b[A\u001b[A\n",
      "\n",
      "\n",
      "\n",
      "\n",
      "\n",
      "\n",
      " 99%|█████████▉| 8979/9045 [03:36<00:01, 41.46it/s]\u001b[A\u001b[A\u001b[A\u001b[A\u001b[A\u001b[A\u001b[A\n",
      "\n",
      "\n",
      "\n",
      "\n",
      "\n",
      "\n",
      "100%|██████████| 9045/9045 [03:36<00:00, 41.76it/s]\u001b[A\u001b[A\u001b[A\u001b[A\u001b[A\u001b[A\u001b[A"
     ]
    },
    {
     "name": "stdout",
     "output_type": "stream",
     "text": [
      "WARNING: the covariance matrix is not positive definite.\n"
     ]
    },
    {
     "data": {
      "text/plain": [
       "array([-5.65805567, -4.25802681, -1.60492925,  0.35748172,  0.91850595,\n",
       "        0.91850595,  0.35748172, -1.60492925, -4.25802681, -5.65805567,\n",
       "       -7.89896468, -5.55119452, -1.64841391,  0.50780345,  0.52634907,\n",
       "        0.52634907,  0.50780345, -1.64841391, -5.55119452, -7.89896468,\n",
       "       -8.4947053 , -5.3282428 , -1.21924888,  0.16536262, -0.4878239 ,\n",
       "       -0.4878239 ,  0.16536262, -1.21924888, -5.3282428 , -8.4947053 ,\n",
       "       -6.2947462 , -3.13115542, -0.42789479, -0.04120171, -0.20974511,\n",
       "       -0.20974511, -0.04120171, -0.42789479, -3.13115542, -6.2947462 ,\n",
       "       -2.50534043, -0.34366246,  0.15376679,  0.05225781,  1.31746005,\n",
       "        1.31746005,  0.05225781,  0.15376679, -0.34366246, -2.50534043,\n",
       "        0.56906509,  1.55718609,  0.47096753, -0.1805154 ,  1.29153108,\n",
       "        1.29153108, -0.1805154 ,  0.47096753,  1.55718609,  0.56906509,\n",
       "        2.0554161 ,  2.65752918,  1.43227097,  0.1117507 ,  0.19666247,\n",
       "        0.19666247,  0.1117507 ,  1.43227097,  2.65752918,  2.0554161 ,\n",
       "        2.38238143,  3.21395048,  2.74354709,  1.29428595,  0.16270603,\n",
       "        0.16270603,  1.29428595,  2.74354709,  3.21395048,  2.38238143,\n",
       "        1.97743253,  2.77672721,  2.65008488,  1.25478641, -0.29700002,\n",
       "       -0.29700002,  1.25478641,  2.65008488,  2.77672721,  1.97743253,\n",
       "        1.19825688,  1.52167861,  1.07520625, -0.42355178, -1.97222296,\n",
       "       -1.97222296, -0.42355178,  1.07520625,  1.52167861,  1.19825688])"
      ]
     },
     "execution_count": 105,
     "metadata": {},
     "output_type": "execute_result"
    }
   ],
   "source": [
    "%run code/correlations.py\n",
    "C = Correlator()\n",
    "D = 10    # Mpc/h\n",
    "Rwall = 5 # Mpc/h\n",
    "Rfil = 5  # Mpc/h\n",
    "R = 5     # Mpc/h\n",
    "SKIP = np.inf\n",
    "KEEP = np.nan\n",
    "\n",
    "## Wall:\n",
    "# 0.14, 0.03, -1.25\n",
    "## Filament:\n",
    "# 0.025, -1.072, -1.505\n",
    "elements = [[0,0], [1,1], [2,2], [0,1], [0,2], [1,2]]\n",
    "\n",
    "# Tangential hessian\n",
    "H = [get_hessian([0, 0, 1], 0, [.5, 1.0, -1.25])[e1, e2] for e1, e2 in elements]\n",
    "sigmawall = sigma(0, Rwall)\n",
    "pos_walls = [[D, 0, 0]]\n",
    "nu1 = 0 # 0.5 / sigmawall\n",
    "C.add_point([D, 0, 0], ['delta', 'grad_delta', 'hessian'], Rwall, \n",
    "            constrains=dict(\n",
    "                grad_delta=[0, 0, 0], \n",
    "                hessian=H,\n",
    "                delta=[nu1]\n",
    "            ),\n",
    "            name='V_1') # This is wall 1\n",
    "\n",
    "theta = 2*np.pi/3\n",
    "pos = [D*np.cos(theta), D*np.sin(theta), 0]\n",
    "pos_walls.append(pos)\n",
    "H = [get_hessian([0, 0, 1], theta, [.5, 1.0, -1.25])[e1, e2] for e1, e2 in elements]\n",
    "nu2 = 0 # 0.4 / sigmawall\n",
    "C.add_point(pos, ['delta', 'grad_delta', 'hessian'], Rwall, \n",
    "            constrains=dict(\n",
    "                grad_delta=[0, 0, 0], \n",
    "                hessian=H,\n",
    "                delta=[nu2]\n",
    "            ),\n",
    "            name='V_2') # This is wall 2\n",
    "\n",
    "theta = -2*np.pi/3\n",
    "pos = [D*np.cos(theta), D*np.sin(theta), 0]\n",
    "pos_walls.append(pos)\n",
    "H = [get_hessian([0, 0, 1], theta, [.5, 1.0, -1.25])[e1, e2] for e1, e2 in elements]\n",
    "nu3 = 0 # 0.3 / sigmawall\n",
    "C.add_point(pos, ['delta', 'grad_delta', 'hessian'], Rwall, \n",
    "            constrains=dict(\n",
    "                grad_delta=[0, 0, 0], \n",
    "                hessian=H,\n",
    "                delta=[nu3]\n",
    "            ),\n",
    "            name='V_3') # This is wall 3\n",
    "\n",
    "sigmafil = sigma(0, Rfil)\n",
    "nuc = 2\n",
    "H = [get_hessian([0, 0, 1], 0, [0.025, -1.072, -1.505])[e1, e2] for e1, e2 in elements]\n",
    "C.add_point([0, 0, 0], ['delta', 'grad_delta'], Rwall, \n",
    "            constrains=dict(\n",
    "                grad_delta=[0, 0, 0], \n",
    "                #hessian=H,\n",
    "                delta=[nuc]\n",
    "            ),\n",
    "            name='V_2') # This is the filament\n",
    "\n",
    "X = Y = np.linspace(-2*D, 2*D, 10)\n",
    "\n",
    "XX = []\n",
    "YY = []\n",
    "for x in X:\n",
    "    for y in Y:\n",
    "        xyz = np.array([x, y, 0])\n",
    "        C.add_point(xyz, ['delta'], R)\n",
    "        XX.append(x)\n",
    "        YY.append(y)\n",
    "_ = C.cov_c\n",
    "C.mean_c"
   ]
  },
  {
   "cell_type": "code",
   "execution_count": 112,
   "metadata": {
    "ExecuteTime": {
     "end_time": "2018-03-05T17:09:00.151325Z",
     "start_time": "2018-03-05T17:09:00.144041Z"
    }
   },
   "outputs": [],
   "source": [
    "V = -5\n",
    "C.constrains[0] = V\n",
    "C.constrains[10] = V\n",
    "C.constrains[20] = V\n"
   ]
  },
  {
   "cell_type": "code",
   "execution_count": 113,
   "metadata": {
    "ExecuteTime": {
     "end_time": "2018-03-05T17:09:00.692888Z",
     "start_time": "2018-03-05T17:09:00.666933Z"
    }
   },
   "outputs": [],
   "source": [
    "from scipy.interpolate import interp2d\n",
    "mean_c = interp2d(XX, YY, C.mean_c, kind='quintic')"
   ]
  },
  {
   "cell_type": "code",
   "execution_count": 115,
   "metadata": {
    "ExecuteTime": {
     "end_time": "2018-03-05T17:09:12.840146Z",
     "start_time": "2018-03-05T17:09:11.504934Z"
    }
   },
   "outputs": [
    {
     "data": {
      "text/plain": [
       "<matplotlib.legend.Legend at 0x7f2713760ef0>"
      ]
     },
     "execution_count": 115,
     "metadata": {},
     "output_type": "execute_result"
    },
    {
     "data": {
      "image/png": "[encoded data removed]",
      "text/plain": [
       "<matplotlib.figure.Figure at 0x7f2714ba2fd0>"
      ]
     },
     "metadata": {},
     "output_type": "display_data"
    }
   ],
   "source": [
    "x = y = np.linspace(-2*D, 2*D, 200)\n",
    "plt.figure(figsize=(20, 15))\n",
    "kwa = dict(cmap = 'magma', vmin=V, vmax=2)\n",
    "plt.contour(x, y, mean_c(x, y), **kwa)\n",
    "# plt.contourf(x, y, mean_c(x, y))\n",
    "\n",
    "plt.pcolormesh(x, y, mean_c(x, y), **kwa)\n",
    "plt.colorbar()\n",
    "\n",
    "plt.scatter(*C.positions[[0, 10, 14], :2].T, label='Walls')\n",
    "plt.scatter(0, 0, label='Extrema')\n",
    "\n",
    "plt.legend()"
   ]
  },
  {
   "cell_type": "markdown",
   "metadata": {
    "extensions": {
     "jupyter_dashboards": {
      "version": 1,
      "views": {
       "grid_default": {
        "col": 0,
        "height": 4,
        "hidden": false,
        "row": 0,
        "width": null
       },
       "report_default": {}
      }
     }
    }
   },
   "source": [
    "# Two walls on a line, only $x$ terms"
   ]
  },
  {
   "cell_type": "code",
   "execution_count": null,
   "metadata": {
    "ExecuteTime": {
     "end_time": "2018-03-05T16:13:35.798186Z",
     "start_time": "2018-03-05T16:13:35.760Z"
    },
    "extensions": {
     "jupyter_dashboards": {
      "version": 1,
      "views": {
       "grid_default": {
        "col": 0,
        "height": 4,
        "hidden": false,
        "row": 4,
        "width": 4
       },
       "report_default": {}
      }
     }
    }
   },
   "outputs": [],
   "source": [
    "%run code/correlations.py\n",
    "C = Correlator()\n",
    "D = 15    # Mpc/h\n",
    "Rwall = 5 # Mpc/h\n",
    "Rfil = 5  # Mpc/h\n",
    "SKIP = np.inf\n",
    "KEEP = np.nan\n",
    "\n",
    "## Wall:\n",
    "# 0.14, 0.03, -1.25\n",
    "## Filament:\n",
    "# 0.025, -1.072, -1.505\n",
    "\n",
    "sigmawall = sigma(0, Rwall)\n",
    "nu1 = 0.5 / sigmawall\n",
    "C.add_point([-D, 0, 0], ['delta', 'grad_delta', 'hessian'], Rwall, \n",
    "            constrains=dict(\n",
    "                grad_delta=[0, SKIP, SKIP], \n",
    "                hessian=[0.14, SKIP, SKIP, SKIP, SKIP, SKIP],\n",
    "                #delta=[nu1]\n",
    "            ),\n",
    "            name='V_1') # This is wall 1\n",
    "\n",
    "nu2 = 0.1 / sigmawall\n",
    "C.add_point([+D, 0, 0], ['delta', 'grad_delta', 'hessian'], Rwall, \n",
    "            constrains=dict(\n",
    "                grad_delta=[0, SKIP, SKIP], \n",
    "                hessian=[0.14, SKIP, SKIP, SKIP, SKIP, SKIP],\n",
    "                #delta=[nu2]\n",
    "            ),\n",
    "            name='V_2') # This is wall 2\n",
    "\n",
    "sigmafil = sigma(0, Rfil)\n",
    "nuc = 1.2 / sigmafil\n",
    "C.add_point([0, 0, 0], ['delta', 'a'], Rfil, constrains=dict(\n",
    "    a=[KEEP, SKIP, SKIP],\n",
    "    grad_delta=[0, SKIP, SKIP], \n",
    "    hessian=[-1.505, SKIP, SKIP, SKIP, SKIP, SKIP],\n",
    "    #delta=[nuc]\n",
    "))\n",
    "\n",
    "_ = C.cov_c\n",
    "C.mean_c"
   ]
  },
  {
   "cell_type": "code",
   "execution_count": 55,
   "metadata": {
    "ExecuteTime": {
     "end_time": "2018-02-22T16:02:26.281751Z",
     "start_time": "2018-02-22T16:02:26.252395Z"
    },
    "extensions": {
     "jupyter_dashboards": {
      "version": 1,
      "views": {
       "grid_default": {
        "hidden": true
       },
       "report_default": {
        "hidden": true
       }
      }
     }
    }
   },
   "outputs": [
    {
     "data": {
      "text/markdown": [
       "\n",
       "| | $\\delta^{V_1}$ | $\\nabla_x \\delta^{V_1}$ | $\\nabla_y \\delta^{V_1}$ | $\\nabla_z \\delta^{V_1}$ | $h_{xx}^{V_1}$ | $h_{yy}^{V_1}$ | $h_{zz}^{V_1}$ | $h_{xy}^{V_1}$ | $h_{xz}^{V_1}$ | $h_{yz}^{V_1}$ | $\\delta^{V_2}$ | $\\nabla_x \\delta^{V_2}$ | $\\nabla_y \\delta^{V_2}$ | $\\nabla_z \\delta^{V_2}$ | $h_{xx}^{V_2}$ | $h_{yy}^{V_2}$ | $h_{zz}^{V_2}$ | $h_{xy}^{V_2}$ | $h_{xz}^{V_2}$ | $h_{yz}^{V_2}$ | $\\delta^{3}$ | $a_x^{3}$ | $a_y^{3}$ | $a_z^{3}$ |\n",
       "|-|-|--|--|--|--|--|--|--|--|--|--|--|--|--|--|--|--|--|--|--|--|--|--|-|\n",
       "|$\\delta^{V_1}$|$   1.00000$ | $          $ | $          $ | $          $ | $  -0.22669$ | $  -0.22669$ | $  -0.22669$ | $          $ | $          $ | $          $ | $   0.08736$ | $  -0.04582$ | $          $ | $          $ | $   0.01927$ | $  -0.00605$ | $  -0.00605$ | $          $ | $          $ | $          $ | $   0.39348$ | $  -0.21817$ | $          $ | $          $|\n",
       "|$\\nabla_x \\delta^{V_1}$|$          $ | $   0.22669$ | $          $ | $          $ | $          $ | $          $ | $          $ | $          $ | $          $ | $          $ | $   0.04582$ | $  -0.01927$ | $          $ | $          $ | $   0.01401$ | $  -0.00492$ | $  -0.00492$ | $          $ | $          $ | $          $ | $   0.23680$ | $   0.00535$ | $          $ | $          $|\n",
       "|$\\nabla_y \\delta^{V_1}$|$          $ | $          $ | $   0.22669$ | $          $ | $          $ | $          $ | $          $ | $          $ | $          $ | $          $ | $          $ | $          $ | $   0.00605$ | $          $ | $          $ | $          $ | $          $ | $  -0.00492$ | $          $ | $          $ | $          $ | $          $ | $   0.08474$ | $          $|\n",
       "|$\\nabla_z \\delta^{V_1}$|$          $ | $          $ | $          $ | $   0.22669$ | $          $ | $          $ | $          $ | $          $ | $          $ | $          $ | $          $ | $          $ | $          $ | $   0.00605$ | $          $ | $          $ | $          $ | $          $ | $  -0.00492$ | $          $ | $          $ | $          $ | $          $ | $   0.08474$|\n",
       "|$h_{xx}^{V_1}$|$  -0.22669$ | $          $ | $          $ | $          $ | $   0.20000$ | $   0.06667$ | $   0.06667$ | $          $ | $          $ | $          $ | $   0.01927$ | $  -0.01401$ | $          $ | $          $ | $   0.00768$ | $  -0.00315$ | $  -0.00315$ | $          $ | $          $ | $          $ | $   0.07984$ | $   0.02961$ | $          $ | $          $|\n",
       "|$h_{yy}^{V_1}$|$  -0.22669$ | $          $ | $          $ | $          $ | $   0.06667$ | $   0.20000$ | $   0.06667$ | $          $ | $          $ | $          $ | $  -0.00605$ | $   0.00492$ | $          $ | $          $ | $  -0.00315$ | $   0.00195$ | $   0.00065$ | $          $ | $          $ | $          $ | $  -0.06255$ | $   0.02097$ | $          $ | $          $|\n",
       "|$h_{zz}^{V_1}$|$  -0.22669$ | $          $ | $          $ | $          $ | $   0.06667$ | $   0.06667$ | $   0.20000$ | $          $ | $          $ | $          $ | $  -0.00605$ | $   0.00492$ | $          $ | $          $ | $  -0.00315$ | $   0.00065$ | $   0.00195$ | $          $ | $          $ | $          $ | $  -0.06255$ | $   0.02097$ | $          $ | $          $|\n",
       "|$h_{xy}^{V_1}$|$          $ | $          $ | $          $ | $          $ | $          $ | $          $ | $          $ | $   0.06667$ | $          $ | $          $ | $          $ | $          $ | $   0.00492$ | $          $ | $          $ | $          $ | $          $ | $  -0.00315$ | $          $ | $          $ | $          $ | $          $ | $   0.02097$ | $          $|\n",
       "|$h_{xz}^{V_1}$|$          $ | $          $ | $          $ | $          $ | $          $ | $          $ | $          $ | $          $ | $   0.06667$ | $          $ | $          $ | $          $ | $          $ | $   0.00492$ | $          $ | $          $ | $          $ | $          $ | $  -0.00315$ | $          $ | $          $ | $          $ | $          $ | $   0.02097$|\n",
       "|$h_{yz}^{V_1}$|$          $ | $          $ | $          $ | $          $ | $          $ | $          $ | $          $ | $          $ | $          $ | $   0.06667$ | $          $ | $          $ | $          $ | $          $ | $          $ | $          $ | $          $ | $          $ | $          $ | $   0.00065$ | $          $ | $          $ | $          $ | $          $|\n",
       "|$\\delta^{V_2}$|$   0.08736$ | $   0.04582$ | $          $ | $          $ | $   0.01927$ | $  -0.00605$ | $  -0.00605$ | $          $ | $          $ | $          $ | $   1.00000$ | $          $ | $          $ | $          $ | $  -0.22669$ | $  -0.22669$ | $  -0.22669$ | $          $ | $          $ | $          $ | $   0.39348$ | $   0.21817$ | $          $ | $          $|\n",
       "|$\\nabla_x \\delta^{V_2}$|$  -0.04582$ | $  -0.01927$ | $          $ | $          $ | $  -0.01401$ | $   0.00492$ | $   0.00492$ | $          $ | $          $ | $          $ | $          $ | $   0.22669$ | $          $ | $          $ | $          $ | $          $ | $          $ | $          $ | $          $ | $          $ | $  -0.23680$ | $   0.00535$ | $          $ | $          $|\n",
       "|$\\nabla_y \\delta^{V_2}$|$          $ | $          $ | $   0.00605$ | $          $ | $          $ | $          $ | $          $ | $   0.00492$ | $          $ | $          $ | $          $ | $          $ | $   0.22669$ | $          $ | $          $ | $          $ | $          $ | $          $ | $          $ | $          $ | $          $ | $          $ | $   0.08474$ | $          $|\n",
       "|$\\nabla_z \\delta^{V_2}$|$          $ | $          $ | $          $ | $   0.00605$ | $          $ | $          $ | $          $ | $          $ | $   0.00492$ | $          $ | $          $ | $          $ | $          $ | $   0.22669$ | $          $ | $          $ | $          $ | $          $ | $          $ | $          $ | $          $ | $          $ | $          $ | $   0.08474$|\n",
       "|$h_{xx}^{V_2}$|$   0.01927$ | $   0.01401$ | $          $ | $          $ | $   0.00768$ | $  -0.00315$ | $  -0.00315$ | $          $ | $          $ | $          $ | $  -0.22669$ | $          $ | $          $ | $          $ | $   0.20000$ | $   0.06667$ | $   0.06667$ | $          $ | $          $ | $          $ | $   0.07984$ | $  -0.02961$ | $          $ | $          $|\n",
       "|$h_{yy}^{V_2}$|$  -0.00605$ | $  -0.00492$ | $          $ | $          $ | $  -0.00315$ | $   0.00195$ | $   0.00065$ | $          $ | $          $ | $          $ | $  -0.22669$ | $          $ | $          $ | $          $ | $   0.06667$ | $   0.20000$ | $   0.06667$ | $          $ | $          $ | $          $ | $  -0.06255$ | $  -0.02097$ | $          $ | $          $|\n",
       "|$h_{zz}^{V_2}$|$  -0.00605$ | $  -0.00492$ | $          $ | $          $ | $  -0.00315$ | $   0.00065$ | $   0.00195$ | $          $ | $          $ | $          $ | $  -0.22669$ | $          $ | $          $ | $          $ | $   0.06667$ | $   0.06667$ | $   0.20000$ | $          $ | $          $ | $          $ | $  -0.06255$ | $  -0.02097$ | $          $ | $          $|\n",
       "|$h_{xy}^{V_2}$|$          $ | $          $ | $  -0.00492$ | $          $ | $          $ | $          $ | $          $ | $  -0.00315$ | $          $ | $          $ | $          $ | $          $ | $          $ | $          $ | $          $ | $          $ | $          $ | $   0.06667$ | $          $ | $          $ | $          $ | $          $ | $  -0.02097$ | $          $|\n",
       "|$h_{xz}^{V_2}$|$          $ | $          $ | $          $ | $  -0.00492$ | $          $ | $          $ | $          $ | $          $ | $  -0.00315$ | $          $ | $          $ | $          $ | $          $ | $          $ | $          $ | $          $ | $          $ | $          $ | $   0.06667$ | $          $ | $          $ | $          $ | $          $ | $  -0.02097$|\n",
       "|$h_{yz}^{V_2}$|$          $ | $          $ | $          $ | $          $ | $          $ | $          $ | $          $ | $          $ | $          $ | $   0.00065$ | $          $ | $          $ | $          $ | $          $ | $          $ | $          $ | $          $ | $          $ | $          $ | $   0.06667$ | $          $ | $          $ | $          $ | $          $|\n",
       "|$\\delta^{3}$|$   0.39348$ | $   0.23680$ | $          $ | $          $ | $   0.07984$ | $  -0.06255$ | $  -0.06255$ | $          $ | $          $ | $          $ | $   0.39348$ | $  -0.23680$ | $          $ | $          $ | $   0.07984$ | $  -0.06255$ | $  -0.06255$ | $          $ | $          $ | $          $ | $   1.00000$ | $          $ | $          $ | $          $|\n",
       "|$a_x^{3}$|$  -0.21817$ | $   0.00535$ | $          $ | $          $ | $   0.02961$ | $   0.02097$ | $   0.02097$ | $          $ | $          $ | $          $ | $   0.21817$ | $   0.00535$ | $          $ | $          $ | $  -0.02961$ | $  -0.02097$ | $  -0.02097$ | $          $ | $          $ | $          $ | $          $ | $   0.33333$ | $          $ | $          $|\n",
       "|$a_y^{3}$|$          $ | $          $ | $   0.08474$ | $          $ | $          $ | $          $ | $          $ | $   0.02097$ | $          $ | $          $ | $          $ | $          $ | $   0.08474$ | $          $ | $          $ | $          $ | $          $ | $  -0.02097$ | $          $ | $          $ | $          $ | $          $ | $   0.33333$ | $          $|\n",
       "|$a_z^{3}$|$          $ | $          $ | $          $ | $   0.08474$ | $          $ | $          $ | $          $ | $          $ | $   0.02097$ | $          $ | $          $ | $          $ | $          $ | $   0.08474$ | $          $ | $          $ | $          $ | $          $ | $  -0.02097$ | $          $ | $          $ | $          $ | $          $ | $   0.33333$|\n"
      ],
      "text/plain": [
       "<IPython.core.display.Markdown object>"
      ]
     },
     "metadata": {},
     "output_type": "display_data"
    }
   ],
   "source": [
    "C.describe_table()"
   ]
  },
  {
   "cell_type": "code",
   "execution_count": 10,
   "metadata": {
    "ExecuteTime": {
     "end_time": "2018-02-22T15:30:20.197241Z",
     "start_time": "2018-02-22T15:30:20.190976Z"
    },
    "extensions": {
     "jupyter_dashboards": {
      "version": 1,
      "views": {
       "grid_default": {
        "col": 4,
        "height": 7,
        "hidden": false,
        "row": 4,
        "width": null
       },
       "report_default": {}
      }
     }
    }
   },
   "outputs": [
    {
     "data": {
      "text/markdown": [
       "\n",
       "| | $\\delta^{V_1}$ | $\\delta^{V_2}$ | $\\delta^{3}$ | $a_x^{3}$ |\n",
       "|-|-|--|--|-|\n",
       "|$\\delta^{V_1}$|$   0.74068$ | $   0.05408$ | $   0.28919$ | $  -0.19943$|\n",
       "|$\\delta^{V_2}$|$   0.05408$ | $   0.74068$ | $   0.28919$ | $   0.19943$|\n",
       "|$\\delta^{3}$|$   0.28919$ | $   0.28919$ | $   0.78881$ | $          $|\n",
       "|$a_x^{3}$|$  -0.19943$ | $   0.19943$ | $          $ | $   0.32879$|\n"
      ],
      "text/plain": [
       "<IPython.core.display.Markdown object>"
      ]
     },
     "metadata": {},
     "output_type": "display_data"
    }
   ],
   "source": [
    "C.describe_table(constrained=True)"
   ]
  },
  {
   "cell_type": "code",
   "execution_count": 15,
   "metadata": {
    "ExecuteTime": {
     "end_time": "2018-02-22T15:48:45.255289Z",
     "start_time": "2018-02-22T15:48:45.230377Z"
    }
   },
   "outputs": [
    {
     "data": {
      "text/plain": [
       "(6.68076686765296e-18, -0.09166966450070903, 0.091669664500709)"
      ]
     },
     "execution_count": 15,
     "metadata": {},
     "output_type": "execute_result"
    }
   ],
   "source": [
    "cov_c = C.cov_c\n",
    "nu0term = ((-cov_c[0, 2] * cov_c[1, 1] + cov_c[0, 0]*  cov_c[1, 2] + \n",
    "     cov_c[0, 1] * (-cov_c[0, 2] + cov_c[1, 2])) * cov_c[3, \n",
    "    0] + (-cov_c[0, 1]**2 + cov_c[0, 0] * cov_c[1, 1]) * cov_c[3, 2])\n",
    "nu2term =  ((cov_c[0, 2]**2 + \n",
    "     cov_c[0, 2] * cov_c[1, 2] - (cov_c[0, 0] + cov_c[0, 1]) * cov_c[2, \n",
    "       2]) * cov_c[3, 0] + (cov_c[0, 1] * cov_c[0, 2] - cov_c[0, 0] * cov_c[1, 2]) * cov_c[3, \n",
    "    2])\n",
    "nu1term = ((-cov_c[0, 2] * cov_c[1, 2] - \n",
    "     cov_c[1, 2]**2 + (cov_c[0, 1] + cov_c[1, 1]) * cov_c[2, 2]) * cov_c[3,\n",
    "     0] + (-cov_c[0, 2] * cov_c[1, 1] + cov_c[0, 1] * cov_c[1, 2]) * cov_c[\n",
    "    3, 2])\n",
    "nu0term, nu1term, nu2term"
   ]
  },
  {
   "cell_type": "code",
   "execution_count": 16,
   "metadata": {
    "ExecuteTime": {
     "end_time": "2018-02-22T15:50:09.613720Z",
     "start_time": "2018-02-22T15:50:05.082306Z"
    },
    "extensions": {
     "jupyter_dashboards": {
      "version": 1,
      "views": {
       "grid_default": {
        "hidden": true
       },
       "report_default": {
        "hidden": true
       }
      }
     }
    }
   },
   "outputs": [
    {
     "name": "stderr",
     "output_type": "stream",
     "text": [
      "24x24: 100%|██████████| 300/300 [00:04<00:00, 67.20it/s]\n"
     ]
    },
    {
     "data": {
      "text/plain": [
       "array([0.76097952, 0.76097952, 0.64361383, 0.        ])"
      ]
     },
     "execution_count": 16,
     "metadata": {},
     "output_type": "execute_result"
    }
   ],
   "source": [
    "%run code/correlations.py\n",
    "C2 = Correlator()\n",
    "D = 20    # Mpc/h\n",
    "Rwall = 5 # Mpc/h\n",
    "Rfil = 5  # Mpc/h\n",
    "SKIP = np.inf\n",
    "KEEP = np.nan\n",
    "\n",
    "## Wall:\n",
    "# 0.14, 0.03, -1.25\n",
    "## Filament:\n",
    "# 0.025, -1.072, -1.505\n",
    "sigmawall = sigma(0, Rwall)\n",
    "nu1 = 0.5 / sigmawall\n",
    "C2.add_point([-D, 0, 0], ['delta', 'grad_delta', 'hessian'], Rwall, \n",
    "            constrains=dict(\n",
    "                grad_delta=[0, 0, 0], \n",
    "                hessian=[0.14, 0.03, -1.25, 0, 0, 0],\n",
    "                #delta=[nu1]\n",
    "            ),\n",
    "            name='V_1') # This is wall 1\n",
    "\n",
    "nu2 = 0.1 / sigmawall\n",
    "C2.add_point([+D, 0, 0], ['delta', 'grad_delta', 'hessian'], Rwall, \n",
    "            constrains=dict(\n",
    "                grad_delta=[0, 0, 0], \n",
    "                hessian=[0.14, 0.03, -1.25, 0, 0, 0],\n",
    "                #delta=[nu2]\n",
    "            ),\n",
    "            name='V_2') # This is wall 2\n",
    "\n",
    "sigmafil = sigma(0, Rfil)\n",
    "nuc = 1.2 / sigmafil\n",
    "C2.add_point([0, 0, 0], ['delta', 'a'], Rfil, constrains=dict(\n",
    "    a=[KEEP, SKIP, SKIP],\n",
    "    grad_delta=[0, 0, 0], \n",
    "    hessian=[-1.505, -1.072, 0.025 , 0, 0, 0],\n",
    "    #delta=[nuc]\n",
    "))\n",
    "\n",
    "_ = C2.cov_c\n",
    "C2.mean_c"
   ]
  },
  {
   "cell_type": "code",
   "execution_count": 17,
   "metadata": {
    "ExecuteTime": {
     "end_time": "2018-02-22T15:50:09.645341Z",
     "start_time": "2018-02-22T15:50:09.615288Z"
    },
    "extensions": {
     "jupyter_dashboards": {
      "version": 1,
      "views": {
       "grid_default": {
        "hidden": true
       },
       "report_default": {
        "hidden": true
       }
      }
     }
    }
   },
   "outputs": [
    {
     "data": {
      "text/markdown": [
       "\n",
       "| | $\\delta^{V_1}$ | $\\delta^{V_2}$ | $\\delta^{3}$ | $a_x^{3}$ |\n",
       "|-|-|--|--|-|\n",
       "|$\\delta^{V_1}$|$   0.53568$ | $   0.04164$ | $   0.22281$ | $  -0.18297$|\n",
       "|$\\delta^{V_2}$|$   0.04164$ | $   0.53568$ | $   0.22281$ | $   0.18297$|\n",
       "|$\\delta^{3}$|$   0.22281$ | $   0.22281$ | $   0.74827$ | $          $|\n",
       "|$a_x^{3}$|$  -0.18297$ | $   0.18297$ | $          $ | $   0.32597$|\n"
      ],
      "text/plain": [
       "<IPython.core.display.Markdown object>"
      ]
     },
     "metadata": {},
     "output_type": "display_data"
    }
   ],
   "source": [
    "C2.describe_table(constrained=True)"
   ]
  },
  {
   "cell_type": "code",
   "execution_count": 18,
   "metadata": {
    "ExecuteTime": {
     "end_time": "2018-02-22T15:50:09.691780Z",
     "start_time": "2018-02-22T15:50:09.658136Z"
    }
   },
   "outputs": [
    {
     "data": {
      "text/plain": [
       "(-1.2144194386415563e-17, -0.060876741043753166, 0.060876741043753194)"
      ]
     },
     "execution_count": 18,
     "metadata": {},
     "output_type": "execute_result"
    }
   ],
   "source": [
    "cov_c = C2.cov_c\n",
    "nu0term = ((-cov_c[0, 2] * cov_c[1, 1] + cov_c[0, 0]*  cov_c[1, 2] + \n",
    "     cov_c[0, 1] * (-cov_c[0, 2] + cov_c[1, 2])) * cov_c[3, \n",
    "    0] + (-cov_c[0, 1]**2 + cov_c[0, 0] * cov_c[1, 1]) * cov_c[3, 2])\n",
    "nu2term =  ((cov_c[0, 2]**2 + \n",
    "     cov_c[0, 2] * cov_c[1, 2] - (cov_c[0, 0] + cov_c[0, 1]) * cov_c[2, \n",
    "       2]) * cov_c[3, 0] + (cov_c[0, 1] * cov_c[0, 2] - cov_c[0, 0] * cov_c[1, 2]) * cov_c[3, \n",
    "    2])\n",
    "nu1term = ((-cov_c[0, 2] * cov_c[1, 2] - \n",
    "     cov_c[1, 2]**2 + (cov_c[0, 1] + cov_c[1, 1]) * cov_c[2, 2]) * cov_c[3,\n",
    "     0] + (-cov_c[0, 2] * cov_c[1, 1] + cov_c[0, 1] * cov_c[1, 2]) * cov_c[\n",
    "    3, 2])\n",
    "nu0term, nu1term, nu2term"
   ]
  },
  {
   "cell_type": "markdown",
   "metadata": {
    "extensions": {
     "jupyter_dashboards": {
      "version": 1,
      "views": {
       "grid_default": {
        "col": 0,
        "height": 4,
        "hidden": false,
        "row": 8,
        "width": 4
       },
       "report_default": {}
      }
     }
    }
   },
   "source": [
    "# Two walls on a line"
   ]
  },
  {
   "cell_type": "code",
   "execution_count": 48,
   "metadata": {
    "ExecuteTime": {
     "end_time": "2018-02-19T16:59:53.441169Z",
     "start_time": "2018-02-19T16:59:39.622851Z"
    },
    "extensions": {
     "jupyter_dashboards": {
      "version": 1,
      "views": {
       "grid_default": {
        "col": 4,
        "height": 4,
        "hidden": false,
        "row": 11,
        "width": 4
       },
       "report_default": {}
      }
     }
    }
   },
   "outputs": [
    {
     "name": "stderr",
     "output_type": "stream",
     "text": [
      "29x29: 100%|██████████| 435/435 [00:13<00:00, 31.69it/s]"
     ]
    },
    {
     "name": "stdout",
     "output_type": "stream",
     "text": [
      "WARNING: the covariance matrix is not positive definite.\n"
     ]
    },
    {
     "name": "stderr",
     "output_type": "stream",
     "text": [
      "\n"
     ]
    }
   ],
   "source": [
    "%run code/correlations.py\n",
    "C = Correlator()\n",
    "D = 20    # Mpc/h\n",
    "Rwall = 5 # Mpc/h\n",
    "Rfil = 5  # Mpc/h\n",
    "cons = dict(\n",
    "    grad_delta=[0, 0, 0], \n",
    "    hessian=[np.nan, np.nan, np.nan, 0, 0, 0])\n",
    "\n",
    "sigmawall = sigma(0, Rwall)\n",
    "nu1 = 0.5 / sigmawall\n",
    "cons.update(delta=[ nu1])\n",
    "C.add_point([-D, 0, 0], ['delta', 'grad_delta', 'hessian'], Rwall, \n",
    "            constrains=cons,\n",
    "            name='V_1') # This is wall 1\n",
    "\n",
    "nu2 = 0.1 / sigmawall\n",
    "cons.update(delta=[ nu2])\n",
    "C.add_point([+D, 0, 0], ['delta', 'grad_delta', 'hessian'], Rwall, \n",
    "            constrains=cons,\n",
    "            name='V_2') # This is wall 2\n",
    "\n",
    "sigmafil = sigma(0, Rfil)\n",
    "nuc = 1.2 / sigmafil\n",
    "ptCons = cons.copy()\n",
    "ptCons['delta'] = [nuc]\n",
    "C.add_point([0, 0, 0], ['delta'], Rfil, constrains=ptCons)\n",
    "\n",
    "Npt = 8\n",
    "pos = np.linspace(-D, D, Npt+1, endpoint=False)[1:]\n",
    "if 0 in pos:\n",
    "    print('Running into problems, you have twice the same point.')\n",
    "\n",
    "for x in pos:\n",
    "    ptCons = cons.copy()\n",
    "    C.add_point([x, 0, 0], ['delta'], Rfil)\n",
    "_ = C.cov"
   ]
  },
  {
   "cell_type": "code",
   "execution_count": 45,
   "metadata": {
    "ExecuteTime": {
     "end_time": "2018-02-19T16:58:31.849432Z",
     "start_time": "2018-02-19T16:58:30.436104Z"
    },
    "extensions": {
     "jupyter_dashboards": {
      "version": 1,
      "views": {
       "grid_default": {
        "col": 8,
        "height": 18,
        "hidden": false,
        "row": 11,
        "width": 4
       },
       "report_default": {}
      }
     }
    }
   },
   "outputs": [
    {
     "data": {
      "image/png": "[encoded data removed]",
      "text/plain": [
       "<matplotlib.figure.Figure at 0x7fd524ef0518>"
      ]
     },
     "metadata": {},
     "output_type": "display_data"
    }
   ],
   "source": [
    "plt.figure(figsize=(15, 15))\n",
    "C.plot_cov()"
   ]
  },
  {
   "cell_type": "code",
   "execution_count": 37,
   "metadata": {
    "ExecuteTime": {
     "end_time": "2018-02-19T16:56:49.402454Z",
     "start_time": "2018-02-19T16:56:49.017886Z"
    },
    "extensions": {
     "jupyter_dashboards": {
      "version": 1,
      "views": {
       "grid_default": {
        "col": 0,
        "height": 14,
        "hidden": false,
        "row": 12,
        "width": 4
       },
       "report_default": {}
      }
     }
    }
   },
   "outputs": [
    {
     "data": {
      "text/plain": [
       "<matplotlib.collections.PathCollection at 0x7fd525001d30>"
      ]
     },
     "execution_count": 37,
     "metadata": {},
     "output_type": "execute_result"
    },
    {
     "data": {
      "image/png": "[encoded data removed]",
      "text/plain": [
       "<matplotlib.figure.Figure at 0x7fd524074128>"
      ]
     },
     "metadata": {},
     "output_type": "display_data"
    }
   ],
   "source": [
    "plt.plot(pos, C.mean_c[-Npt:])\n",
    "plt.scatter(-D, nu1)\n",
    "plt.scatter(D, nu2)\n",
    "plt.scatter(0, nuf)"
   ]
  },
  {
   "cell_type": "markdown",
   "metadata": {
    "extensions": {
     "jupyter_dashboards": {
      "version": 1,
      "views": {
       "grid_default": {
        "col": 4,
        "height": 4,
        "hidden": false,
        "row": 15,
        "width": 4
       },
       "report_default": {}
      }
     }
    }
   },
   "source": [
    "# Debugging"
   ]
  },
  {
   "cell_type": "code",
   "execution_count": 55,
   "metadata": {
    "ExecuteTime": {
     "end_time": "2018-02-20T12:01:51.857593Z",
     "start_time": "2018-02-20T12:01:50.823074Z"
    },
    "extensions": {
     "jupyter_dashboards": {
      "version": 1,
      "views": {
       "grid_default": {
        "hidden": true
       },
       "report_default": {}
      }
     }
    }
   },
   "outputs": [
    {
     "name": "stderr",
     "output_type": "stream",
     "text": [
      "9x9: 100%|██████████| 45/45 [00:00<00:00, 45.39it/s]\n"
     ]
    }
   ],
   "source": [
    "%run code/correlations.py\n",
    "C = Correlator()\n",
    "D = 0.5    # Mpc/h\n",
    "Rwall = 5 # Mpc/h\n",
    "Rfil = 5  # Mpc/h\n",
    "\n",
    "C.add_point([0, 0, 0], ['a'], Rfil)\n",
    "C.add_point([D, 0, 0], ['hessian'], Rwall) \n",
    "_ = C.cov"
   ]
  },
  {
   "cell_type": "code",
   "execution_count": 56,
   "metadata": {
    "ExecuteTime": {
     "end_time": "2018-02-20T12:01:52.395612Z",
     "start_time": "2018-02-20T12:01:52.388454Z"
    },
    "extensions": {
     "jupyter_dashboards": {
      "version": 1,
      "views": {
       "grid_default": {
        "col": 0,
        "height": 15,
        "hidden": false,
        "row": 29,
        "width": null
       },
       "report_default": {}
      }
     }
    },
    "scrolled": true
   },
   "outputs": [
    {
     "data": {
      "text/markdown": [
       "\n",
       "| | $a_x^{1}$ | $a_y^{1}$ | $a_z^{1}$ | $h_{xx}^{2}$ | $h_{yy}^{2}$ | $h_{zz}^{2}$ | $h_{xy}^{2}$ | $h_{xz}^{2}$ | $h_{yz}^{2}$ |\n",
       "|-|-|--|--|--|--|--|--|--|-|\n",
       "|$a_x^{1}$|$   0.33333$ | $          $ | $          $ | $  -0.00518$ | $  -0.00173$ | $  -0.00173$ | $          $ | $          $ | $          $|\n",
       "|$a_y^{1}$|$          $ | $   0.33333$ | $          $ | $          $ | $          $ | $          $ | $  -0.00173$ | $          $ | $          $|\n",
       "|$a_z^{1}$|$          $ | $          $ | $   0.33333$ | $          $ | $          $ | $          $ | $          $ | $  -0.00173$ | $          $|\n",
       "|$h_{xx}^{2}$|$  -0.00518$ | $          $ | $          $ | $   0.20000$ | $   0.06667$ | $   0.06667$ | $          $ | $          $ | $          $|\n",
       "|$h_{yy}^{2}$|$  -0.00173$ | $          $ | $          $ | $   0.06667$ | $   0.20000$ | $   0.06667$ | $          $ | $          $ | $          $|\n",
       "|$h_{zz}^{2}$|$  -0.00173$ | $          $ | $          $ | $   0.06667$ | $   0.06667$ | $   0.20000$ | $          $ | $          $ | $          $|\n",
       "|$h_{xy}^{2}$|$          $ | $  -0.00173$ | $          $ | $          $ | $          $ | $          $ | $   0.06667$ | $          $ | $          $|\n",
       "|$h_{xz}^{2}$|$          $ | $          $ | $  -0.00173$ | $          $ | $          $ | $          $ | $          $ | $   0.06667$ | $          $|\n",
       "|$h_{yz}^{2}$|$          $ | $          $ | $          $ | $          $ | $          $ | $          $ | $          $ | $          $ | $   0.06667$|\n"
      ],
      "text/plain": [
       "<IPython.core.display.Markdown object>"
      ]
     },
     "metadata": {},
     "output_type": "display_data"
    },
    {
     "data": {
      "text/plain": [
       "<IPython.core.display.Markdown object>"
      ]
     },
     "metadata": {},
     "output_type": "display_data"
    }
   ],
   "source": [
    "from IPython.display import display, Markdown \n",
    "#order = [0, 4,5,6, 1,2,3, 7,8,9, 10, 14,15,16, 11,12,13, 17,18,19]\n",
    "display(Markdown(C.describe_table()))"
   ]
  },
  {
   "cell_type": "code",
   "execution_count": 40,
   "metadata": {
    "ExecuteTime": {
     "end_time": "2018-02-20T09:52:35.588909Z",
     "start_time": "2018-02-20T09:52:35.465740Z"
    },
    "extensions": {
     "jupyter_dashboards": {
      "version": 1,
      "views": {
       "grid_default": {
        "col": 0,
        "height": 19,
        "hidden": false,
        "row": 44,
        "width": 4
       },
       "report_default": {}
      }
     }
    }
   },
   "outputs": [
    {
     "data": {
      "application/javascript": [
       "/* Put everything inside the global mpl namespace */\n",
       "window.mpl = {};\n",
       "\n",
       "\n",
       "mpl.get_websocket_type = function() {\n",
       "    if (typeof(WebSocket) !== 'undefined') {\n",
       "        return WebSocket;\n",
       "    } else if (typeof(MozWebSocket) !== 'undefined') {\n",
       "        return MozWebSocket;\n",
       "    } else {\n",
       "        alert('Your browser does not have WebSocket support.' +\n",
       "              'Please try Chrome, Safari or Firefox ≥ 6. ' +\n",
       "              'Firefox 4 and 5 are also supported but you ' +\n",
       "              'have to enable WebSockets in about:config.');\n",
       "    };\n",
       "}\n",
       "\n",
       "mpl.figure = function(figure_id, websocket, ondownload, parent_element) {\n",
       "    this.id = figure_id;\n",
       "\n",
       "    this.ws = websocket;\n",
       "\n",
       "    this.supports_binary = (this.ws.binaryType != undefined);\n",
       "\n",
       "    if (!this.supports_binary) {\n",
       "        var warnings = document.getElementById(\"mpl-warnings\");\n",
       "        if (warnings) {\n",
       "            warnings.style.display = 'block';\n",
       "            warnings.textContent = (\n",
       "                \"This browser does not support binary websocket messages. \" +\n",
       "                    \"Performance may be slow.\");\n",
       "        }\n",
       "    }\n",
       "\n",
       "    this.imageObj = new Image();\n",
       "\n",
       "    this.context = undefined;\n",
       "    this.message = undefined;\n",
       "    this.canvas = undefined;\n",
       "    this.rubberband_canvas = undefined;\n",
       "    this.rubberband_context = undefined;\n",
       "    this.format_dropdown = undefined;\n",
       "\n",
       "    this.image_mode = 'full';\n",
       "\n",
       "    this.root = $('<div/>');\n",
       "    this._root_extra_style(this.root)\n",
       "    this.root.attr('style', 'display: inline-block');\n",
       "\n",
       "    $(parent_element).append(this.root);\n",
       "\n",
       "    this._init_header(this);\n",
       "    this._init_canvas(this);\n",
       "    this._init_toolbar(this);\n",
       "\n",
       "    var fig = this;\n",
       "\n",
       "    this.waiting = false;\n",
       "\n",
       "    this.ws.onopen =  function () {\n",
       "            fig.send_message(\"supports_binary\", {value: fig.supports_binary});\n",
       "            fig.send_message(\"send_image_mode\", {});\n",
       "            if (mpl.ratio != 1) {\n",
       "                fig.send_message(\"set_dpi_ratio\", {'dpi_ratio': mpl.ratio});\n",
       "            }\n",
       "            fig.send_message(\"refresh\", {});\n",
       "        }\n",
       "\n",
       "    this.imageObj.onload = function() {\n",
       "            if (fig.image_mode == 'full') {\n",
       "                // Full images could contain transparency (where diff images\n",
       "                // almost always do), so we need to clear the canvas so that\n",
       "                // there is no ghosting.\n",
       "                fig.context.clearRect(0, 0, fig.canvas.width, fig.canvas.height);\n",
       "            }\n",
       "            fig.context.drawImage(fig.imageObj, 0, 0);\n",
       "        };\n",
       "\n",
       "    this.imageObj.onunload = function() {\n",
       "        fig.ws.close();\n",
       "    }\n",
       "\n",
       "    this.ws.onmessage = this._make_on_message_function(this);\n",
       "\n",
       "    this.ondownload = ondownload;\n",
       "}\n",
       "\n",
       "mpl.figure.prototype._init_header = function() {\n",
       "    var titlebar = $(\n",
       "        '<div class=\"ui-dialog-titlebar ui-widget-header ui-corner-all ' +\n",
       "        'ui-helper-clearfix\"/>');\n",
       "    var titletext = $(\n",
       "        '<div class=\"ui-dialog-title\" style=\"width: 100%; ' +\n",
       "        'text-align: center; padding: 3px;\"/>');\n",
       "    titlebar.append(titletext)\n",
       "    this.root.append(titlebar);\n",
       "    this.header = titletext[0];\n",
       "}\n",
       "\n",
       "\n",
       "\n",
       "mpl.figure.prototype._canvas_extra_style = function(canvas_div) {\n",
       "\n",
       "}\n",
       "\n",
       "\n",
       "mpl.figure.prototype._root_extra_style = function(canvas_div) {\n",
       "\n",
       "}\n",
       "\n",
       "mpl.figure.prototype._init_canvas = function() {\n",
       "    var fig = this;\n",
       "\n",
       "    var canvas_div = $('<div/>');\n",
       "\n",
       "    canvas_div.attr('style', 'position: relative; clear: both; outline: 0');\n",
       "\n",
       "    function canvas_keyboard_event(event) {\n",
       "        return fig.key_event(event, event['data']);\n",
       "    }\n",
       "\n",
       "    canvas_div.keydown('key_press', canvas_keyboard_event);\n",
       "    canvas_div.keyup('key_release', canvas_keyboard_event);\n",
       "    this.canvas_div = canvas_div\n",
       "    this._canvas_extra_style(canvas_div)\n",
       "    this.root.append(canvas_div);\n",
       "\n",
       "    var canvas = $('<canvas/>');\n",
       "    canvas.addClass('mpl-canvas');\n",
       "    canvas.attr('style', \"left: 0; top: 0; z-index: 0; outline: 0\")\n",
       "\n",
       "    this.canvas = canvas[0];\n",
       "    this.context = canvas[0].getContext(\"2d\");\n",
       "\n",
       "    var backingStore = this.context.backingStorePixelRatio ||\n",
       "\tthis.context.webkitBackingStorePixelRatio ||\n",
       "\tthis.context.mozBackingStorePixelRatio ||\n",
       "\tthis.context.msBackingStorePixelRatio ||\n",
       "\tthis.context.oBackingStorePixelRatio ||\n",
       "\tthis.context.backingStorePixelRatio || 1;\n",
       "\n",
       "    mpl.ratio = (window.devicePixelRatio || 1) / backingStore;\n",
       "\n",
       "    var rubberband = $('<canvas/>');\n",
       "    rubberband.attr('style', \"position: absolute; left: 0; top: 0; z-index: 1;\")\n",
       "\n",
       "    var pass_mouse_events = true;\n",
       "\n",
       "    canvas_div.resizable({\n",
       "        start: function(event, ui) {\n",
       "            pass_mouse_events = false;\n",
       "        },\n",
       "        resize: function(event, ui) {\n",
       "            fig.request_resize(ui.size.width, ui.size.height);\n",
       "        },\n",
       "        stop: function(event, ui) {\n",
       "            pass_mouse_events = true;\n",
       "            fig.request_resize(ui.size.width, ui.size.height);\n",
       "        },\n",
       "    });\n",
       "\n",
       "    function mouse_event_fn(event) {\n",
       "        if (pass_mouse_events)\n",
       "            return fig.mouse_event(event, event['data']);\n",
       "    }\n",
       "\n",
       "    rubberband.mousedown('button_press', mouse_event_fn);\n",
       "    rubberband.mouseup('button_release', mouse_event_fn);\n",
       "    // Throttle sequential mouse events to 1 every 20ms.\n",
       "    rubberband.mousemove('motion_notify', mouse_event_fn);\n",
       "\n",
       "    rubberband.mouseenter('figure_enter', mouse_event_fn);\n",
       "    rubberband.mouseleave('figure_leave', mouse_event_fn);\n",
       "\n",
       "    canvas_div.on(\"wheel\", function (event) {\n",
       "        event = event.originalEvent;\n",
       "        event['data'] = 'scroll'\n",
       "        if (event.deltaY < 0) {\n",
       "            event.step = 1;\n",
       "        } else {\n",
       "            event.step = -1;\n",
       "        }\n",
       "        mouse_event_fn(event);\n",
       "    });\n",
       "\n",
       "    canvas_div.append(canvas);\n",
       "    canvas_div.append(rubberband);\n",
       "\n",
       "    this.rubberband = rubberband;\n",
       "    this.rubberband_canvas = rubberband[0];\n",
       "    this.rubberband_context = rubberband[0].getContext(\"2d\");\n",
       "    this.rubberband_context.strokeStyle = \"#000000\";\n",
       "\n",
       "    this._resize_canvas = function(width, height) {\n",
       "        // Keep the size of the canvas, canvas container, and rubber band\n",
       "        // canvas in synch.\n",
       "        canvas_div.css('width', width)\n",
       "        canvas_div.css('height', height)\n",
       "\n",
       "        canvas.attr('width', width * mpl.ratio);\n",
       "        canvas.attr('height', height * mpl.ratio);\n",
       "        canvas.attr('style', 'width: ' + width + 'px; height: ' + height + 'px;');\n",
       "\n",
       "        rubberband.attr('width', width);\n",
       "        rubberband.attr('height', height);\n",
       "    }\n",
       "\n",
       "    // Set the figure to an initial 600x600px, this will subsequently be updated\n",
       "    // upon first draw.\n",
       "    this._resize_canvas(600, 600);\n",
       "\n",
       "    // Disable right mouse context menu.\n",
       "    $(this.rubberband_canvas).bind(\"contextmenu\",function(e){\n",
       "        return false;\n",
       "    });\n",
       "\n",
       "    function set_focus () {\n",
       "        canvas.focus();\n",
       "        canvas_div.focus();\n",
       "    }\n",
       "\n",
       "    window.setTimeout(set_focus, 100);\n",
       "}\n",
       "\n",
       "mpl.figure.prototype._init_toolbar = function() {\n",
       "    var fig = this;\n",
       "\n",
       "    var nav_element = $('<div/>')\n",
       "    nav_element.attr('style', 'width: 100%');\n",
       "    this.root.append(nav_element);\n",
       "\n",
       "    // Define a callback function for later on.\n",
       "    function toolbar_event(event) {\n",
       "        return fig.toolbar_button_onclick(event['data']);\n",
       "    }\n",
       "    function toolbar_mouse_event(event) {\n",
       "        return fig.toolbar_button_onmouseover(event['data']);\n",
       "    }\n",
       "\n",
       "    for(var toolbar_ind in mpl.toolbar_items) {\n",
       "        var name = mpl.toolbar_items[toolbar_ind][0];\n",
       "        var tooltip = mpl.toolbar_items[toolbar_ind][1];\n",
       "        var image = mpl.toolbar_items[toolbar_ind][2];\n",
       "        var method_name = mpl.toolbar_items[toolbar_ind][3];\n",
       "\n",
       "        if (!name) {\n",
       "            // put a spacer in here.\n",
       "            continue;\n",
       "        }\n",
       "        var button = $('<button/>');\n",
       "        button.addClass('ui-button ui-widget ui-state-default ui-corner-all ' +\n",
       "                        'ui-button-icon-only');\n",
       "        button.attr('role', 'button');\n",
       "        button.attr('aria-disabled', 'false');\n",
       "        button.click(method_name, toolbar_event);\n",
       "        button.mouseover(tooltip, toolbar_mouse_event);\n",
       "\n",
       "        var icon_img = $('<span/>');\n",
       "        icon_img.addClass('ui-button-icon-primary ui-icon');\n",
       "        icon_img.addClass(image);\n",
       "        icon_img.addClass('ui-corner-all');\n",
       "\n",
       "        var tooltip_span = $('<span/>');\n",
       "        tooltip_span.addClass('ui-button-text');\n",
       "        tooltip_span.html(tooltip);\n",
       "\n",
       "        button.append(icon_img);\n",
       "        button.append(tooltip_span);\n",
       "\n",
       "        nav_element.append(button);\n",
       "    }\n",
       "\n",
       "    var fmt_picker_span = $('<span/>');\n",
       "\n",
       "    var fmt_picker = $('<select/>');\n",
       "    fmt_picker.addClass('mpl-toolbar-option ui-widget ui-widget-content');\n",
       "    fmt_picker_span.append(fmt_picker);\n",
       "    nav_element.append(fmt_picker_span);\n",
       "    this.format_dropdown = fmt_picker[0];\n",
       "\n",
       "    for (var ind in mpl.extensions) {\n",
       "        var fmt = mpl.extensions[ind];\n",
       "        var option = $(\n",
       "            '<option/>', {selected: fmt === mpl.default_extension}).html(fmt);\n",
       "        fmt_picker.append(option)\n",
       "    }\n",
       "\n",
       "    // Add hover states to the ui-buttons\n",
       "    $( \".ui-button\" ).hover(\n",
       "        function() { $(this).addClass(\"ui-state-hover\");},\n",
       "        function() { $(this).removeClass(\"ui-state-hover\");}\n",
       "    );\n",
       "\n",
       "    var status_bar = $('<span class=\"mpl-message\"/>');\n",
       "    nav_element.append(status_bar);\n",
       "    this.message = status_bar[0];\n",
       "}\n",
       "\n",
       "mpl.figure.prototype.request_resize = function(x_pixels, y_pixels) {\n",
       "    // Request matplotlib to resize the figure. Matplotlib will then trigger a resize in the client,\n",
       "    // which will in turn request a refresh of the image.\n",
       "    this.send_message('resize', {'width': x_pixels, 'height': y_pixels});\n",
       "}\n",
       "\n",
       "mpl.figure.prototype.send_message = function(type, properties) {\n",
       "    properties['type'] = type;\n",
       "    properties['figure_id'] = this.id;\n",
       "    this.ws.send(JSON.stringify(properties));\n",
       "}\n",
       "\n",
       "mpl.figure.prototype.send_draw_message = function() {\n",
       "    if (!this.waiting) {\n",
       "        this.waiting = true;\n",
       "        this.ws.send(JSON.stringify({type: \"draw\", figure_id: this.id}));\n",
       "    }\n",
       "}\n",
       "\n",
       "\n",
       "mpl.figure.prototype.handle_save = function(fig, msg) {\n",
       "    var format_dropdown = fig.format_dropdown;\n",
       "    var format = format_dropdown.options[format_dropdown.selectedIndex].value;\n",
       "    fig.ondownload(fig, format);\n",
       "}\n",
       "\n",
       "\n",
       "mpl.figure.prototype.handle_resize = function(fig, msg) {\n",
       "    var size = msg['size'];\n",
       "    if (size[0] != fig.canvas.width || size[1] != fig.canvas.height) {\n",
       "        fig._resize_canvas(size[0], size[1]);\n",
       "        fig.send_message(\"refresh\", {});\n",
       "    };\n",
       "}\n",
       "\n",
       "mpl.figure.prototype.handle_rubberband = function(fig, msg) {\n",
       "    var x0 = msg['x0'] / mpl.ratio;\n",
       "    var y0 = (fig.canvas.height - msg['y0']) / mpl.ratio;\n",
       "    var x1 = msg['x1'] / mpl.ratio;\n",
       "    var y1 = (fig.canvas.height - msg['y1']) / mpl.ratio;\n",
       "    x0 = Math.floor(x0) + 0.5;\n",
       "    y0 = Math.floor(y0) + 0.5;\n",
       "    x1 = Math.floor(x1) + 0.5;\n",
       "    y1 = Math.floor(y1) + 0.5;\n",
       "    var min_x = Math.min(x0, x1);\n",
       "    var min_y = Math.min(y0, y1);\n",
       "    var width = Math.abs(x1 - x0);\n",
       "    var height = Math.abs(y1 - y0);\n",
       "\n",
       "    fig.rubberband_context.clearRect(\n",
       "        0, 0, fig.canvas.width, fig.canvas.height);\n",
       "\n",
       "    fig.rubberband_context.strokeRect(min_x, min_y, width, height);\n",
       "}\n",
       "\n",
       "mpl.figure.prototype.handle_figure_label = function(fig, msg) {\n",
       "    // Updates the figure title.\n",
       "    fig.header.textContent = msg['label'];\n",
       "}\n",
       "\n",
       "mpl.figure.prototype.handle_cursor = function(fig, msg) {\n",
       "    var cursor = msg['cursor'];\n",
       "    switch(cursor)\n",
       "    {\n",
       "    case 0:\n",
       "        cursor = 'pointer';\n",
       "        break;\n",
       "    case 1:\n",
       "        cursor = 'default';\n",
       "        break;\n",
       "    case 2:\n",
       "        cursor = 'crosshair';\n",
       "        break;\n",
       "    case 3:\n",
       "        cursor = 'move';\n",
       "        break;\n",
       "    }\n",
       "    fig.rubberband_canvas.style.cursor = cursor;\n",
       "}\n",
       "\n",
       "mpl.figure.prototype.handle_message = function(fig, msg) {\n",
       "    fig.message.textContent = msg['message'];\n",
       "}\n",
       "\n",
       "mpl.figure.prototype.handle_draw = function(fig, msg) {\n",
       "    // Request the server to send over a new figure.\n",
       "    fig.send_draw_message();\n",
       "}\n",
       "\n",
       "mpl.figure.prototype.handle_image_mode = function(fig, msg) {\n",
       "    fig.image_mode = msg['mode'];\n",
       "}\n",
       "\n",
       "mpl.figure.prototype.updated_canvas_event = function() {\n",
       "    // Called whenever the canvas gets updated.\n",
       "    this.send_message(\"ack\", {});\n",
       "}\n",
       "\n",
       "// A function to construct a web socket function for onmessage handling.\n",
       "// Called in the figure constructor.\n",
       "mpl.figure.prototype._make_on_message_function = function(fig) {\n",
       "    return function socket_on_message(evt) {\n",
       "        if (evt.data instanceof Blob) {\n",
       "            /* FIXME: We get \"Resource interpreted as Image but\n",
       "             * transferred with MIME type text/plain:\" errors on\n",
       "             * Chrome.  But how to set the MIME type?  It doesn't seem\n",
       "             * to be part of the websocket stream */\n",
       "            evt.data.type = \"image/png\";\n",
       "\n",
       "            /* Free the memory for the previous frames */\n",
       "            if (fig.imageObj.src) {\n",
       "                (window.URL || window.webkitURL).revokeObjectURL(\n",
       "                    fig.imageObj.src);\n",
       "            }\n",
       "\n",
       "            fig.imageObj.src = (window.URL || window.webkitURL).createObjectURL(\n",
       "                evt.data);\n",
       "            fig.updated_canvas_event();\n",
       "            fig.waiting = false;\n",
       "            return;\n",
       "        }\n",
       "        else if (typeof evt.data === 'string' && evt.data.slice(0, 21) == \"data:image/png;base64\") {\n",
       "            fig.imageObj.src = evt.data;\n",
       "            fig.updated_canvas_event();\n",
       "            fig.waiting = false;\n",
       "            return;\n",
       "        }\n",
       "\n",
       "        var msg = JSON.parse(evt.data);\n",
       "        var msg_type = msg['type'];\n",
       "\n",
       "        // Call the  \"handle_{type}\" callback, which takes\n",
       "        // the figure and JSON message as its only arguments.\n",
       "        try {\n",
       "            var callback = fig[\"handle_\" + msg_type];\n",
       "        } catch (e) {\n",
       "            console.log(\"No handler for the '\" + msg_type + \"' message type: \", msg);\n",
       "            return;\n",
       "        }\n",
       "\n",
       "        if (callback) {\n",
       "            try {\n",
       "                // console.log(\"Handling '\" + msg_type + \"' message: \", msg);\n",
       "                callback(fig, msg);\n",
       "            } catch (e) {\n",
       "                console.log(\"Exception inside the 'handler_\" + msg_type + \"' callback:\", e, e.stack, msg);\n",
       "            }\n",
       "        }\n",
       "    };\n",
       "}\n",
       "\n",
       "// from http://stackoverflow.com/questions/1114465/getting-mouse-location-in-canvas\n",
       "mpl.findpos = function(e) {\n",
       "    //this section is from http://www.quirksmode.org/js/events_properties.html\n",
       "    var targ;\n",
       "    if (!e)\n",
       "        e = window.event;\n",
       "    if (e.target)\n",
       "        targ = e.target;\n",
       "    else if (e.srcElement)\n",
       "        targ = e.srcElement;\n",
       "    if (targ.nodeType == 3) // defeat Safari bug\n",
       "        targ = targ.parentNode;\n",
       "\n",
       "    // jQuery normalizes the pageX and pageY\n",
       "    // pageX,Y are the mouse positions relative to the document\n",
       "    // offset() returns the position of the element relative to the document\n",
       "    var x = e.pageX - $(targ).offset().left;\n",
       "    var y = e.pageY - $(targ).offset().top;\n",
       "\n",
       "    return {\"x\": x, \"y\": y};\n",
       "};\n",
       "\n",
       "/*\n",
       " * return a copy of an object with only non-object keys\n",
       " * we need this to avoid circular references\n",
       " * http://stackoverflow.com/a/24161582/3208463\n",
       " */\n",
       "function simpleKeys (original) {\n",
       "  return Object.keys(original).reduce(function (obj, key) {\n",
       "    if (typeof original[key] !== 'object')\n",
       "        obj[key] = original[key]\n",
       "    return obj;\n",
       "  }, {});\n",
       "}\n",
       "\n",
       "mpl.figure.prototype.mouse_event = function(event, name) {\n",
       "    var canvas_pos = mpl.findpos(event)\n",
       "\n",
       "    if (name === 'button_press')\n",
       "    {\n",
       "        this.canvas.focus();\n",
       "        this.canvas_div.focus();\n",
       "    }\n",
       "\n",
       "    var x = canvas_pos.x * mpl.ratio;\n",
       "    var y = canvas_pos.y * mpl.ratio;\n",
       "\n",
       "    this.send_message(name, {x: x, y: y, button: event.button,\n",
       "                             step: event.step,\n",
       "                             guiEvent: simpleKeys(event)});\n",
       "\n",
       "    /* This prevents the web browser from automatically changing to\n",
       "     * the text insertion cursor when the button is pressed.  We want\n",
       "     * to control all of the cursor setting manually through the\n",
       "     * 'cursor' event from matplotlib */\n",
       "    event.preventDefault();\n",
       "    return false;\n",
       "}\n",
       "\n",
       "mpl.figure.prototype._key_event_extra = function(event, name) {\n",
       "    // Handle any extra behaviour associated with a key event\n",
       "}\n",
       "\n",
       "mpl.figure.prototype.key_event = function(event, name) {\n",
       "\n",
       "    // Prevent repeat events\n",
       "    if (name == 'key_press')\n",
       "    {\n",
       "        if (event.which === this._key)\n",
       "            return;\n",
       "        else\n",
       "            this._key = event.which;\n",
       "    }\n",
       "    if (name == 'key_release')\n",
       "        this._key = null;\n",
       "\n",
       "    var value = '';\n",
       "    if (event.ctrlKey && event.which != 17)\n",
       "        value += \"ctrl+\";\n",
       "    if (event.altKey && event.which != 18)\n",
       "        value += \"alt+\";\n",
       "    if (event.shiftKey && event.which != 16)\n",
       "        value += \"shift+\";\n",
       "\n",
       "    value += 'k';\n",
       "    value += event.which.toString();\n",
       "\n",
       "    this._key_event_extra(event, name);\n",
       "\n",
       "    this.send_message(name, {key: value,\n",
       "                             guiEvent: simpleKeys(event)});\n",
       "    return false;\n",
       "}\n",
       "\n",
       "mpl.figure.prototype.toolbar_button_onclick = function(name) {\n",
       "    if (name == 'download') {\n",
       "        this.handle_save(this, null);\n",
       "    } else {\n",
       "        this.send_message(\"toolbar_button\", {name: name});\n",
       "    }\n",
       "};\n",
       "\n",
       "mpl.figure.prototype.toolbar_button_onmouseover = function(tooltip) {\n",
       "    this.message.textContent = tooltip;\n",
       "};\n",
       "mpl.toolbar_items = [[\"Home\", \"Reset original view\", \"fa fa-home icon-home\", \"home\"], [\"Back\", \"Back to  previous view\", \"fa fa-arrow-left icon-arrow-left\", \"back\"], [\"Forward\", \"Forward to next view\", \"fa fa-arrow-right icon-arrow-right\", \"forward\"], [\"\", \"\", \"\", \"\"], [\"Pan\", \"Pan axes with left mouse, zoom with right\", \"fa fa-arrows icon-move\", \"pan\"], [\"Zoom\", \"Zoom to rectangle\", \"fa fa-square-o icon-check-empty\", \"zoom\"], [\"\", \"\", \"\", \"\"], [\"Download\", \"Download plot\", \"fa fa-floppy-o icon-save\", \"download\"]];\n",
       "\n",
       "mpl.extensions = [\"eps\", \"jpeg\", \"pdf\", \"png\", \"ps\", \"raw\", \"svg\", \"tif\"];\n",
       "\n",
       "mpl.default_extension = \"png\";var comm_websocket_adapter = function(comm) {\n",
       "    // Create a \"websocket\"-like object which calls the given IPython comm\n",
       "    // object with the appropriate methods. Currently this is a non binary\n",
       "    // socket, so there is still some room for performance tuning.\n",
       "    var ws = {};\n",
       "\n",
       "    ws.close = function() {\n",
       "        comm.close()\n",
       "    };\n",
       "    ws.send = function(m) {\n",
       "        //console.log('sending', m);\n",
       "        comm.send(m);\n",
       "    };\n",
       "    // Register the callback with on_msg.\n",
       "    comm.on_msg(function(msg) {\n",
       "        //console.log('receiving', msg['content']['data'], msg);\n",
       "        // Pass the mpl event to the overriden (by mpl) onmessage function.\n",
       "        ws.onmessage(msg['content']['data'])\n",
       "    });\n",
       "    return ws;\n",
       "}\n",
       "\n",
       "mpl.mpl_figure_comm = function(comm, msg) {\n",
       "    // This is the function which gets called when the mpl process\n",
       "    // starts-up an IPython Comm through the \"matplotlib\" channel.\n",
       "\n",
       "    var id = msg.content.data.id;\n",
       "    // Get hold of the div created by the display call when the Comm\n",
       "    // socket was opened in Python.\n",
       "    var element = $(\"#\" + id);\n",
       "    var ws_proxy = comm_websocket_adapter(comm)\n",
       "\n",
       "    function ondownload(figure, format) {\n",
       "        window.open(figure.imageObj.src);\n",
       "    }\n",
       "\n",
       "    var fig = new mpl.figure(id, ws_proxy,\n",
       "                           ondownload,\n",
       "                           element.get(0));\n",
       "\n",
       "    // Call onopen now - mpl needs it, as it is assuming we've passed it a real\n",
       "    // web socket which is closed, not our websocket->open comm proxy.\n",
       "    ws_proxy.onopen();\n",
       "\n",
       "    fig.parent_element = element.get(0);\n",
       "    fig.cell_info = mpl.find_output_cell(\"<div id='\" + id + \"'></div>\");\n",
       "    if (!fig.cell_info) {\n",
       "        console.error(\"Failed to find cell for figure\", id, fig);\n",
       "        return;\n",
       "    }\n",
       "\n",
       "    var output_index = fig.cell_info[2]\n",
       "    var cell = fig.cell_info[0];\n",
       "\n",
       "};\n",
       "\n",
       "mpl.figure.prototype.handle_close = function(fig, msg) {\n",
       "    var width = fig.canvas.width/mpl.ratio\n",
       "    fig.root.unbind('remove')\n",
       "\n",
       "    // Update the output cell to use the data from the current canvas.\n",
       "    fig.push_to_output();\n",
       "    var dataURL = fig.canvas.toDataURL();\n",
       "    // Re-enable the keyboard manager in IPython - without this line, in FF,\n",
       "    // the notebook keyboard shortcuts fail.\n",
       "    IPython.keyboard_manager.enable()\n",
       "    $(fig.parent_element).html('<img src=\"' + dataURL + '\" width=\"' + width + '\">');\n",
       "    fig.close_ws(fig, msg);\n",
       "}\n",
       "\n",
       "mpl.figure.prototype.close_ws = function(fig, msg){\n",
       "    fig.send_message('closing', msg);\n",
       "    // fig.ws.close()\n",
       "}\n",
       "\n",
       "mpl.figure.prototype.push_to_output = function(remove_interactive) {\n",
       "    // Turn the data on the canvas into data in the output cell.\n",
       "    var width = this.canvas.width/mpl.ratio\n",
       "    var dataURL = this.canvas.toDataURL();\n",
       "    this.cell_info[1]['text/html'] = '<img src=\"' + dataURL + '\" width=\"' + width + '\">';\n",
       "}\n",
       "\n",
       "mpl.figure.prototype.updated_canvas_event = function() {\n",
       "    // Tell IPython that the notebook contents must change.\n",
       "    IPython.notebook.set_dirty(true);\n",
       "    this.send_message(\"ack\", {});\n",
       "    var fig = this;\n",
       "    // Wait a second, then push the new image to the DOM so\n",
       "    // that it is saved nicely (might be nice to debounce this).\n",
       "    setTimeout(function () { fig.push_to_output() }, 1000);\n",
       "}\n",
       "\n",
       "mpl.figure.prototype._init_toolbar = function() {\n",
       "    var fig = this;\n",
       "\n",
       "    var nav_element = $('<div/>')\n",
       "    nav_element.attr('style', 'width: 100%');\n",
       "    this.root.append(nav_element);\n",
       "\n",
       "    // Define a callback function for later on.\n",
       "    function toolbar_event(event) {\n",
       "        return fig.toolbar_button_onclick(event['data']);\n",
       "    }\n",
       "    function toolbar_mouse_event(event) {\n",
       "        return fig.toolbar_button_onmouseover(event['data']);\n",
       "    }\n",
       "\n",
       "    for(var toolbar_ind in mpl.toolbar_items){\n",
       "        var name = mpl.toolbar_items[toolbar_ind][0];\n",
       "        var tooltip = mpl.toolbar_items[toolbar_ind][1];\n",
       "        var image = mpl.toolbar_items[toolbar_ind][2];\n",
       "        var method_name = mpl.toolbar_items[toolbar_ind][3];\n",
       "\n",
       "        if (!name) { continue; };\n",
       "\n",
       "        var button = $('<button class=\"btn btn-default\" href=\"#\" title=\"' + name + '\"><i class=\"fa ' + image + ' fa-lg\"></i></button>');\n",
       "        button.click(method_name, toolbar_event);\n",
       "        button.mouseover(tooltip, toolbar_mouse_event);\n",
       "        nav_element.append(button);\n",
       "    }\n",
       "\n",
       "    // Add the status bar.\n",
       "    var status_bar = $('<span class=\"mpl-message\" style=\"text-align:right; float: right;\"/>');\n",
       "    nav_element.append(status_bar);\n",
       "    this.message = status_bar[0];\n",
       "\n",
       "    // Add the close button to the window.\n",
       "    var buttongrp = $('<div class=\"btn-group inline pull-right\"></div>');\n",
       "    var button = $('<button class=\"btn btn-mini btn-primary\" href=\"#\" title=\"Stop Interaction\"><i class=\"fa fa-power-off icon-remove icon-large\"></i></button>');\n",
       "    button.click(function (evt) { fig.handle_close(fig, {}); } );\n",
       "    button.mouseover('Stop Interaction', toolbar_mouse_event);\n",
       "    buttongrp.append(button);\n",
       "    var titlebar = this.root.find($('.ui-dialog-titlebar'));\n",
       "    titlebar.prepend(buttongrp);\n",
       "}\n",
       "\n",
       "mpl.figure.prototype._root_extra_style = function(el){\n",
       "    var fig = this\n",
       "    el.on(\"remove\", function(){\n",
       "\tfig.close_ws(fig, {});\n",
       "    });\n",
       "}\n",
       "\n",
       "mpl.figure.prototype._canvas_extra_style = function(el){\n",
       "    // this is important to make the div 'focusable\n",
       "    el.attr('tabindex', 0)\n",
       "    // reach out to IPython and tell the keyboard manager to turn it's self\n",
       "    // off when our div gets focus\n",
       "\n",
       "    // location in version 3\n",
       "    if (IPython.notebook.keyboard_manager) {\n",
       "        IPython.notebook.keyboard_manager.register_events(el);\n",
       "    }\n",
       "    else {\n",
       "        // location in version 2\n",
       "        IPython.keyboard_manager.register_events(el);\n",
       "    }\n",
       "\n",
       "}\n",
       "\n",
       "mpl.figure.prototype._key_event_extra = function(event, name) {\n",
       "    var manager = IPython.notebook.keyboard_manager;\n",
       "    if (!manager)\n",
       "        manager = IPython.keyboard_manager;\n",
       "\n",
       "    // Check for shift+enter\n",
       "    if (event.shiftKey && event.which == 13) {\n",
       "        this.canvas_div.blur();\n",
       "        event.shiftKey = false;\n",
       "        // Send a \"J\" for go to next cell\n",
       "        event.which = 74;\n",
       "        event.keyCode = 74;\n",
       "        manager.command_mode();\n",
       "        manager.handle_keydown(event);\n",
       "    }\n",
       "}\n",
       "\n",
       "mpl.figure.prototype.handle_save = function(fig, msg) {\n",
       "    fig.ondownload(fig, null);\n",
       "}\n",
       "\n",
       "\n",
       "mpl.find_output_cell = function(html_output) {\n",
       "    // Return the cell and output element which can be found *uniquely* in the notebook.\n",
       "    // Note - this is a bit hacky, but it is done because the \"notebook_saving.Notebook\"\n",
       "    // IPython event is triggered only after the cells have been serialised, which for\n",
       "    // our purposes (turning an active figure into a static one), is too late.\n",
       "    var cells = IPython.notebook.get_cells();\n",
       "    var ncells = cells.length;\n",
       "    for (var i=0; i<ncells; i++) {\n",
       "        var cell = cells[i];\n",
       "        if (cell.cell_type === 'code'){\n",
       "            for (var j=0; j<cell.output_area.outputs.length; j++) {\n",
       "                var data = cell.output_area.outputs[j];\n",
       "                if (data.data) {\n",
       "                    // IPython >= 3 moved mimebundle to data attribute of output\n",
       "                    data = data.data;\n",
       "                }\n",
       "                if (data['text/html'] == html_output) {\n",
       "                    return [cell, data, j];\n",
       "                }\n",
       "            }\n",
       "        }\n",
       "    }\n",
       "}\n",
       "\n",
       "// Register the function which deals with the matplotlib target/channel.\n",
       "// The kernel may be null if the page has been refreshed.\n",
       "if (IPython.notebook.kernel != null) {\n",
       "    IPython.notebook.kernel.comm_manager.register_target('matplotlib', mpl.mpl_figure_comm);\n",
       "}\n"
      ],
      "text/plain": [
       "<IPython.core.display.Javascript object>"
      ]
     },
     "metadata": {},
     "output_type": "display_data"
    },
    {
     "data": {
      "text/html": [
       "<img src=\"data:image/png;base64,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\" width=\"720\">"
      ],
      "text/plain": [
       "<IPython.core.display.HTML object>"
      ]
     },
     "metadata": {},
     "output_type": "display_data"
    },
    {
     "data": {
      "text/plain": [
       "<matplotlib.colorbar.Colorbar at 0x7fb15f0247b8>"
      ]
     },
     "execution_count": 40,
     "metadata": {},
     "output_type": "execute_result"
    }
   ],
   "source": [
    "%matplotlib nbagg\n",
    "import matplotlib as mpl\n",
    "plt.figure(figsize=(10, 10))\n",
    "C.plot_cov(symlog=True)\n",
    "plt.colorbar()"
   ]
  },
  {
   "cell_type": "code",
   "execution_count": 38,
   "metadata": {
    "ExecuteTime": {
     "end_time": "2018-02-20T09:22:58.585759Z",
     "start_time": "2018-02-20T09:22:58.576131Z"
    },
    "extensions": {
     "jupyter_dashboards": {
      "version": 1,
      "views": {
       "grid_default": {
        "col": 4,
        "height": 18,
        "hidden": false,
        "row": 44,
        "width": 4
       },
       "report_default": {}
      }
     }
    }
   },
   "outputs": [
    {
     "data": {
      "text/plain": [
       "(array([[0.198197, 0.066306, 0.066306, 0.      , 0.      , 0.      ],\n",
       "        [0.066306, 0.199639, 0.066546, 0.      , 0.      , 0.      ],\n",
       "        [0.066306, 0.066546, 0.199639, 0.      , 0.      , 0.      ],\n",
       "        [0.      , 0.      , 0.      , 0.066306, 0.      , 0.      ],\n",
       "        [0.      , 0.      , 0.      , 0.      , 0.066306, 0.      ],\n",
       "        [0.      , 0.      , 0.      , 0.      , 0.      , 0.066546]]),\n",
       " array([[0.594591, 0.198918, 0.198918, 0.      , 0.      , 0.      ],\n",
       "        [0.198918, 0.598917, 0.199639, 0.      , 0.      , 0.      ],\n",
       "        [0.198918, 0.199639, 0.598917, 0.      , 0.      , 0.      ],\n",
       "        [0.      , 0.      , 0.      , 0.198918, 0.      , 0.      ],\n",
       "        [0.      , 0.      , 0.      , 0.      , 0.198918, 0.      ],\n",
       "        [0.      , 0.      , 0.      , 0.      , 0.      , 0.199639]]))"
      ]
     },
     "execution_count": 38,
     "metadata": {},
     "output_type": "execute_result"
    }
   ],
   "source": [
    "np.round(C.cov[4:10,14:20], 6), np.round(C.cov[4:10,14:20]*3, 6), "
   ]
  },
  {
   "cell_type": "markdown",
   "metadata": {
    "extensions": {
     "jupyter_dashboards": {
      "version": 1,
      "views": {
       "grid_default": {
        "col": 4,
        "height": 4,
        "hidden": false,
        "row": 19,
        "width": 4
       },
       "report_default": {}
      }
     }
    }
   },
   "source": [
    "# Distribution for walls, filaments, peaks"
   ]
  },
  {
   "cell_type": "code",
   "execution_count": 443,
   "metadata": {
    "ExecuteTime": {
     "end_time": "2018-02-20T13:52:48.823135Z",
     "start_time": "2018-02-20T13:52:47.903291Z"
    },
    "extensions": {
     "jupyter_dashboards": {
      "version": 1,
      "views": {
       "grid_default": {
        "col": 8,
        "height": 4,
        "hidden": false,
        "row": 44,
        "width": null
       },
       "report_default": {}
      }
     }
    }
   },
   "outputs": [
    {
     "name": "stderr",
     "output_type": "stream",
     "text": [
      "10x10: 100%|██████████| 55/55 [00:00<00:00, 62.43it/s]\n"
     ]
    },
    {
     "data": {
      "text/markdown": [
       "$\\delta^{}$  $h_{xx}^{}$  $h_{yy}^{}$  $h_{zz}^{}$"
      ],
      "text/plain": [
       "<IPython.core.display.Markdown object>"
      ]
     },
     "metadata": {},
     "output_type": "display_data"
    },
    {
     "data": {
      "text/plain": [
       "<matplotlib.figure.Figure at 0x7fb167cbb7f0>"
      ]
     },
     "metadata": {},
     "output_type": "display_data"
    }
   ],
   "source": [
    "%run code/correlations.py\n",
    "C = Correlator()\n",
    "R = 5\n",
    "C.add_point([0, 0, 0], ['density', 'grad_delta', 'hessian'], R, constrains={\n",
    "    'grad_delta': [0, 0, 0],\n",
    "    'hessian': [np.nan, np.nan, np.nan, 0, 0, 0],\n",
    "}, name='')\n",
    "mean, cov = C.mean_c, C.cov_c\n",
    "display(Markdown('  '.join(C.labels_c)))"
   ]
  },
  {
   "cell_type": "code",
   "execution_count": 444,
   "metadata": {
    "ExecuteTime": {
     "end_time": "2018-02-20T13:52:49.694684Z",
     "start_time": "2018-02-20T13:52:49.559560Z"
    },
    "extensions": {
     "jupyter_dashboards": {
      "version": 1,
      "views": {
       "grid_default": {
        "hidden": true
       },
       "report_default": {}
      }
     }
    }
   },
   "outputs": [],
   "source": [
    "@jit(nopython=True)\n",
    "def logprob(X, mean, icov, s1, s2, s3):\n",
    "    h = X[-3:]\n",
    "    diff = X-mean\n",
    "    \n",
    "    if not (s1*h[0] > 0 and s2*h[1] > 0 and s3*h[2] > 0):\n",
    "        return -np.inf\n",
    "    \n",
    "    # Impose order of eigenvalues\n",
    "    if not (h[0] > h[1] > h[2]):\n",
    "        return -np.inf\n",
    "    logdet = np.log(np.abs(h[0]*h[1]*h[2]))\n",
    "    ret = -1/2 * np.dot(diff, np.dot(icov, diff)) + logdet\n",
    "    return ret\n",
    "\n",
    "ndim = len(C.mean_c)\n",
    "nwalkers = 2*ndim\n",
    "nburn = int(1e3)\n",
    "ndraw = int(1e5)\n",
    "icov = np.linalg.inv(cov)\n",
    "\n",
    "def plot(sample, labels=None):\n",
    "    a, b = np.percentile(sample, [.1, 99.9])\n",
    "    kwa = dict(\n",
    "        bins = np.linspace(a, b, 100),\n",
    "        histtype = 'step'\n",
    "    )\n",
    "    labels = labels if labels else C.labels_c\n",
    "    for i in range(sample.shape[1]):\n",
    "        H, bins, patches = plt.hist(sample[:, i], **kwa, label=labels[i], normed=True)\n",
    "        med = np.median(sample[:, i])\n",
    "        color = patches[0].get_facecolor()[:-1]\n",
    "        \n",
    "        l, m, r = np.percentile(sample[:, i], [1, 50, 99])\n",
    "\n",
    "        plt.axvline(med, ls='--', c=color)\n",
    "        #plt.axvline(l, ls=':', c=color)\n",
    "        #plt.axvline(r, ls=':', c=color)\n",
    "\n",
    "    plt.xlabel('Value')\n",
    "    plt.ylabel('p(x)')\n",
    "    plt.legend()"
   ]
  },
  {
   "cell_type": "markdown",
   "metadata": {
    "extensions": {
     "jupyter_dashboards": {
      "version": 1,
      "views": {
       "grid_default": {
        "col": 4,
        "height": 4,
        "hidden": false,
        "row": 23,
        "width": 4
       },
       "report_default": {}
      }
     }
    }
   },
   "source": [
    "## Filament"
   ]
  },
  {
   "cell_type": "markdown",
   "metadata": {
    "extensions": {
     "jupyter_dashboards": {
      "version": 1,
      "views": {
       "grid_default": {
        "col": 8,
        "height": 4,
        "hidden": false,
        "row": 48,
        "width": 4
       },
       "report_default": {}
      }
     }
    }
   },
   "source": [
    "Burn run"
   ]
  },
  {
   "cell_type": "code",
   "execution_count": 445,
   "metadata": {
    "ExecuteTime": {
     "end_time": "2018-02-20T13:52:51.903079Z",
     "start_time": "2018-02-20T13:52:51.398040Z"
    },
    "extensions": {
     "jupyter_dashboards": {
      "version": 1,
      "views": {
       "grid_default": {
        "hidden": true
       },
       "report_default": {}
      }
     }
    }
   },
   "outputs": [],
   "source": [
    "sampler = emcee.EnsembleSampler(nwalkers, ndim, logprob, args=[mean, icov, 1, -1, -1])\n",
    "p00 = [np.array((1.2, 1, -1, -2)) + (np.random.rand(4)-0.5) for _ in range(nwalkers)]\n",
    "# Burn run\n",
    "pos, prob, state = sampler.run_mcmc(p00, nburn)\n",
    "sampler.reset()"
   ]
  },
  {
   "cell_type": "markdown",
   "metadata": {
    "extensions": {
     "jupyter_dashboards": {
      "version": 1,
      "views": {
       "grid_default": {
        "col": 8,
        "height": 4,
        "hidden": false,
        "row": 52,
        "width": 4
       },
       "report_default": {}
      }
     }
    }
   },
   "source": [
    "Draw using MCMC"
   ]
  },
  {
   "cell_type": "code",
   "execution_count": 446,
   "metadata": {
    "ExecuteTime": {
     "end_time": "2018-02-20T13:52:55.209774Z",
     "start_time": "2018-02-20T13:52:52.868344Z"
    },
    "extensions": {
     "jupyter_dashboards": {
      "version": 1,
      "views": {
       "grid_default": {
        "hidden": true
       },
       "report_default": {}
      }
     }
    }
   },
   "outputs": [],
   "source": [
    "sampler.reset()\n",
    "sampler.run_mcmc(pos, ndraw // nwalkers)\n",
    "sample = sampler.flatchain"
   ]
  },
  {
   "cell_type": "code",
   "execution_count": 449,
   "metadata": {
    "ExecuteTime": {
     "end_time": "2018-02-20T13:53:17.545343Z",
     "start_time": "2018-02-20T13:53:16.973026Z"
    },
    "extensions": {
     "jupyter_dashboards": {
      "version": 1,
      "views": {
       "grid_default": {
        "col": 8,
        "height": 15,
        "hidden": false,
        "row": 56,
        "width": 4
       },
       "report_default": {}
      }
     }
    }
   },
   "outputs": [
    {
     "data": {
      "text/plain": [
       "array([[ 0.41372705,  0.39119156, -0.34767626, -0.63387275],\n",
       "       [ 1.25700456,  0.64017809, -0.17305172, -0.40614316]])"
      ]
     },
     "execution_count": 449,
     "metadata": {},
     "output_type": "execute_result"
    },
    {
     "data": {
      "image/png": "[encoded data removed]",
      "text/plain": [
       "<matplotlib.figure.Figure at 0x7fb1681d6400>"
      ]
     },
     "metadata": {},
     "output_type": "display_data"
    }
   ],
   "source": [
    "plot(sample)\n",
    "plt.xlim(xmax=1.5)\n",
    "np.percentile(sample, [50, 68/2+50], axis=0)"
   ]
  },
  {
   "cell_type": "markdown",
   "metadata": {
    "extensions": {
     "jupyter_dashboards": {
      "version": 1,
      "views": {
       "grid_default": {
        "col": 0,
        "height": 4,
        "hidden": false,
        "row": 71,
        "width": null
       },
       "report_default": {}
      }
     }
    }
   },
   "source": [
    "### Filament at $\\nu=1.2$ (~$1\\sigma$)"
   ]
  },
  {
   "cell_type": "code",
   "execution_count": 450,
   "metadata": {
    "ExecuteTime": {
     "end_time": "2018-02-20T13:54:17.211191Z",
     "start_time": "2018-02-20T13:54:16.929259Z"
    },
    "extensions": {
     "jupyter_dashboards": {
      "version": 1,
      "views": {
       "grid_default": {
        "hidden": true
       },
       "report_default": {}
      }
     }
    }
   },
   "outputs": [],
   "source": [
    "nufil = 1.2\n",
    "mmean, ccov = constrain(mean, cov, np.array([nufil, np.nan, np.nan, np.nan]))\n",
    "iccov = np.linalg.inv(ccov)\n",
    "                       \n",
    "nw = 10\n",
    "sampler = emcee.EnsembleSampler(nw, 3, logprob, args=[mmean, iccov, 1, -1, -1])\n",
    "p00 = [np.array((1.5, -1, -2)) + (np.random.rand(3)-0.5) for _ in range(nw)]\n",
    "# Burn run\n",
    "pos, prob, state = sampler.run_mcmc(p00, nburn)\n",
    "sampler.reset()"
   ]
  },
  {
   "cell_type": "markdown",
   "metadata": {
    "extensions": {
     "jupyter_dashboards": {
      "version": 1,
      "views": {
       "grid_default": {
        "col": 4,
        "height": 4,
        "hidden": false,
        "row": 62,
        "width": 4
       },
       "report_default": {}
      }
     }
    }
   },
   "source": [
    "Draw using MCMC"
   ]
  },
  {
   "cell_type": "code",
   "execution_count": 451,
   "metadata": {
    "ExecuteTime": {
     "end_time": "2018-02-20T13:54:41.436560Z",
     "start_time": "2018-02-20T13:54:19.438704Z"
    },
    "extensions": {
     "jupyter_dashboards": {
      "version": 1,
      "views": {
       "grid_default": {
        "hidden": true
       },
       "report_default": {}
      }
     }
    }
   },
   "outputs": [],
   "source": [
    "sampler.reset()\n",
    "sampler.run_mcmc(pos, 10 * ndraw // nw)\n",
    "sample = sampler.flatchain"
   ]
  },
  {
   "cell_type": "code",
   "execution_count": 455,
   "metadata": {
    "ExecuteTime": {
     "end_time": "2018-02-20T13:55:27.540710Z",
     "start_time": "2018-02-20T13:55:26.567590Z"
    },
    "extensions": {
     "jupyter_dashboards": {
      "version": 1,
      "views": {
       "grid_default": {
        "col": 0,
        "height": 14,
        "hidden": false,
        "row": 75,
        "width": 4
       },
       "report_default": {}
      }
     }
    }
   },
   "outputs": [
    {
     "data": {
      "text/plain": [
       "array([ 0.025, -1.072, -1.505])"
      ]
     },
     "execution_count": 455,
     "metadata": {},
     "output_type": "execute_result"
    },
    {
     "data": {
      "image/png": "[encoded data removed]",
      "text/plain": [
       "<matplotlib.figure.Figure at 0x7fb166462a90>"
      ]
     },
     "metadata": {},
     "output_type": "display_data"
    }
   ],
   "source": [
    "plot(sample, ['$h_{xx}$', '$h_{yy}$', '$h_{zz}$'])\n",
    "plt.title(r'Filament constrain, $\\nu_\\mathrm{fil} = %s$' % nufil)\n",
    "plt.savefig('plots/filament_nu=%.2f.pdf' % nufil)\n",
    "np.round(np.percentile(sample, 0.5, axis=0), 3)"
   ]
  },
  {
   "cell_type": "markdown",
   "metadata": {
    "extensions": {
     "jupyter_dashboards": {
      "version": 1,
      "views": {
       "grid_default": {
        "col": 0,
        "height": 4,
        "hidden": false,
        "row": 63,
        "width": 4
       },
       "report_default": {}
      }
     }
    }
   },
   "source": [
    "## Wall"
   ]
  },
  {
   "cell_type": "markdown",
   "metadata": {
    "extensions": {
     "jupyter_dashboards": {
      "version": 1,
      "views": {
       "grid_default": {
        "col": 4,
        "height": 4,
        "hidden": false,
        "row": 66,
        "width": 4
       },
       "report_default": {}
      }
     }
    }
   },
   "source": [
    "Burn run"
   ]
  },
  {
   "cell_type": "code",
   "execution_count": 378,
   "metadata": {
    "ExecuteTime": {
     "end_time": "2018-02-20T13:32:53.767721Z",
     "start_time": "2018-02-20T13:32:53.270492Z"
    },
    "extensions": {
     "jupyter_dashboards": {
      "version": 1,
      "views": {
       "grid_default": {
        "hidden": true
       },
       "report_default": {}
      }
     }
    }
   },
   "outputs": [],
   "source": [
    "sampler = emcee.EnsembleSampler(nwalkers, ndim, logprob, args=[mean, icov, 1, 1, -1])\n",
    "p00 = [np.array((1.2, 1.5, 1, -2)) + (np.random.rand(4)-0.5) for _ in range(nwalkers)]\n",
    "# Burn run\n",
    "pos, prob, state = sampler.run_mcmc(p00, nburn)\n",
    "sampler.reset()"
   ]
  },
  {
   "cell_type": "markdown",
   "metadata": {
    "extensions": {
     "jupyter_dashboards": {
      "version": 1,
      "views": {
       "grid_default": {
        "col": 0,
        "height": 4,
        "hidden": false,
        "row": 67,
        "width": 4
       },
       "report_default": {}
      }
     }
    }
   },
   "source": [
    "Draw using MCMC"
   ]
  },
  {
   "cell_type": "code",
   "execution_count": 379,
   "metadata": {
    "ExecuteTime": {
     "end_time": "2018-02-20T13:32:56.922144Z",
     "start_time": "2018-02-20T13:32:54.580400Z"
    },
    "extensions": {
     "jupyter_dashboards": {
      "version": 1,
      "views": {
       "grid_default": {
        "hidden": true
       },
       "report_default": {}
      }
     }
    }
   },
   "outputs": [],
   "source": [
    "sampler.reset()\n",
    "sampler.run_mcmc(pos, ndraw // nwalkers)\n",
    "sample = sampler.flatchain"
   ]
  },
  {
   "cell_type": "code",
   "execution_count": 381,
   "metadata": {
    "ExecuteTime": {
     "end_time": "2018-02-20T13:34:46.210625Z",
     "start_time": "2018-02-20T13:34:45.698754Z"
    },
    "extensions": {
     "jupyter_dashboards": {
      "version": 1,
      "views": {
       "grid_default": {
        "col": 4,
        "height": 15,
        "hidden": false,
        "row": 75,
        "width": 4
       },
       "report_default": {}
      }
     }
    }
   },
   "outputs": [
    {
     "data": {
      "text/plain": [
       "array([[-0.41620816,  0.63975006,  0.34949285, -0.38842924],\n",
       "       [ 0.38443968,  0.92604465,  0.56173702, -0.18360659]])"
      ]
     },
     "execution_count": 381,
     "metadata": {},
     "output_type": "execute_result"
    },
    {
     "data": {
      "image/png": "[encoded data removed]",
      "text/plain": [
       "<matplotlib.figure.Figure at 0x7fb166b56438>"
      ]
     },
     "metadata": {},
     "output_type": "display_data"
    }
   ],
   "source": [
    "plot(sample)\n",
    "np.percentile(sample, [50, 68/2+50], axis=0)"
   ]
  },
  {
   "cell_type": "markdown",
   "metadata": {
    "extensions": {
     "jupyter_dashboards": {
      "version": 1,
      "views": {
       "grid_default": {
        "col": 8,
        "height": 4,
        "hidden": false,
        "row": 75,
        "width": null
       },
       "report_default": {}
      }
     }
    }
   },
   "source": [
    "### Wall at $\\nu=0.40$ (~$1\\sigma$)"
   ]
  },
  {
   "cell_type": "code",
   "execution_count": 429,
   "metadata": {
    "ExecuteTime": {
     "end_time": "2018-02-20T13:48:51.423206Z",
     "start_time": "2018-02-20T13:48:51.081259Z"
    },
    "extensions": {
     "jupyter_dashboards": {
      "version": 1,
      "views": {
       "grid_default": {
        "hidden": true
       },
       "report_default": {}
      }
     }
    }
   },
   "outputs": [
    {
     "name": "stderr",
     "output_type": "stream",
     "text": [
      "/home/ccc/.anaconda/lib/python3.6/site-packages/emcee/ensemble.py:335: RuntimeWarning: invalid value encountered in subtract\n",
      "  lnpdiff = (self.dim - 1.) * np.log(zz) + newlnprob - lnprob0\n",
      "/home/ccc/.anaconda/lib/python3.6/site-packages/emcee/ensemble.py:336: RuntimeWarning: invalid value encountered in greater\n",
      "  accept = (lnpdiff > np.log(self._random.rand(len(lnpdiff))))\n"
     ]
    }
   ],
   "source": [
    "nuwall = 0.40\n",
    "mmean, ccov = constrain(mean, cov, np.array([nuwall, np.nan, np.nan, np.nan]))\n",
    "iccov = np.linalg.inv(ccov)\n",
    "                       \n",
    "nw = 10\n",
    "sampler = emcee.EnsembleSampler(nw, 3, logprob, args=[mmean, iccov, 1, 1, -1])\n",
    "p00 = [np.array((1.5, 1, -2)) + (np.random.rand(3)-0.5) for _ in range(nw)]\n",
    "# Burn run\n",
    "pos, prob, state = sampler.run_mcmc(p00, nburn)\n",
    "sampler.reset()"
   ]
  },
  {
   "cell_type": "markdown",
   "metadata": {
    "extensions": {
     "jupyter_dashboards": {
      "version": 1,
      "views": {
       "grid_default": {
        "col": 8,
        "height": 4,
        "hidden": false,
        "row": 79,
        "width": 4
       },
       "report_default": {}
      }
     }
    }
   },
   "source": [
    "Draw using MCMC"
   ]
  },
  {
   "cell_type": "code",
   "execution_count": 430,
   "metadata": {
    "ExecuteTime": {
     "end_time": "2018-02-20T13:49:13.632061Z",
     "start_time": "2018-02-20T13:48:51.953417Z"
    },
    "extensions": {
     "jupyter_dashboards": {
      "version": 1,
      "views": {
       "grid_default": {
        "hidden": true
       },
       "report_default": {}
      }
     }
    }
   },
   "outputs": [],
   "source": [
    "sampler.reset()\n",
    "sampler.run_mcmc(pos, 10 * ndraw // nw)\n",
    "sample = sampler.flatchain"
   ]
  },
  {
   "cell_type": "code",
   "execution_count": 431,
   "metadata": {
    "ExecuteTime": {
     "end_time": "2018-02-20T13:49:14.745455Z",
     "start_time": "2018-02-20T13:49:13.633839Z"
    },
    "extensions": {
     "jupyter_dashboards": {
      "version": 1,
      "views": {
       "grid_default": {
        "col": 8,
        "height": 13,
        "hidden": false,
        "row": 83,
        "width": 4
       },
       "report_default": {}
      }
     }
    }
   },
   "outputs": [
    {
     "data": {
      "image/png": "[encoded data removed]",
      "text/plain": [
       "<matplotlib.figure.Figure at 0x7fb167e7bdd8>"
      ]
     },
     "metadata": {},
     "output_type": "display_data"
    }
   ],
   "source": [
    "plot(sample, ['$h_{xx}$', '$h_{yy}$', '$h_{zz}$'])\n",
    "np.round(np.percentile(sample, 0.5, axis=0), 3)\n",
    "plt.title(r'Wall constrain, $\\nu_\\mathrm{wall} = %s$' % nuwall)\n",
    "plt.savefig('plots/wall_nu=%.2f.pdf' % nuwall)"
   ]
  },
  {
   "cell_type": "markdown",
   "metadata": {
    "extensions": {
     "jupyter_dashboards": {
      "version": 1,
      "views": {
       "grid_default": {
        "col": 0,
        "height": 4,
        "hidden": false,
        "row": 96,
        "width": null
       },
       "report_default": {}
      }
     }
    }
   },
   "source": [
    "### Wall at $\\nu=0.0$ (~$0.5\\sigma$)"
   ]
  },
  {
   "cell_type": "code",
   "execution_count": 432,
   "metadata": {
    "ExecuteTime": {
     "end_time": "2018-02-20T13:49:15.254506Z",
     "start_time": "2018-02-20T13:49:14.747839Z"
    },
    "extensions": {
     "jupyter_dashboards": {
      "version": 1,
      "views": {
       "grid_default": {
        "hidden": true
       },
       "report_default": {}
      }
     }
    }
   },
   "outputs": [],
   "source": [
    "nuwall = 0.0\n",
    "mmean, ccov = constrain(mean, cov, np.array([nuwall, np.nan, np.nan, np.nan]))\n",
    "iccov = np.linalg.inv(ccov)\n",
    "                       \n",
    "nw = 10\n",
    "sampler = emcee.EnsembleSampler(nw, 3, logprob, args=[mmean, iccov, 1, 1, -1])\n",
    "p00 = [np.array((1.5, 1, -2)) + (np.random.rand(3)-0.5) for _ in range(nw)]\n",
    "# Burn run\n",
    "pos, prob, state = sampler.run_mcmc(p00, nburn)\n",
    "sampler.reset()"
   ]
  },
  {
   "cell_type": "markdown",
   "metadata": {
    "extensions": {
     "jupyter_dashboards": {
      "version": 1,
      "views": {
       "grid_default": {
        "col": 0,
        "height": 4,
        "hidden": false,
        "row": 89,
        "width": 4
       },
       "report_default": {}
      }
     }
    }
   },
   "source": [
    "Draw using MCMC"
   ]
  },
  {
   "cell_type": "code",
   "execution_count": 433,
   "metadata": {
    "ExecuteTime": {
     "end_time": "2018-02-20T13:49:37.518537Z",
     "start_time": "2018-02-20T13:49:15.256141Z"
    },
    "extensions": {
     "jupyter_dashboards": {
      "version": 1,
      "views": {
       "grid_default": {
        "hidden": true
       },
       "report_default": {}
      }
     }
    }
   },
   "outputs": [],
   "source": [
    "sampler.reset()\n",
    "sampler.run_mcmc(pos, 10*ndraw // nw)\n",
    "sample = sampler.flatchain"
   ]
  },
  {
   "cell_type": "code",
   "execution_count": 434,
   "metadata": {
    "ExecuteTime": {
     "end_time": "2018-02-20T13:49:38.630356Z",
     "start_time": "2018-02-20T13:49:37.519984Z"
    },
    "extensions": {
     "jupyter_dashboards": {
      "version": 1,
      "views": {
       "grid_default": {
        "col": 0,
        "height": 13,
        "hidden": false,
        "row": 100,
        "width": 4
       },
       "report_default": {}
      }
     }
    }
   },
   "outputs": [
    {
     "data": {
      "image/png": "[encoded data removed]",
      "text/plain": [
       "<matplotlib.figure.Figure at 0x7fb1671df908>"
      ]
     },
     "metadata": {},
     "output_type": "display_data"
    }
   ],
   "source": [
    "plot(sample, ['$h_{xx}$', '$h_{yy}$', '$h_{zz}$'])\n",
    "np.round(np.percentile(sample, 0.5, axis=0), 3)\n",
    "plt.title(r'Wall constrain, $\\nu_\\mathrm{wall} = %s$' % nuwall)\n",
    "plt.savefig('plots/wall_nu=%.2f.pdf' % nuwall)"
   ]
  },
  {
   "cell_type": "markdown",
   "metadata": {
    "extensions": {
     "jupyter_dashboards": {
      "version": 1,
      "views": {
       "grid_default": {
        "col": 4,
        "height": 4,
        "hidden": false,
        "row": 90,
        "width": 4
       },
       "report_default": {}
      }
     }
    }
   },
   "source": [
    "## Void"
   ]
  },
  {
   "cell_type": "markdown",
   "metadata": {
    "extensions": {
     "jupyter_dashboards": {
      "version": 1,
      "views": {
       "grid_default": {
        "col": 4,
        "height": 4,
        "hidden": false,
        "row": 100,
        "width": 4
       },
       "report_default": {}
      }
     }
    }
   },
   "source": [
    "Burn run"
   ]
  },
  {
   "cell_type": "code",
   "execution_count": 362,
   "metadata": {
    "ExecuteTime": {
     "end_time": "2018-02-20T13:32:53.767721Z",
     "start_time": "2018-02-20T13:32:53.270492Z"
    },
    "extensions": {
     "jupyter_dashboards": {
      "version": 1,
      "views": {
       "grid_default": {
        "hidden": true
       },
       "report_default": {}
      }
     }
    }
   },
   "outputs": [
    {
     "name": "stderr",
     "output_type": "stream",
     "text": [
      "/home/ccc/.anaconda/lib/python3.6/site-packages/emcee/ensemble.py:335: RuntimeWarning: invalid value encountered in subtract\n",
      "  lnpdiff = (self.dim - 1.) * np.log(zz) + newlnprob - lnprob0\n",
      "/home/ccc/.anaconda/lib/python3.6/site-packages/emcee/ensemble.py:336: RuntimeWarning: invalid value encountered in greater\n",
      "  accept = (lnpdiff > np.log(self._random.rand(len(lnpdiff))))\n"
     ]
    }
   ],
   "source": [
    "sampler = emcee.EnsembleSampler(nwalkers, ndim, logprob, args=[mean, icov, 1, 1, 1])\n",
    "p00 = [np.array((1.2, 2, 1, 0.5)) + (np.random.rand(4)-0.5) for _ in range(nwalkers)]\n",
    "# Burn run\n",
    "pos, prob, state = sampler.run_mcmc(p00, nburn)\n",
    "sampler.reset()"
   ]
  },
  {
   "cell_type": "markdown",
   "metadata": {
    "extensions": {
     "jupyter_dashboards": {
      "version": 1,
      "views": {
       "grid_default": {
        "col": 8,
        "height": 4,
        "hidden": false,
        "row": 100,
        "width": 4
       },
       "report_default": {}
      }
     }
    }
   },
   "source": [
    "Draw using MCMC"
   ]
  },
  {
   "cell_type": "code",
   "execution_count": 363,
   "metadata": {
    "ExecuteTime": {
     "end_time": "2018-02-20T13:32:56.922144Z",
     "start_time": "2018-02-20T13:32:54.580400Z"
    },
    "extensions": {
     "jupyter_dashboards": {
      "version": 1,
      "views": {
       "grid_default": {
        "hidden": true
       },
       "report_default": {}
      }
     }
    }
   },
   "outputs": [],
   "source": [
    "sampler.reset()\n",
    "sampler.run_mcmc(pos, ndraw // nwalkers)\n",
    "sample = sampler.flatchain"
   ]
  },
  {
   "cell_type": "code",
   "execution_count": 364,
   "metadata": {
    "ExecuteTime": {
     "end_time": "2018-02-20T13:34:46.210625Z",
     "start_time": "2018-02-20T13:34:45.698754Z"
    },
    "extensions": {
     "jupyter_dashboards": {
      "version": 1,
      "views": {
       "grid_default": {
        "col": 4,
        "height": 12,
        "hidden": false,
        "row": 104,
        "width": 4
       },
       "report_default": {}
      }
     }
    }
   },
   "outputs": [
    {
     "data": {
      "image/png": "[encoded data removed]",
      "text/plain": [
       "<matplotlib.figure.Figure at 0x7fb16bf59470>"
      ]
     },
     "metadata": {},
     "output_type": "display_data"
    }
   ],
   "source": [
    "plot(sample)"
   ]
  },
  {
   "cell_type": "markdown",
   "metadata": {
    "extensions": {
     "jupyter_dashboards": {
      "version": 1,
      "views": {
       "grid_default": {
        "col": 8,
        "height": 4,
        "hidden": false,
        "row": 104,
        "width": 4
       },
       "report_default": {}
      }
     }
    }
   },
   "source": [
    "# Two walls on a line"
   ]
  },
  {
   "cell_type": "code",
   "execution_count": 216,
   "metadata": {
    "ExecuteTime": {
     "end_time": "2018-02-20T12:51:24.900278Z",
     "start_time": "2018-02-20T12:51:24.808945Z"
    },
    "extensions": {
     "jupyter_dashboards": {
      "version": 1,
      "views": {
       "grid_default": {
        "hidden": true
       },
       "report_default": {}
      }
     }
    }
   },
   "outputs": [],
   "source": [
    "%run code/correlations.py\n",
    "C = Correlator()\n",
    "N = 10\n",
    "D = 10    # Mpc/h\n",
    "Rwall = 5 # Mpc/h\n",
    "Rfil = 5  # Mpc/h\n",
    "Rpt = 1  \n",
    "\n",
    "x = np.linspace(-D, D, N+2)[1:-1]\n",
    "\n",
    "# Two walls\n",
    "nu1 = -1\n",
    "C.add_point([-D, 0, 0], ['density', 'grad_delta', 'hessian'], Rwall, constrains={\n",
    "    'grad_delta': [0, 0, 0],\n",
    "    'hessian': [np.nan, np.nan, np.nan, 0, 0, 0],\n",
    "    'density': [nu1]}\n",
    ")\n",
    "nu2 = -2\n",
    "C.add_point([ D, 0, 0], ['density', 'grad_delta', 'hessian'], Rwall, constrains={\n",
    "    'grad_delta': [0, 0, 0],\n",
    "    'hessian': [np.nan, np.nan, np.nan, 0, 0, 0],\n",
    "    'density': [nu2]}\n",
    ") \n",
    "\n",
    "# One filament\n",
    "nu3 = 1.2\n",
    "C.add_point([0, 0, 0], ['grad_delta', 'hessian', 'density'], Rfil, constrains={\n",
    "    'grad_delta': [0, 0, 0],\n",
    "    'hessian': [np.nan, np.nan, np.nan, 0, 0, 0],\n",
    "    'density': [nu3]\n",
    "})\n",
    "# Add the points\n",
    "for _x in x:\n",
    "    if _x == 0:\n",
    "        continue\n",
    "    C.add_point([_x, 0, 0], ['density'], Rpt)"
   ]
  },
  {
   "cell_type": "code",
   "execution_count": 217,
   "metadata": {
    "ExecuteTime": {
     "end_time": "2018-02-20T12:51:37.460752Z",
     "start_time": "2018-02-20T12:51:25.661913Z"
    },
    "extensions": {
     "jupyter_dashboards": {
      "version": 1,
      "views": {
       "grid_default": {
        "col": 8,
        "height": 4,
        "hidden": false,
        "row": 108,
        "width": 4
       },
       "report_default": {}
      }
     }
    }
   },
   "outputs": [
    {
     "name": "stderr",
     "output_type": "stream",
     "text": [
      "40x40: 100%|██████████| 820/820 [00:11<00:00, 69.60it/s]"
     ]
    },
    {
     "name": "stdout",
     "output_type": "stream",
     "text": [
      "WARNING: the covariance matrix is not positive definite.\n"
     ]
    },
    {
     "name": "stderr",
     "output_type": "stream",
     "text": [
      "\n"
     ]
    }
   ],
   "source": [
    "_ = C.cov"
   ]
  },
  {
   "cell_type": "code",
   "execution_count": 219,
   "metadata": {
    "ExecuteTime": {
     "end_time": "2018-02-20T12:52:00.915984Z",
     "start_time": "2018-02-20T12:52:00.526604Z"
    },
    "extensions": {
     "jupyter_dashboards": {
      "version": 1,
      "views": {
       "grid_default": {
        "col": 8,
        "height": 14,
        "hidden": false,
        "row": 112,
        "width": 4
       },
       "report_default": {}
      }
     }
    }
   },
   "outputs": [
    {
     "data": {
      "text/plain": [
       "<matplotlib.collections.PathCollection at 0x7fb16b33f780>"
      ]
     },
     "execution_count": 219,
     "metadata": {},
     "output_type": "execute_result"
    },
    {
     "data": {
      "image/png": "[encoded data removed]",
      "text/plain": [
       "<matplotlib.figure.Figure at 0x7fb15edef9e8>"
      ]
     },
     "metadata": {},
     "output_type": "display_data"
    }
   ],
   "source": [
    "plt.plot(x, C.mean_c[-N:])\n",
    "plt.scatter([-D, D], [nu1, nu2], marker='*')\n",
    "plt.scatter(0, nu3, marker='o')"
   ]
  },
  {
   "cell_type": "markdown",
   "metadata": {
    "extensions": {
     "jupyter_dashboards": {
      "version": 1,
      "views": {
       "grid_default": {
        "col": 0,
        "height": 4,
        "hidden": false,
        "row": 113,
        "width": 4
       },
       "report_default": {}
      }
     }
    }
   },
   "source": [
    "# Two walls, one peak"
   ]
  },
  {
   "cell_type": "code",
   "execution_count": 49,
   "metadata": {
    "ExecuteTime": {
     "end_time": "2018-02-22T15:57:16.613422Z",
     "start_time": "2018-02-22T15:57:16.560169Z"
    },
    "extensions": {
     "jupyter_dashboards": {
      "version": 1,
      "views": {
       "grid_default": {
        "col": 4,
        "height": 4,
        "hidden": false,
        "row": 116,
        "width": 4
       },
       "report_default": {}
      }
     }
    }
   },
   "outputs": [],
   "source": [
    "%run code/correlations.py\n",
    "C = Correlator()\n",
    "D = 15     # Mpc/h\n",
    "Rwall = 7.5# Mpc/h\n",
    "Rfil = 5   # Mpc/h\n",
    "cons = dict(\n",
    "    grad_delta=[0, 0, 0], \n",
    "    hessian=[0.14, 0.03, -1.25, 0, 0, 0])\n",
    "\n",
    "sigmawall = sigma(0, Rwall)\n",
    "cons.update(delta=[ 0.5 / sigmawall])\n",
    "C.add_point([-D, 0, 0], ['delta', 'grad_delta', 'hessian'], Rwall, \n",
    "            constrains=dict(\n",
    "                grad_delta=[0, 0, 0], \n",
    "                hessian=[0.14, 0.03, -1.25, 0, 0, 0]),\n",
    "           name='A_1') # This is wall 1\n",
    "\n",
    "cons.update(delta=[ 0. / sigmawall])\n",
    "C.add_point([+D, 0, 0], ['delta', 'grad_delta', 'hessian'], Rwall,\n",
    "            constrains=dict(\n",
    "                grad_delta=[0, 0, 0], \n",
    "                hessian=[0.14, 0.03, -1.25, 0, 0, 0]),\n",
    "            name='A_2') # This is wall 2\n",
    "\n",
    "\n",
    "C.add_point([0, 0, 0], ['delta', 'a', 'grad_delta', 'hessian'], Rfil,\n",
    "           constrains=dict(\n",
    "               a=[np.nan, np.inf, np.inf], # Forget a_y, a_z\n",
    "               # delta=[1.2],\n",
    "               grad_delta=[0, 0, 0],\n",
    "               hessian=[0.025, -1.072, -1.505, 0, 0, 0]),\n",
    "           name='A_3')"
   ]
  },
  {
   "cell_type": "code",
   "execution_count": 50,
   "metadata": {
    "ExecuteTime": {
     "end_time": "2018-02-22T15:57:33.920169Z",
     "start_time": "2018-02-22T15:57:17.176141Z"
    },
    "extensions": {
     "jupyter_dashboards": {
      "version": 1,
      "views": {
       "grid_default": {
        "col": 4,
        "height": 4,
        "hidden": false,
        "row": 116,
        "width": 4
       },
       "report_default": {}
      }
     }
    }
   },
   "outputs": [
    {
     "name": "stderr",
     "output_type": "stream",
     "text": [
      "33x33: 100%|██████████| 561/561 [00:16<00:00, 33.54it/s]"
     ]
    },
    {
     "name": "stdout",
     "output_type": "stream",
     "text": [
      "WARNING: the covariance matrix is not positive definite.\n"
     ]
    },
    {
     "name": "stderr",
     "output_type": "stream",
     "text": [
      "\n"
     ]
    },
    {
     "data": {
      "text/plain": [
       "(array([-0.02521507,  0.00785045,  0.00785045,  0.01258271,  0.03992434,\n",
       "         0.05037493,  0.05037494,  0.05469976,  0.06197047,  0.07566282,\n",
       "         0.07566283,  0.07986904,  0.08821105,  0.09188566,  0.09188566,\n",
       "         0.09810519,  0.1188901 ,  0.12389663,  0.13605428,  0.17433321,\n",
       "         0.17433321,  0.18943368,  0.19623433,  0.22104465,  0.24269121,\n",
       "         0.24269121,  0.2477826 ,  0.25168408,  0.58541569,  0.58541569,\n",
       "         0.78232515,  1.34851855,  2.00220243]),\n",
       " array([-0.15612808,  0.03065286,  0.15653261,  0.98412221]))"
      ]
     },
     "execution_count": 50,
     "metadata": {},
     "output_type": "execute_result"
    }
   ],
   "source": [
    "np.linalg.eigvalsh(C.cov), np.linalg.eigvalsh(C.cov_c)"
   ]
  },
  {
   "cell_type": "code",
   "execution_count": 51,
   "metadata": {
    "ExecuteTime": {
     "end_time": "2018-02-22T15:57:45.758707Z",
     "start_time": "2018-02-22T15:57:45.745578Z"
    }
   },
   "outputs": [
    {
     "data": {
      "text/markdown": [
       "\n",
       "| | $\\delta^{A_1}$ | $\\delta^{A_2}$ | $\\delta^{A_3}$ | $a_x^{A_3}$ |\n",
       "|-|-|--|--|-|\n",
       "|$\\delta^{A_1}$|$   0.23858$ | $   0.38413$ | $   0.32709$ | $   0.03997$|\n",
       "|$\\delta^{A_2}$|$   0.38413$ | $   0.23858$ | $   0.32709$ | $  -0.03997$|\n",
       "|$\\delta^{A_3}$|$   0.32709$ | $   0.32709$ | $   0.39206$ | $          $|\n",
       "|$a_x^{A_3}$|$   0.03997$ | $  -0.03997$ | $          $ | $   0.14596$|\n"
      ],
      "text/plain": [
       "<IPython.core.display.Markdown object>"
      ]
     },
     "metadata": {},
     "output_type": "display_data"
    }
   ],
   "source": [
    "C.describe_table(constrained=True)"
   ]
  },
  {
   "cell_type": "code",
   "execution_count": 52,
   "metadata": {
    "ExecuteTime": {
     "end_time": "2018-02-22T15:57:47.226596Z",
     "start_time": "2018-02-22T15:57:47.176800Z"
    }
   },
   "outputs": [
    {
     "data": {
      "text/plain": [
       "(-2.5054390268066953e-19, 0.0012056225351116732, -0.0012056225351116717)"
      ]
     },
     "execution_count": 52,
     "metadata": {},
     "output_type": "execute_result"
    }
   ],
   "source": [
    "cov_c = C.cov_c\n",
    "nu0term = ((-cov_c[0, 2] * cov_c[1, 1] + cov_c[0, 0]*  cov_c[1, 2] + \n",
    "     cov_c[0, 1] * (-cov_c[0, 2] + cov_c[1, 2])) * cov_c[3, \n",
    "    0] + (-cov_c[0, 1]**2 + cov_c[0, 0] * cov_c[1, 1]) * cov_c[3, 2])\n",
    "nu2term =  ((cov_c[0, 2]**2 + \n",
    "     cov_c[0, 2] * cov_c[1, 2] - (cov_c[0, 0] + cov_c[0, 1]) * cov_c[2, \n",
    "       2]) * cov_c[3, 0] + (cov_c[0, 1] * cov_c[0, 2] - cov_c[0, 0] * cov_c[1, 2]) * cov_c[3, \n",
    "    2])\n",
    "nu1term = ((-cov_c[0, 2] * cov_c[1, 2] - \n",
    "     cov_c[1, 2]**2 + (cov_c[0, 1] + cov_c[1, 1]) * cov_c[2, 2]) * cov_c[3,\n",
    "     0] + (-cov_c[0, 2] * cov_c[1, 1] + cov_c[0, 1] * cov_c[1, 2]) * cov_c[\n",
    "    3, 2])\n",
    "nu0term, nu1term, nu2term"
   ]
  },
  {
   "cell_type": "markdown",
   "metadata": {
    "extensions": {
     "jupyter_dashboards": {
      "version": 1,
      "views": {
       "grid_default": {
        "col": 0,
        "height": 4,
        "hidden": false,
        "row": 126,
        "width": null
       },
       "report_default": {}
      }
     }
    }
   },
   "source": [
    "## Dependance in $\\nu_1$, $\\nu_2$"
   ]
  },
  {
   "cell_type": "code",
   "execution_count": 466,
   "metadata": {
    "ExecuteTime": {
     "end_time": "2018-02-20T14:01:11.485645Z",
     "start_time": "2018-02-20T14:01:11.425947Z"
    },
    "extensions": {
     "jupyter_dashboards": {
      "version": 1,
      "views": {
       "grid_default": {
        "hidden": true
       },
       "report_default": {}
      }
     }
    }
   },
   "outputs": [
    {
     "ename": "IndexError",
     "evalue": "index 6 is out of bounds for axis 0 with size 2",
     "output_type": "error",
     "traceback": [
      "\u001b[0;31m---------------------------------------------------------------------------\u001b[0m",
      "\u001b[0;31mIndexError\u001b[0m                                Traceback (most recent call last)",
      "\u001b[0;32m<ipython-input-466-e0bf78aaf172>\u001b[0m in \u001b[0;36m<module>\u001b[0;34m()\u001b[0m\n\u001b[1;32m     13\u001b[0m         \u001b[0;32mif\u001b[0m \u001b[0mnu2\u001b[0m\u001b[0;34m[\u001b[0m\u001b[0mj\u001b[0m\u001b[0;34m]\u001b[0m \u001b[0;34m>\u001b[0m \u001b[0mnu1\u001b[0m\u001b[0;34m[\u001b[0m\u001b[0mi\u001b[0m\u001b[0;34m]\u001b[0m\u001b[0;34m:\u001b[0m\u001b[0;34m\u001b[0m\u001b[0m\n\u001b[1;32m     14\u001b[0m             \u001b[0;32mcontinue\u001b[0m\u001b[0;34m\u001b[0m\u001b[0m\n\u001b[0;32m---> 15\u001b[0;31m         \u001b[0ma_x\u001b[0m\u001b[0;34m[\u001b[0m\u001b[0mi\u001b[0m\u001b[0;34m,\u001b[0m \u001b[0mj\u001b[0m\u001b[0;34m]\u001b[0m \u001b[0;34m=\u001b[0m \u001b[0mC\u001b[0m\u001b[0;34m.\u001b[0m\u001b[0mmean_c\u001b[0m\u001b[0;34m[\u001b[0m\u001b[0;36m6\u001b[0m\u001b[0;34m]\u001b[0m\u001b[0;34m\u001b[0m\u001b[0m\n\u001b[0m",
      "\u001b[0;31mIndexError\u001b[0m: index 6 is out of bounds for axis 0 with size 2"
     ]
    }
   ],
   "source": [
    "N, M = 100, 101\n",
    "nuextr = 3\n",
    "nu1 = np.linspace(-nuextr, nuextr, N)# / sigma(0, Rwall)\n",
    "nu2 = np.linspace(-nuextr, nuextr, M)# / sigma(0, Rwall)\n",
    "a_x = np.zeros((N, M)) * np.nan\n",
    "inu1 = 0\n",
    "inu2 = 1\n",
    "iax = 2\n",
    "for i in range(N):\n",
    "    for j in range(M):\n",
    "        C.constrains[inu1] = nu1[i]\n",
    "        C.constrains[inu2] = nu2[j]\n",
    "        if nu2[j] > nu1[i]:\n",
    "            continue\n",
    "        a_x[i, j] = C.mean_c[6]"
   ]
  },
  {
   "cell_type": "code",
   "execution_count": 137,
   "metadata": {
    "ExecuteTime": {
     "end_time": "2018-02-20T12:20:52.866982Z",
     "start_time": "2018-02-20T12:20:52.386157Z"
    },
    "extensions": {
     "jupyter_dashboards": {
      "version": 1,
      "views": {
       "grid_default": {
        "col": 0,
        "height": 13,
        "hidden": false,
        "row": 130,
        "width": 4
       },
       "report_default": {}
      }
     }
    }
   },
   "outputs": [
    {
     "name": "stderr",
     "output_type": "stream",
     "text": [
      "/home/ccc/.local/lib/python3.6/site-packages/numpy/core/_methods.py:26: RuntimeWarning: invalid value encountered in reduce\n",
      "  return umr_maximum(a, axis, None, out, keepdims)\n"
     ]
    },
    {
     "data": {
      "image/png": "[encoded data removed]",
      "text/plain": [
       "<matplotlib.figure.Figure at 0x7fb15fc96be0>"
      ]
     },
     "metadata": {},
     "output_type": "display_data"
    }
   ],
   "source": [
    "a = np.abs(a_x).max()\n",
    "plt.pcolormesh(nu1, nu2, a_x.T, cmap='coolwarm', vmin=-a, vmax=a)\n",
    "plt.xlabel(r'$\\nu_1$')\n",
    "plt.ylabel(r'$\\nu_2$')\n",
    "CM = plt.colorbar()\n",
    "CM.set_label(r'$\\langle a_x\\rangle$')"
   ]
  },
  {
   "cell_type": "markdown",
   "metadata": {
    "extensions": {
     "jupyter_dashboards": {
      "version": 1,
      "views": {
       "grid_default": {
        "col": 0,
        "height": 4,
        "hidden": false,
        "row": 117,
        "width": 4
       },
       "report_default": {}
      }
     }
    }
   },
   "source": [
    "## Export to Mathematica"
   ]
  },
  {
   "cell_type": "code",
   "execution_count": 7,
   "metadata": {
    "ExecuteTime": {
     "end_time": "2018-02-19T13:55:39.017057Z",
     "start_time": "2018-02-19T13:55:38.973108Z"
    },
    "extensions": {
     "jupyter_dashboards": {
      "version": 1,
      "views": {
       "grid_default": {
        "col": 4,
        "height": 6,
        "hidden": false,
        "row": 130,
        "width": null
       },
       "report_default": {}
      }
     }
    }
   },
   "outputs": [
    {
     "data": {
      "text/markdown": [
       "\n",
       "|1|2|3|4|5|6|7|8|9|10|11|12|13|14|15|16|17|18|19|20|21|22|23|24|25|26|27|28|29|30|31|32|33|\n",
       "|-|--|--|--|--|--|--|--|--|--|--|--|--|--|--|--|--|--|--|--|--|--|--|--|--|--|--|--|--|--|--|--|--|-|\n",
       "|$\\delta^{V_1}$|$\\nabla_x \\delta^{V_1}$|$\\nabla_y \\delta^{V_1}$|$\\nabla_z \\delta^{V_1}$|$h_{xx}^{V_1}$|$h_{yy}^{V_1}$|$h_{zz}^{V_1}$|$h_{xy}^{V_1}$|$h_{xz}^{V_1}$|$h_{yz}^{V_1}$|$\\delta^{V_2}$|$\\nabla_x \\delta^{V_2}$|$\\nabla_y \\delta^{V_2}$|$\\nabla_z \\delta^{V_2}$|$h_{xx}^{V_2}$|$h_{yy}^{V_2}$|$h_{zz}^{V_2}$|$h_{xy}^{V_2}$|$h_{xz}^{V_2}$|$h_{yz}^{V_2}$|$a_x^{3}$|$a_y^{3}$|$a_z^{3}$|$\\delta^{3}$|$\\nabla_x \\delta^{3}$|$\\nabla_y \\delta^{3}$|$\\nabla_z \\delta^{3}$|$h_{xx}^{3}$|$h_{yy}^{3}$|$h_{zz}^{3}$|$h_{xy}^{3}$|$h_{xz}^{3}$|$h_{yz}^{3}$| \n",
       "|$\\alpha1$|$\\alpha2$|$\\alpha3$|$\\alpha4$|$\\alpha5$|$\\alpha6$|$\\alpha7$|$\\alpha8$|$\\alpha9$|$\\alpha10$|$\\alpha11$|$\\alpha12$|$\\alpha13$|$\\alpha14$|$\\alpha15$|$\\alpha16$|$\\alpha17$|$\\alpha18$|$\\alpha19$|$\\alpha20$|$\\alpha21$|$\\alpha22$|$\\alpha23$|$\\alpha24$|$\\alpha25$|$\\alpha26$|$\\alpha27$|$\\alpha28$|$\\alpha29$|$\\alpha30$|$\\alpha31$|$\\alpha32$|$\\alpha33$| \n"
      ],
      "text/plain": [
       "<IPython.core.display.Markdown object>"
      ]
     },
     "metadata": {},
     "output_type": "display_data"
    }
   ],
   "source": [
    "from IPython.display import display, Math, Latex, Markdown\n",
    "fmt = '''\n",
    "|%(count)s|\n",
    "|%(sep)s|\n",
    "|%(header)s| \n",
    "|%(nick)s| \n",
    "''' % dict(\n",
    "    header='|'.join(C.labels),\n",
    "    sep='-|-' * len(C.labels),\n",
    "    count='|'.join(('%s' % (i + 1) for i in range(len(C.labels)))),\n",
    "    nick='|'.join((r'$\\alpha%s$' % (i + 1) for i in range(len(C.labels))))\n",
    ")\n",
    "\n",
    "display(Markdown(fmt))"
   ]
  },
  {
   "cell_type": "markdown",
   "metadata": {
    "extensions": {
     "jupyter_dashboards": {
      "version": 1,
      "views": {
       "grid_default": {
        "col": 4,
        "height": 4,
        "hidden": false,
        "row": 120,
        "width": 4
       },
       "report_default": {}
      }
     }
    }
   },
   "source": [
    "Build a matrix of elements compatible to a direct import in mathematica"
   ]
  },
  {
   "cell_type": "code",
   "execution_count": 60,
   "metadata": {
    "ExecuteTime": {
     "end_time": "2018-02-19T14:51:01.587243Z",
     "start_time": "2018-02-19T14:51:01.529426Z"
    },
    "extensions": {
     "jupyter_dashboards": {
      "version": 1,
      "views": {
       "grid_default": {
        "col": 4,
        "height": 90,
        "hidden": false,
        "row": 136,
        "width": 4
       },
       "report_default": {}
      }
     }
    }
   },
   "outputs": [
    {
     "name": "stdout",
     "output_type": "stream",
     "text": [
      "{{  a38,    0,    0,    0,  a35,  a35,  a35,    0,    0,    0,  a25, -a19,    0,    0, -a14,   a8,   a8,    0,    0,    0,  a34,    0,    0,  a36, -a31,    0,    0, -a28,  a23,  a23,    0,    0,    0},\n",
      "{    0,  a37,    0,    0,    0,    0,    0,    0,    0,    0, -a19, -a15,    0,    0,  a11,  -a7,  -a6,    0,    0,    0,  a21,    0,    0, -a31, -a30,    0,    0,  a24, -a22, -a22,    0,    0,    0},\n",
      "{    0,    0,  a37,    0,    0,    0,    0,    0,    0,    0,    0,    0,  a10,    0,    0,    0,    0,  -a7,    0,    0,    0, -a27,    0,    0,    0,  a26,    0,    0,    0,    0, -a22,    0,    0},\n",
      "{    0,    0,    0,  a37,    0,    0,    0,    0,    0,    0,    0,    0,    0,  a10,    0,    0,    0,    0,  -a6,    0,    0,    0, -a27,    0,    0,    0,  a26,    0,    0,    0,    0, -a22,    0},\n",
      "{  a35,    0,    0,    0,  a33,  a29,  a29,    0,    0,    0, -a14,  a11,    0,    0,   a9,  -a4,  -a5,    0,    0,    0,  a16,    0,    0, -a28,  a24,    0,    0, -a13, -a20, -a20,    0,    0,    0},\n",
      "{  a35,    0,    0,    0,  a29,  a33,  a29,    0,    0,    0,   a8,  -a7,    0,    0,  -a4,   a2,   a1,    0,    0,    0,  a18,    0,    0,  a23, -a22,    0,    0, -a20,  a17,  a12,    0,    0,    0},\n",
      "{  a35,    0,    0,    0,  a29,  a29,  a33,    0,    0,    0,   a8,  -a6,    0,    0,  -a5,   a1,   a3,    0,    0,    0,  a18,    0,    0,  a23, -a22,    0,    0, -a20,  a12,  a17,    0,    0,    0},\n",
      "{    0,    0,    0,    0,    0,    0,    0,  a29,    0,    0,    0,    0,  -a7,    0,    0,    0,    0,  -a4,    0,    0,    0,  a18,    0,    0,    0, -a22,    0,    0,    0,    0, -a20,    0,    0},\n",
      "{    0,    0,    0,    0,    0,    0,    0,    0,  a29,    0,    0,    0,    0,  -a6,    0,    0,    0,    0,  -a5,    0,    0,    0,  a18,    0,    0,    0, -a22,    0,    0,    0,    0, -a20,    0},\n",
      "{    0,    0,    0,    0,    0,    0,    0,    0,    0,  a29,    0,    0,    0,    0,    0,    0,    0,    0,    0,   a1,    0,    0,    0,    0,    0,    0,    0,    0,    0,    0,    0,    0,  a12},\n",
      "{  a25, -a19,    0,    0, -a14,   a8,   a8,    0,    0,    0,  a38,    0,    0,    0,  a35,  a35,  a35,    0,    0,    0, -a34,    0,    0,  a36,  a31,    0,    0, -a28,  a23,  a23,    0,    0,    0},\n",
      "{ -a19, -a15,    0,    0,  a11,  -a7,  -a6,    0,    0,    0,    0,  a37,    0,    0,    0,    0,    0,    0,    0,    0,  a21,    0,    0,  a31, -a30,    0,    0, -a24,  a22,  a22,    0,    0,    0},\n",
      "{    0,    0,  a10,    0,    0,    0,    0,  -a7,    0,    0,    0,    0,  a37,    0,    0,    0,    0,    0,    0,    0,    0, -a27,    0,    0,    0,  a26,    0,    0,    0,    0,  a22,    0,    0},\n",
      "{    0,    0,    0,  a10,    0,    0,    0,    0,  -a6,    0,    0,    0,    0,  a37,    0,    0,    0,    0,    0,    0,    0,    0, -a27,    0,    0,    0,  a26,    0,    0,    0,    0,  a22,    0},\n",
      "{ -a14,  a11,    0,    0,   a9,  -a4,  -a5,    0,    0,    0,  a35,    0,    0,    0,  a33,  a29,  a29,    0,    0,    0, -a16,    0,    0, -a28, -a24,    0,    0, -a13, -a20, -a20,    0,    0,    0},\n",
      "{   a8,  -a7,    0,    0,  -a4,   a2,   a1,    0,    0,    0,  a35,    0,    0,    0,  a29,  a33,  a29,    0,    0,    0, -a18,    0,    0,  a23,  a22,    0,    0, -a20,  a17,  a12,    0,    0,    0},\n",
      "{   a8,  -a6,    0,    0,  -a5,   a1,   a3,    0,    0,    0,  a35,    0,    0,    0,  a29,  a29,  a33,    0,    0,    0, -a18,    0,    0,  a23,  a22,    0,    0, -a20,  a12,  a17,    0,    0,    0},\n",
      "{    0,    0,  -a7,    0,    0,    0,    0,  -a4,    0,    0,    0,    0,    0,    0,    0,    0,    0,  a29,    0,    0,    0, -a18,    0,    0,    0,  a22,    0,    0,    0,    0, -a20,    0,    0},\n",
      "{    0,    0,    0,  -a6,    0,    0,    0,    0,  -a5,    0,    0,    0,    0,    0,    0,    0,    0,    0,  a29,    0,    0,    0, -a18,    0,    0,    0,  a22,    0,    0,    0,    0, -a20,    0},\n",
      "{    0,    0,    0,    0,    0,    0,    0,    0,    0,   a1,    0,    0,    0,    0,    0,    0,    0,    0,    0,  a29,    0,    0,    0,    0,    0,    0,    0,    0,    0,    0,    0,    0,  a12},\n",
      "{  a34,  a21,    0,    0,  a16,  a18,  a18,    0,    0,    0, -a34,  a21,    0,    0, -a16, -a18, -a18,    0,    0,    0,  a37,    0,    0,    0, -a32,    0,    0,    0,    0,    0,    0,    0,    0},\n",
      "{    0,    0, -a27,    0,    0,    0,    0,  a18,    0,    0,    0,    0, -a27,    0,    0,    0,    0, -a18,    0,    0,    0,  a37,    0,    0,    0, -a32,    0,    0,    0,    0,    0,    0,    0},\n",
      "{    0,    0,    0, -a27,    0,    0,    0,    0,  a18,    0,    0,    0,    0, -a27,    0,    0,    0,    0, -a18,    0,    0,    0,  a37,    0,    0,    0, -a32,    0,    0,    0,    0,    0,    0},\n",
      "{  a36, -a31,    0,    0, -a28,  a23,  a23,    0,    0,    0,  a36,  a31,    0,    0, -a28,  a23,  a23,    0,    0,    0,    0,    0,    0,  a38,    0,    0,    0,  a35,  a35,  a35,    0,    0,    0},\n",
      "{ -a31, -a30,    0,    0,  a24, -a22, -a22,    0,    0,    0,  a31, -a30,    0,    0, -a24,  a22,  a22,    0,    0,    0, -a32,    0,    0,    0,  a37,    0,    0,    0,    0,    0,    0,    0,    0},\n",
      "{    0,    0,  a26,    0,    0,    0,    0, -a22,    0,    0,    0,    0,  a26,    0,    0,    0,    0,  a22,    0,    0,    0, -a32,    0,    0,    0,  a37,    0,    0,    0,    0,    0,    0,    0},\n",
      "{    0,    0,    0,  a26,    0,    0,    0,    0, -a22,    0,    0,    0,    0,  a26,    0,    0,    0,    0,  a22,    0,    0,    0, -a32,    0,    0,    0,  a37,    0,    0,    0,    0,    0,    0},\n",
      "{ -a28,  a24,    0,    0, -a13, -a20, -a20,    0,    0,    0, -a28, -a24,    0,    0, -a13, -a20, -a20,    0,    0,    0,    0,    0,    0,  a35,    0,    0,    0,  a33,  a29,  a29,    0,    0,    0},\n",
      "{  a23, -a22,    0,    0, -a20,  a17,  a12,    0,    0,    0,  a23,  a22,    0,    0, -a20,  a17,  a12,    0,    0,    0,    0,    0,    0,  a35,    0,    0,    0,  a29,  a33,  a29,    0,    0,    0},\n",
      "{  a23, -a22,    0,    0, -a20,  a12,  a17,    0,    0,    0,  a23,  a22,    0,    0, -a20,  a12,  a17,    0,    0,    0,    0,    0,    0,  a35,    0,    0,    0,  a29,  a29,  a33,    0,    0,    0},\n",
      "{    0,    0, -a22,    0,    0,    0,    0, -a20,    0,    0,    0,    0,  a22,    0,    0,    0,    0, -a20,    0,    0,    0,    0,    0,    0,    0,    0,    0,    0,    0,    0,  a29,    0,    0},\n",
      "{    0,    0,    0, -a22,    0,    0,    0,    0, -a20,    0,    0,    0,    0,  a22,    0,    0,    0,    0, -a20,    0,    0,    0,    0,    0,    0,    0,    0,    0,    0,    0,    0,  a29,    0},\n",
      "{    0,    0,    0,    0,    0,    0,    0,    0,    0,  a12,    0,    0,    0,    0,    0,    0,    0,    0,    0,  a12,    0,    0,    0,    0,    0,    0,    0,    0,    0,    0,    0,    0,  a29}}\n"
     ]
    }
   ],
   "source": [
    "ndigit = 8\n",
    "chars = ['a%s' % i for i in range(100)]\n",
    "mapping = {c: chars[i] for i, c in enumerate(np.unique(np.round(np.abs(C.cov), ndigit)))\n",
    "          if c > 0 }\n",
    "\n",
    "@np.vectorize\n",
    "def myKey(i, j):\n",
    "    a = C.cov[int(i), int(j)]\n",
    "    aa = np.round(np.abs(a), ndigit)\n",
    "    sign = '' if aa * a > 0 else '-'\n",
    "    if aa == 0:\n",
    "        return '0'\n",
    "    return sign + mapping[aa]\n",
    "    \n",
    "\n",
    "coeffs = np.fromfunction(lambda i, j: myKey(i, j), C.cov.shape)\n",
    "ll = []\n",
    "for i in range(coeffs.shape[0]):\n",
    "    l = []\n",
    "    for j in range(coeffs.shape[1]):\n",
    "        l.append('%5s' % coeffs[i, j])\n",
    "    ll.append('{%s}' % (','.join(l)))\n",
    "print('{%s}'% (',\\n'.join(ll)))"
   ]
  },
  {
   "cell_type": "markdown",
   "metadata": {
    "extensions": {
     "jupyter_dashboards": {
      "version": 1,
      "views": {
       "grid_default": {
        "col": 0,
        "height": 4,
        "hidden": false,
        "row": 121,
        "width": 4
       },
       "report_default": {}
      }
     }
    }
   },
   "source": [
    "## Plot of the covariance"
   ]
  },
  {
   "cell_type": "code",
   "execution_count": 61,
   "metadata": {
    "ExecuteTime": {
     "end_time": "2018-02-20T12:02:27.679968Z",
     "start_time": "2018-02-20T12:02:25.392818Z"
    },
    "extensions": {
     "jupyter_dashboards": {
      "version": 1,
      "views": {
       "grid_default": {
        "col": 8,
        "height": 19,
        "hidden": false,
        "row": 136,
        "width": 4
       },
       "report_default": {}
      }
     }
    }
   },
   "outputs": [
    {
     "data": {
      "image/png": "[encoded data removed]",
      "text/plain": [
       "<matplotlib.figure.Figure at 0x7fb16ce7c710>"
      ]
     },
     "metadata": {},
     "output_type": "display_data"
    }
   ],
   "source": [
    "plt.figure(figsize=(15, 15))\n",
    "C.plot_cov()\n",
    "plt.colorbar()\n",
    "\n",
    "np.linalg.eigvalsh(C.cov)\n",
    "plt.tight_layout()\n",
    "plt.savefig('/tmp/test.pdf')"
   ]
  },
  {
   "cell_type": "code",
   "execution_count": 62,
   "metadata": {
    "ExecuteTime": {
     "end_time": "2018-02-20T12:02:29.998298Z",
     "start_time": "2018-02-20T12:02:29.513576Z"
    },
    "extensions": {
     "jupyter_dashboards": {
      "version": 1,
      "views": {
       "grid_default": {
        "col": 0,
        "height": 18,
        "hidden": false,
        "row": 143,
        "width": 4
       },
       "report_default": {}
      }
     }
    }
   },
   "outputs": [
    {
     "name": "stderr",
     "output_type": "stream",
     "text": [
      "/home/ccc/.anaconda/lib/python3.6/site-packages/matplotlib/axes/_base.py:2961: UserWarning: Attempting to set identical left==right results\n",
      "in singular transformations; automatically expanding.\n",
      "left=-0.5, right=-0.5\n",
      "  'left=%s, right=%s') % (left, right))\n",
      "/home/ccc/.anaconda/lib/python3.6/site-packages/matplotlib/axes/_base.py:3285: UserWarning: Attempting to set identical bottom==top results\n",
      "in singular transformations; automatically expanding.\n",
      "bottom=-0.5, top=-0.5\n",
      "  'bottom=%s, top=%s') % (bottom, top))\n"
     ]
    },
    {
     "data": {
      "image/png": "[encoded data removed]",
      "text/plain": [
       "<matplotlib.figure.Figure at 0x7fb160021240>"
      ]
     },
     "metadata": {},
     "output_type": "display_data"
    }
   ],
   "source": [
    "plt.figure(figsize=(15, 15))\n",
    "C.plot_cov_c()"
   ]
  },
  {
   "cell_type": "markdown",
   "metadata": {
    "extensions": {
     "jupyter_dashboards": {
      "version": 1,
      "views": {
       "grid_default": {
        "col": 8,
        "height": 4,
        "hidden": false,
        "row": 155,
        "width": 4
       },
       "report_default": {}
      }
     }
    }
   },
   "source": [
    "## Draw using MCMC"
   ]
  },
  {
   "cell_type": "code",
   "execution_count": 25,
   "metadata": {
    "ExecuteTime": {
     "end_time": "2018-02-19T18:10:52.783749Z",
     "start_time": "2018-02-19T18:10:52.287217Z"
    },
    "extensions": {
     "jupyter_dashboards": {
      "version": 1,
      "views": {
       "grid_default": {
        "col": 8,
        "height": 4,
        "hidden": false,
        "row": 159,
        "width": 4
       },
       "report_default": {}
      }
     }
    }
   },
   "outputs": [
    {
     "data": {
      "text/plain": [
       "-273.2435716278071"
      ]
     },
     "execution_count": 25,
     "metadata": {},
     "output_type": "execute_result"
    }
   ],
   "source": [
    "import emcee\n",
    "from numba import jit\n",
    "\n",
    "@jit(nopython=True, nogil=True)\n",
    "def logprob(X, mu, icov):\n",
    "    h1 = X[:3]\n",
    "    h2 = X[3:6]\n",
    "    h3 = X[7:10]\n",
    "\n",
    "    ix, iy, iz = 0, 1, 2\n",
    "    \n",
    "    diff = X-mu\n",
    "\n",
    "    # print(h1, h2, h3)\n",
    "    if not (h1[ix] > 0 and h1[iy] > 0 and h1[iz] < 0):\n",
    "        return -np.inf\n",
    "    if not (h2[ix] > 0 and h2[iy] > 0 and h2[iz] < 0):\n",
    "        return -np.inf\n",
    "    if not (h3[ix] < 0 and h3[iy] > 0 and h3[iz] < 0):\n",
    "        return -np.inf\n",
    "    h11 = h1[0]*h1[1]*h1[2]\n",
    "    h22 = h2[0]*h2[1]*h2[2]\n",
    "    h33 = h3[0]*h3[1]*h3[2]\n",
    "    logdet = np.log(np.abs(h11*h22*h33))\n",
    "    ret = -1/2 * np.dot(diff, np.dot(icov, diff)) + logdet\n",
    "    return ret\n",
    "    \n",
    "cov0, mean0 = C.cov_c, C.mean_c\n",
    "\n",
    "indexes = [i for i in range(len(mean0)) if i not in [7, 8]]\n",
    "\n",
    "# Set the height\n",
    "nuf = C.constrains[23] = 1.2 / sigma(0, Rfil)\n",
    "nu1 = C.constrains[0] = 0.5 / sigma(0, Rwall)\n",
    "nu2 = C.constrains[10] = 0.25 / sigma(0, Rwall) \n",
    "cov, mean = C.cov_c[indexes][:, indexes], C.mean_c[indexes]\n",
    "# Drop a_y, a_z\n",
    "icov = np.linalg.inv(cov)\n",
    "ndim = len(cov)\n",
    "nwalkers = ndim*3\n",
    "sampler = emcee.EnsembleSampler(nwalkers, ndim, logprob, args=(mean, icov))\n",
    "p0 = np.array([\n",
    "    0.1, 0.1, -0.1, # wall 1 hessian\n",
    "    0.1, 0.1, -0.1, # wall 2 hessian\n",
    "    -0.5, # a_x\n",
    "    -0.1, 0.1, -0.1 # saddle hessian\n",
    "])\n",
    "\n",
    "p00 = [p0 * 2 * np.random.rand(len(p0)) for _ in range(nwalkers)]\n",
    "# p00 = np.random.rand(ndim * nwalkers).reshape((nwalkers, ndim))\n",
    "logprob(p0, mean, icov)"
   ]
  },
  {
   "cell_type": "code",
   "execution_count": 19,
   "metadata": {
    "ExecuteTime": {
     "end_time": "2018-02-19T18:06:25.338781Z",
     "start_time": "2018-02-19T18:06:23.003099Z"
    },
    "extensions": {
     "jupyter_dashboards": {
      "version": 1,
      "views": {
       "grid_default": {
        "col": 0,
        "height": 82,
        "hidden": false,
        "row": 161,
        "width": 4
       },
       "report_default": {}
      }
     }
    }
   },
   "outputs": [
    {
     "data": {
      "text/plain": [
       "array([[ 5.37778461,  1.16305057, -0.44745283,  9.80713749,  1.99742643,\n",
       "        -0.15761735,  4.52309687, -4.97487907,  1.10100864, -1.10225762],\n",
       "       [ 5.36470477,  1.10050401, -0.66513797,  9.79996373,  1.30857642,\n",
       "        -0.30632216,  4.59147212, -4.97803829,  0.61635734, -1.25603518],\n",
       "       [ 5.35642285,  1.28554527, -0.92756838,  9.7935448 ,  1.41173554,\n",
       "        -0.177689  ,  4.36452914, -4.97984681,  0.82209507, -1.36329916],\n",
       "       [ 5.37377087,  1.18119456, -0.31337857,  9.80184894,  2.4694188 ,\n",
       "        -0.29245599,  3.74416819, -4.97611973,  1.26328178, -1.02412531],\n",
       "       [ 5.37412847,  0.63283382, -0.40613988,  9.80581269,  1.28322482,\n",
       "        -0.20135035,  4.09018551, -4.97549969,  0.39418801, -1.09344559],\n",
       "       [ 5.36496164,  0.86758531, -0.86305307,  9.80060383,  1.24929717,\n",
       "        -0.30966431,  3.19717917, -4.97735862,  0.36661208, -1.45037111],\n",
       "       [ 5.36009982,  0.29030451, -1.09766837,  9.80422943,  1.80941682,\n",
       "        -0.08191969,  4.68381037, -4.97754172,  0.29913914, -1.43707367],\n",
       "       [ 5.36932328,  1.05194949, -0.83373194,  9.80330105,  1.73390805,\n",
       "        -0.23979365,  3.55121861, -4.97630208,  0.73947456, -1.36417203],\n",
       "       [ 5.38184132,  0.92036621, -0.51842523,  9.81321881,  1.36231716,\n",
       "        -0.33756448,  4.36411788, -4.97332371,  0.50009683, -1.27163221],\n",
       "       [ 5.38751376,  0.47913828, -0.72898119,  9.81511094,  1.41979227,\n",
       "        -0.40688806,  2.87399722, -4.97200365,  0.30695263, -1.45099687],\n",
       "       [ 5.37275134,  0.57915716, -1.02888033,  9.81239965,  1.54185731,\n",
       "        -0.17615112,  3.94302622, -4.97459819,  0.43212833, -1.56731029],\n",
       "       [ 5.36416618,  1.26253214, -0.71590539,  9.79498737,  1.16688997,\n",
       "        -0.40329866,  3.13505504, -4.9781833 ,  0.67735721, -1.46453958],\n",
       "       [ 5.37175823,  1.30439177, -0.21744955,  9.80075287,  1.90811504,\n",
       "        -0.03717076,  3.43139937, -4.97632242,  0.90102508, -0.96790408],\n",
       "       [ 5.34393292,  1.12232528, -0.96862033,  9.77812315,  1.76715532,\n",
       "        -0.49015313,  2.57703406, -4.98446014,  0.72248477, -1.77240876],\n",
       "       [ 5.3667484 ,  1.38150752, -0.43334996,  9.80280438,  1.61062549,\n",
       "        -0.37227489,  3.92245304, -4.97655094,  0.90884391, -1.15204241],\n",
       "       [ 5.36919563,  0.74307168, -0.78691551,  9.79978101,  1.56656608,\n",
       "        -0.37356329,  4.67342737, -4.97721214,  0.69908494, -1.34018638],\n",
       "       [ 5.36128224,  0.47623446, -0.58292279,  9.80874376,  1.74128442,\n",
       "        -0.26850797,  4.36710351, -4.97681331,  0.40617647, -1.29769179],\n",
       "       [ 5.38984352,  0.86139191, -0.72933505,  9.82470718,  1.74734712,\n",
       "        -0.52110842,  4.57202566, -4.97052898,  0.6218415 , -1.63226034],\n",
       "       [ 5.35364231,  0.27900056, -1.05328041,  9.78385267,  1.0108673 ,\n",
       "        -0.65094071,  3.92983447, -4.98192576,  0.17444242, -1.69555231],\n",
       "       [ 5.37680462,  0.79368098, -1.19298408,  9.81277863,  1.81546498,\n",
       "        -0.17007992,  4.38770201, -4.97376296,  0.81305571, -1.65566324],\n",
       "       [ 5.36863376,  0.98853797, -0.11521491,  9.81446707,  1.89933092,\n",
       "        -0.4248184 ,  4.13664261, -4.97479222,  0.69692333, -0.99292006],\n",
       "       [ 5.37453616,  0.65775426, -0.77292927,  9.81035862,  1.8626914 ,\n",
       "        -0.13483479,  4.9822015 , -4.97488731,  0.42658687, -1.23283594],\n",
       "       [ 5.37147928,  0.7919005 , -0.46960862,  9.80174335,  1.53319544,\n",
       "        -0.27666376,  4.35550618, -4.97652977,  0.49092361, -1.30117072],\n",
       "       [ 5.38231057,  0.7741028 , -1.17688394,  9.80897561,  1.54158171,\n",
       "        -0.21477035,  3.40403166, -4.97362303,  0.51353418, -1.51446413],\n",
       "       [ 5.36930296,  0.38251838, -0.88171461,  9.80348467,  1.32135468,\n",
       "        -0.11067972,  4.19627553, -4.97630581,  0.05983834, -1.48470201],\n",
       "       [ 5.36387338,  1.02036235, -0.25641006,  9.80156831,  1.44748958,\n",
       "        -0.31752304,  3.59709229, -4.97765024,  0.49851178, -1.09050543],\n",
       "       [ 5.37164175,  0.97639573, -0.40207758,  9.80784851,  1.55210549,\n",
       "        -0.18342406,  2.50439009, -4.97541974,  0.73676423, -1.15773576],\n",
       "       [ 5.36399801,  0.54996888, -0.32757203,  9.79366527,  1.61695536,\n",
       "        -0.11475323,  4.07853689, -4.97887511,  0.48414508, -1.09779972],\n",
       "       [ 5.37416802,  0.32789383, -0.46128616,  9.80420548,  1.21183454,\n",
       "        -0.47195877,  2.70907072, -4.9756888 ,  0.25379011, -1.15979795],\n",
       "       [ 5.37605929,  0.94096291, -0.6978529 ,  9.80736445,  1.23590166,\n",
       "        -0.1526216 ,  3.3594632 , -4.97479607,  0.55088747, -1.41897389]])"
      ]
     },
     "execution_count": 19,
     "metadata": {},
     "output_type": "execute_result"
    }
   ],
   "source": [
    "pos, prob, state = sampler.run_mcmc(p00, 10000)\n",
    "sampler.reset()\n",
    "pos"
   ]
  },
  {
   "cell_type": "code",
   "execution_count": 26,
   "metadata": {
    "ExecuteTime": {
     "end_time": "2018-02-19T18:11:23.034936Z",
     "start_time": "2018-02-19T18:10:56.055846Z"
    },
    "extensions": {
     "jupyter_dashboards": {
      "version": 1,
      "views": {
       "grid_default": {
        "col": 8,
        "height": 6,
        "hidden": false,
        "row": 163,
        "width": 4
       },
       "report_default": {}
      }
     }
    }
   },
   "outputs": [
    {
     "name": "stdout",
     "output_type": "stream",
     "text": [
      "[0.3923  0.39052 0.38938 0.3894  0.39557 0.3893  0.39184 0.39458 0.39283\n",
      " 0.39037 0.39217 0.38917 0.39197 0.39222 0.39044 0.38845 0.39038 0.39214\n",
      " 0.39033 0.39159 0.38952 0.39287 0.39184 0.39364 0.39325 0.39056 0.39327\n",
      " 0.38939 0.39138 0.39296]\n"
     ]
    }
   ],
   "source": [
    "sampler.reset()\n",
    "sampler.run_mcmc(pos, 100000)\n",
    "sample = sampler.flatchain\n",
    "print(sampler.acceptance_fraction)"
   ]
  },
  {
   "cell_type": "code",
   "execution_count": 27,
   "metadata": {
    "ExecuteTime": {
     "end_time": "2018-02-19T18:13:09.969579Z",
     "start_time": "2018-02-19T18:11:23.036768Z"
    },
    "extensions": {
     "jupyter_dashboards": {
      "version": 1,
      "views": {
       "grid_default": {
        "col": 8,
        "height": 20,
        "hidden": false,
        "row": 169,
        "width": 4
       },
       "report_default": {}
      }
     }
    }
   },
   "outputs": [
    {
     "name": "stdout",
     "output_type": "stream",
     "text": [
      "Warning: Cannot change to a different GUI toolkit: None. Using nbagg instead.\n"
     ]
    },
    {
     "data": {
      "application/javascript": [
       "/* Put everything inside the global mpl namespace */\n",
       "window.mpl = {};\n",
       "\n",
       "\n",
       "mpl.get_websocket_type = function() {\n",
       "    if (typeof(WebSocket) !== 'undefined') {\n",
       "        return WebSocket;\n",
       "    } else if (typeof(MozWebSocket) !== 'undefined') {\n",
       "        return MozWebSocket;\n",
       "    } else {\n",
       "        alert('Your browser does not have WebSocket support.' +\n",
       "              'Please try Chrome, Safari or Firefox ≥ 6. ' +\n",
       "              'Firefox 4 and 5 are also supported but you ' +\n",
       "              'have to enable WebSockets in about:config.');\n",
       "    };\n",
       "}\n",
       "\n",
       "mpl.figure = function(figure_id, websocket, ondownload, parent_element) {\n",
       "    this.id = figure_id;\n",
       "\n",
       "    this.ws = websocket;\n",
       "\n",
       "    this.supports_binary = (this.ws.binaryType != undefined);\n",
       "\n",
       "    if (!this.supports_binary) {\n",
       "        var warnings = document.getElementById(\"mpl-warnings\");\n",
       "        if (warnings) {\n",
       "            warnings.style.display = 'block';\n",
       "            warnings.textContent = (\n",
       "                \"This browser does not support binary websocket messages. \" +\n",
       "                    \"Performance may be slow.\");\n",
       "        }\n",
       "    }\n",
       "\n",
       "    this.imageObj = new Image();\n",
       "\n",
       "    this.context = undefined;\n",
       "    this.message = undefined;\n",
       "    this.canvas = undefined;\n",
       "    this.rubberband_canvas = undefined;\n",
       "    this.rubberband_context = undefined;\n",
       "    this.format_dropdown = undefined;\n",
       "\n",
       "    this.image_mode = 'full';\n",
       "\n",
       "    this.root = $('<div/>');\n",
       "    this._root_extra_style(this.root)\n",
       "    this.root.attr('style', 'display: inline-block');\n",
       "\n",
       "    $(parent_element).append(this.root);\n",
       "\n",
       "    this._init_header(this);\n",
       "    this._init_canvas(this);\n",
       "    this._init_toolbar(this);\n",
       "\n",
       "    var fig = this;\n",
       "\n",
       "    this.waiting = false;\n",
       "\n",
       "    this.ws.onopen =  function () {\n",
       "            fig.send_message(\"supports_binary\", {value: fig.supports_binary});\n",
       "            fig.send_message(\"send_image_mode\", {});\n",
       "            if (mpl.ratio != 1) {\n",
       "                fig.send_message(\"set_dpi_ratio\", {'dpi_ratio': mpl.ratio});\n",
       "            }\n",
       "            fig.send_message(\"refresh\", {});\n",
       "        }\n",
       "\n",
       "    this.imageObj.onload = function() {\n",
       "            if (fig.image_mode == 'full') {\n",
       "                // Full images could contain transparency (where diff images\n",
       "                // almost always do), so we need to clear the canvas so that\n",
       "                // there is no ghosting.\n",
       "                fig.context.clearRect(0, 0, fig.canvas.width, fig.canvas.height);\n",
       "            }\n",
       "            fig.context.drawImage(fig.imageObj, 0, 0);\n",
       "        };\n",
       "\n",
       "    this.imageObj.onunload = function() {\n",
       "        fig.ws.close();\n",
       "    }\n",
       "\n",
       "    this.ws.onmessage = this._make_on_message_function(this);\n",
       "\n",
       "    this.ondownload = ondownload;\n",
       "}\n",
       "\n",
       "mpl.figure.prototype._init_header = function() {\n",
       "    var titlebar = $(\n",
       "        '<div class=\"ui-dialog-titlebar ui-widget-header ui-corner-all ' +\n",
       "        'ui-helper-clearfix\"/>');\n",
       "    var titletext = $(\n",
       "        '<div class=\"ui-dialog-title\" style=\"width: 100%; ' +\n",
       "        'text-align: center; padding: 3px;\"/>');\n",
       "    titlebar.append(titletext)\n",
       "    this.root.append(titlebar);\n",
       "    this.header = titletext[0];\n",
       "}\n",
       "\n",
       "\n",
       "\n",
       "mpl.figure.prototype._canvas_extra_style = function(canvas_div) {\n",
       "\n",
       "}\n",
       "\n",
       "\n",
       "mpl.figure.prototype._root_extra_style = function(canvas_div) {\n",
       "\n",
       "}\n",
       "\n",
       "mpl.figure.prototype._init_canvas = function() {\n",
       "    var fig = this;\n",
       "\n",
       "    var canvas_div = $('<div/>');\n",
       "\n",
       "    canvas_div.attr('style', 'position: relative; clear: both; outline: 0');\n",
       "\n",
       "    function canvas_keyboard_event(event) {\n",
       "        return fig.key_event(event, event['data']);\n",
       "    }\n",
       "\n",
       "    canvas_div.keydown('key_press', canvas_keyboard_event);\n",
       "    canvas_div.keyup('key_release', canvas_keyboard_event);\n",
       "    this.canvas_div = canvas_div\n",
       "    this._canvas_extra_style(canvas_div)\n",
       "    this.root.append(canvas_div);\n",
       "\n",
       "    var canvas = $('<canvas/>');\n",
       "    canvas.addClass('mpl-canvas');\n",
       "    canvas.attr('style', \"left: 0; top: 0; z-index: 0; outline: 0\")\n",
       "\n",
       "    this.canvas = canvas[0];\n",
       "    this.context = canvas[0].getContext(\"2d\");\n",
       "\n",
       "    var backingStore = this.context.backingStorePixelRatio ||\n",
       "\tthis.context.webkitBackingStorePixelRatio ||\n",
       "\tthis.context.mozBackingStorePixelRatio ||\n",
       "\tthis.context.msBackingStorePixelRatio ||\n",
       "\tthis.context.oBackingStorePixelRatio ||\n",
       "\tthis.context.backingStorePixelRatio || 1;\n",
       "\n",
       "    mpl.ratio = (window.devicePixelRatio || 1) / backingStore;\n",
       "\n",
       "    var rubberband = $('<canvas/>');\n",
       "    rubberband.attr('style', \"position: absolute; left: 0; top: 0; z-index: 1;\")\n",
       "\n",
       "    var pass_mouse_events = true;\n",
       "\n",
       "    canvas_div.resizable({\n",
       "        start: function(event, ui) {\n",
       "            pass_mouse_events = false;\n",
       "        },\n",
       "        resize: function(event, ui) {\n",
       "            fig.request_resize(ui.size.width, ui.size.height);\n",
       "        },\n",
       "        stop: function(event, ui) {\n",
       "            pass_mouse_events = true;\n",
       "            fig.request_resize(ui.size.width, ui.size.height);\n",
       "        },\n",
       "    });\n",
       "\n",
       "    function mouse_event_fn(event) {\n",
       "        if (pass_mouse_events)\n",
       "            return fig.mouse_event(event, event['data']);\n",
       "    }\n",
       "\n",
       "    rubberband.mousedown('button_press', mouse_event_fn);\n",
       "    rubberband.mouseup('button_release', mouse_event_fn);\n",
       "    // Throttle sequential mouse events to 1 every 20ms.\n",
       "    rubberband.mousemove('motion_notify', mouse_event_fn);\n",
       "\n",
       "    rubberband.mouseenter('figure_enter', mouse_event_fn);\n",
       "    rubberband.mouseleave('figure_leave', mouse_event_fn);\n",
       "\n",
       "    canvas_div.on(\"wheel\", function (event) {\n",
       "        event = event.originalEvent;\n",
       "        event['data'] = 'scroll'\n",
       "        if (event.deltaY < 0) {\n",
       "            event.step = 1;\n",
       "        } else {\n",
       "            event.step = -1;\n",
       "        }\n",
       "        mouse_event_fn(event);\n",
       "    });\n",
       "\n",
       "    canvas_div.append(canvas);\n",
       "    canvas_div.append(rubberband);\n",
       "\n",
       "    this.rubberband = rubberband;\n",
       "    this.rubberband_canvas = rubberband[0];\n",
       "    this.rubberband_context = rubberband[0].getContext(\"2d\");\n",
       "    this.rubberband_context.strokeStyle = \"#000000\";\n",
       "\n",
       "    this._resize_canvas = function(width, height) {\n",
       "        // Keep the size of the canvas, canvas container, and rubber band\n",
       "        // canvas in synch.\n",
       "        canvas_div.css('width', width)\n",
       "        canvas_div.css('height', height)\n",
       "\n",
       "        canvas.attr('width', width * mpl.ratio);\n",
       "        canvas.attr('height', height * mpl.ratio);\n",
       "        canvas.attr('style', 'width: ' + width + 'px; height: ' + height + 'px;');\n",
       "\n",
       "        rubberband.attr('width', width);\n",
       "        rubberband.attr('height', height);\n",
       "    }\n",
       "\n",
       "    // Set the figure to an initial 600x600px, this will subsequently be updated\n",
       "    // upon first draw.\n",
       "    this._resize_canvas(600, 600);\n",
       "\n",
       "    // Disable right mouse context menu.\n",
       "    $(this.rubberband_canvas).bind(\"contextmenu\",function(e){\n",
       "        return false;\n",
       "    });\n",
       "\n",
       "    function set_focus () {\n",
       "        canvas.focus();\n",
       "        canvas_div.focus();\n",
       "    }\n",
       "\n",
       "    window.setTimeout(set_focus, 100);\n",
       "}\n",
       "\n",
       "mpl.figure.prototype._init_toolbar = function() {\n",
       "    var fig = this;\n",
       "\n",
       "    var nav_element = $('<div/>')\n",
       "    nav_element.attr('style', 'width: 100%');\n",
       "    this.root.append(nav_element);\n",
       "\n",
       "    // Define a callback function for later on.\n",
       "    function toolbar_event(event) {\n",
       "        return fig.toolbar_button_onclick(event['data']);\n",
       "    }\n",
       "    function toolbar_mouse_event(event) {\n",
       "        return fig.toolbar_button_onmouseover(event['data']);\n",
       "    }\n",
       "\n",
       "    for(var toolbar_ind in mpl.toolbar_items) {\n",
       "        var name = mpl.toolbar_items[toolbar_ind][0];\n",
       "        var tooltip = mpl.toolbar_items[toolbar_ind][1];\n",
       "        var image = mpl.toolbar_items[toolbar_ind][2];\n",
       "        var method_name = mpl.toolbar_items[toolbar_ind][3];\n",
       "\n",
       "        if (!name) {\n",
       "            // put a spacer in here.\n",
       "            continue;\n",
       "        }\n",
       "        var button = $('<button/>');\n",
       "        button.addClass('ui-button ui-widget ui-state-default ui-corner-all ' +\n",
       "                        'ui-button-icon-only');\n",
       "        button.attr('role', 'button');\n",
       "        button.attr('aria-disabled', 'false');\n",
       "        button.click(method_name, toolbar_event);\n",
       "        button.mouseover(tooltip, toolbar_mouse_event);\n",
       "\n",
       "        var icon_img = $('<span/>');\n",
       "        icon_img.addClass('ui-button-icon-primary ui-icon');\n",
       "        icon_img.addClass(image);\n",
       "        icon_img.addClass('ui-corner-all');\n",
       "\n",
       "        var tooltip_span = $('<span/>');\n",
       "        tooltip_span.addClass('ui-button-text');\n",
       "        tooltip_span.html(tooltip);\n",
       "\n",
       "        button.append(icon_img);\n",
       "        button.append(tooltip_span);\n",
       "\n",
       "        nav_element.append(button);\n",
       "    }\n",
       "\n",
       "    var fmt_picker_span = $('<span/>');\n",
       "\n",
       "    var fmt_picker = $('<select/>');\n",
       "    fmt_picker.addClass('mpl-toolbar-option ui-widget ui-widget-content');\n",
       "    fmt_picker_span.append(fmt_picker);\n",
       "    nav_element.append(fmt_picker_span);\n",
       "    this.format_dropdown = fmt_picker[0];\n",
       "\n",
       "    for (var ind in mpl.extensions) {\n",
       "        var fmt = mpl.extensions[ind];\n",
       "        var option = $(\n",
       "            '<option/>', {selected: fmt === mpl.default_extension}).html(fmt);\n",
       "        fmt_picker.append(option)\n",
       "    }\n",
       "\n",
       "    // Add hover states to the ui-buttons\n",
       "    $( \".ui-button\" ).hover(\n",
       "        function() { $(this).addClass(\"ui-state-hover\");},\n",
       "        function() { $(this).removeClass(\"ui-state-hover\");}\n",
       "    );\n",
       "\n",
       "    var status_bar = $('<span class=\"mpl-message\"/>');\n",
       "    nav_element.append(status_bar);\n",
       "    this.message = status_bar[0];\n",
       "}\n",
       "\n",
       "mpl.figure.prototype.request_resize = function(x_pixels, y_pixels) {\n",
       "    // Request matplotlib to resize the figure. Matplotlib will then trigger a resize in the client,\n",
       "    // which will in turn request a refresh of the image.\n",
       "    this.send_message('resize', {'width': x_pixels, 'height': y_pixels});\n",
       "}\n",
       "\n",
       "mpl.figure.prototype.send_message = function(type, properties) {\n",
       "    properties['type'] = type;\n",
       "    properties['figure_id'] = this.id;\n",
       "    this.ws.send(JSON.stringify(properties));\n",
       "}\n",
       "\n",
       "mpl.figure.prototype.send_draw_message = function() {\n",
       "    if (!this.waiting) {\n",
       "        this.waiting = true;\n",
       "        this.ws.send(JSON.stringify({type: \"draw\", figure_id: this.id}));\n",
       "    }\n",
       "}\n",
       "\n",
       "\n",
       "mpl.figure.prototype.handle_save = function(fig, msg) {\n",
       "    var format_dropdown = fig.format_dropdown;\n",
       "    var format = format_dropdown.options[format_dropdown.selectedIndex].value;\n",
       "    fig.ondownload(fig, format);\n",
       "}\n",
       "\n",
       "\n",
       "mpl.figure.prototype.handle_resize = function(fig, msg) {\n",
       "    var size = msg['size'];\n",
       "    if (size[0] != fig.canvas.width || size[1] != fig.canvas.height) {\n",
       "        fig._resize_canvas(size[0], size[1]);\n",
       "        fig.send_message(\"refresh\", {});\n",
       "    };\n",
       "}\n",
       "\n",
       "mpl.figure.prototype.handle_rubberband = function(fig, msg) {\n",
       "    var x0 = msg['x0'] / mpl.ratio;\n",
       "    var y0 = (fig.canvas.height - msg['y0']) / mpl.ratio;\n",
       "    var x1 = msg['x1'] / mpl.ratio;\n",
       "    var y1 = (fig.canvas.height - msg['y1']) / mpl.ratio;\n",
       "    x0 = Math.floor(x0) + 0.5;\n",
       "    y0 = Math.floor(y0) + 0.5;\n",
       "    x1 = Math.floor(x1) + 0.5;\n",
       "    y1 = Math.floor(y1) + 0.5;\n",
       "    var min_x = Math.min(x0, x1);\n",
       "    var min_y = Math.min(y0, y1);\n",
       "    var width = Math.abs(x1 - x0);\n",
       "    var height = Math.abs(y1 - y0);\n",
       "\n",
       "    fig.rubberband_context.clearRect(\n",
       "        0, 0, fig.canvas.width, fig.canvas.height);\n",
       "\n",
       "    fig.rubberband_context.strokeRect(min_x, min_y, width, height);\n",
       "}\n",
       "\n",
       "mpl.figure.prototype.handle_figure_label = function(fig, msg) {\n",
       "    // Updates the figure title.\n",
       "    fig.header.textContent = msg['label'];\n",
       "}\n",
       "\n",
       "mpl.figure.prototype.handle_cursor = function(fig, msg) {\n",
       "    var cursor = msg['cursor'];\n",
       "    switch(cursor)\n",
       "    {\n",
       "    case 0:\n",
       "        cursor = 'pointer';\n",
       "        break;\n",
       "    case 1:\n",
       "        cursor = 'default';\n",
       "        break;\n",
       "    case 2:\n",
       "        cursor = 'crosshair';\n",
       "        break;\n",
       "    case 3:\n",
       "        cursor = 'move';\n",
       "        break;\n",
       "    }\n",
       "    fig.rubberband_canvas.style.cursor = cursor;\n",
       "}\n",
       "\n",
       "mpl.figure.prototype.handle_message = function(fig, msg) {\n",
       "    fig.message.textContent = msg['message'];\n",
       "}\n",
       "\n",
       "mpl.figure.prototype.handle_draw = function(fig, msg) {\n",
       "    // Request the server to send over a new figure.\n",
       "    fig.send_draw_message();\n",
       "}\n",
       "\n",
       "mpl.figure.prototype.handle_image_mode = function(fig, msg) {\n",
       "    fig.image_mode = msg['mode'];\n",
       "}\n",
       "\n",
       "mpl.figure.prototype.updated_canvas_event = function() {\n",
       "    // Called whenever the canvas gets updated.\n",
       "    this.send_message(\"ack\", {});\n",
       "}\n",
       "\n",
       "// A function to construct a web socket function for onmessage handling.\n",
       "// Called in the figure constructor.\n",
       "mpl.figure.prototype._make_on_message_function = function(fig) {\n",
       "    return function socket_on_message(evt) {\n",
       "        if (evt.data instanceof Blob) {\n",
       "            /* FIXME: We get \"Resource interpreted as Image but\n",
       "             * transferred with MIME type text/plain:\" errors on\n",
       "             * Chrome.  But how to set the MIME type?  It doesn't seem\n",
       "             * to be part of the websocket stream */\n",
       "            evt.data.type = \"image/png\";\n",
       "\n",
       "            /* Free the memory for the previous frames */\n",
       "            if (fig.imageObj.src) {\n",
       "                (window.URL || window.webkitURL).revokeObjectURL(\n",
       "                    fig.imageObj.src);\n",
       "            }\n",
       "\n",
       "            fig.imageObj.src = (window.URL || window.webkitURL).createObjectURL(\n",
       "                evt.data);\n",
       "            fig.updated_canvas_event();\n",
       "            fig.waiting = false;\n",
       "            return;\n",
       "        }\n",
       "        else if (typeof evt.data === 'string' && evt.data.slice(0, 21) == \"data:image/png;base64\") {\n",
       "            fig.imageObj.src = evt.data;\n",
       "            fig.updated_canvas_event();\n",
       "            fig.waiting = false;\n",
       "            return;\n",
       "        }\n",
       "\n",
       "        var msg = JSON.parse(evt.data);\n",
       "        var msg_type = msg['type'];\n",
       "\n",
       "        // Call the  \"handle_{type}\" callback, which takes\n",
       "        // the figure and JSON message as its only arguments.\n",
       "        try {\n",
       "            var callback = fig[\"handle_\" + msg_type];\n",
       "        } catch (e) {\n",
       "            console.log(\"No handler for the '\" + msg_type + \"' message type: \", msg);\n",
       "            return;\n",
       "        }\n",
       "\n",
       "        if (callback) {\n",
       "            try {\n",
       "                // console.log(\"Handling '\" + msg_type + \"' message: \", msg);\n",
       "                callback(fig, msg);\n",
       "            } catch (e) {\n",
       "                console.log(\"Exception inside the 'handler_\" + msg_type + \"' callback:\", e, e.stack, msg);\n",
       "            }\n",
       "        }\n",
       "    };\n",
       "}\n",
       "\n",
       "// from http://stackoverflow.com/questions/1114465/getting-mouse-location-in-canvas\n",
       "mpl.findpos = function(e) {\n",
       "    //this section is from http://www.quirksmode.org/js/events_properties.html\n",
       "    var targ;\n",
       "    if (!e)\n",
       "        e = window.event;\n",
       "    if (e.target)\n",
       "        targ = e.target;\n",
       "    else if (e.srcElement)\n",
       "        targ = e.srcElement;\n",
       "    if (targ.nodeType == 3) // defeat Safari bug\n",
       "        targ = targ.parentNode;\n",
       "\n",
       "    // jQuery normalizes the pageX and pageY\n",
       "    // pageX,Y are the mouse positions relative to the document\n",
       "    // offset() returns the position of the element relative to the document\n",
       "    var x = e.pageX - $(targ).offset().left;\n",
       "    var y = e.pageY - $(targ).offset().top;\n",
       "\n",
       "    return {\"x\": x, \"y\": y};\n",
       "};\n",
       "\n",
       "/*\n",
       " * return a copy of an object with only non-object keys\n",
       " * we need this to avoid circular references\n",
       " * http://stackoverflow.com/a/24161582/3208463\n",
       " */\n",
       "function simpleKeys (original) {\n",
       "  return Object.keys(original).reduce(function (obj, key) {\n",
       "    if (typeof original[key] !== 'object')\n",
       "        obj[key] = original[key]\n",
       "    return obj;\n",
       "  }, {});\n",
       "}\n",
       "\n",
       "mpl.figure.prototype.mouse_event = function(event, name) {\n",
       "    var canvas_pos = mpl.findpos(event)\n",
       "\n",
       "    if (name === 'button_press')\n",
       "    {\n",
       "        this.canvas.focus();\n",
       "        this.canvas_div.focus();\n",
       "    }\n",
       "\n",
       "    var x = canvas_pos.x * mpl.ratio;\n",
       "    var y = canvas_pos.y * mpl.ratio;\n",
       "\n",
       "    this.send_message(name, {x: x, y: y, button: event.button,\n",
       "                             step: event.step,\n",
       "                             guiEvent: simpleKeys(event)});\n",
       "\n",
       "    /* This prevents the web browser from automatically changing to\n",
       "     * the text insertion cursor when the button is pressed.  We want\n",
       "     * to control all of the cursor setting manually through the\n",
       "     * 'cursor' event from matplotlib */\n",
       "    event.preventDefault();\n",
       "    return false;\n",
       "}\n",
       "\n",
       "mpl.figure.prototype._key_event_extra = function(event, name) {\n",
       "    // Handle any extra behaviour associated with a key event\n",
       "}\n",
       "\n",
       "mpl.figure.prototype.key_event = function(event, name) {\n",
       "\n",
       "    // Prevent repeat events\n",
       "    if (name == 'key_press')\n",
       "    {\n",
       "        if (event.which === this._key)\n",
       "            return;\n",
       "        else\n",
       "            this._key = event.which;\n",
       "    }\n",
       "    if (name == 'key_release')\n",
       "        this._key = null;\n",
       "\n",
       "    var value = '';\n",
       "    if (event.ctrlKey && event.which != 17)\n",
       "        value += \"ctrl+\";\n",
       "    if (event.altKey && event.which != 18)\n",
       "        value += \"alt+\";\n",
       "    if (event.shiftKey && event.which != 16)\n",
       "        value += \"shift+\";\n",
       "\n",
       "    value += 'k';\n",
       "    value += event.which.toString();\n",
       "\n",
       "    this._key_event_extra(event, name);\n",
       "\n",
       "    this.send_message(name, {key: value,\n",
       "                             guiEvent: simpleKeys(event)});\n",
       "    return false;\n",
       "}\n",
       "\n",
       "mpl.figure.prototype.toolbar_button_onclick = function(name) {\n",
       "    if (name == 'download') {\n",
       "        this.handle_save(this, null);\n",
       "    } else {\n",
       "        this.send_message(\"toolbar_button\", {name: name});\n",
       "    }\n",
       "};\n",
       "\n",
       "mpl.figure.prototype.toolbar_button_onmouseover = function(tooltip) {\n",
       "    this.message.textContent = tooltip;\n",
       "};\n",
       "mpl.toolbar_items = [[\"Home\", \"Reset original view\", \"fa fa-home icon-home\", \"home\"], [\"Back\", \"Back to  previous view\", \"fa fa-arrow-left icon-arrow-left\", \"back\"], [\"Forward\", \"Forward to next view\", \"fa fa-arrow-right icon-arrow-right\", \"forward\"], [\"\", \"\", \"\", \"\"], [\"Pan\", \"Pan axes with left mouse, zoom with right\", \"fa fa-arrows icon-move\", \"pan\"], [\"Zoom\", \"Zoom to rectangle\", \"fa fa-square-o icon-check-empty\", \"zoom\"], [\"\", \"\", \"\", \"\"], [\"Download\", \"Download plot\", \"fa fa-floppy-o icon-save\", \"download\"]];\n",
       "\n",
       "mpl.extensions = [\"eps\", \"jpeg\", \"pdf\", \"png\", \"ps\", \"raw\", \"svg\", \"tif\"];\n",
       "\n",
       "mpl.default_extension = \"png\";var comm_websocket_adapter = function(comm) {\n",
       "    // Create a \"websocket\"-like object which calls the given IPython comm\n",
       "    // object with the appropriate methods. Currently this is a non binary\n",
       "    // socket, so there is still some room for performance tuning.\n",
       "    var ws = {};\n",
       "\n",
       "    ws.close = function() {\n",
       "        comm.close()\n",
       "    };\n",
       "    ws.send = function(m) {\n",
       "        //console.log('sending', m);\n",
       "        comm.send(m);\n",
       "    };\n",
       "    // Register the callback with on_msg.\n",
       "    comm.on_msg(function(msg) {\n",
       "        //console.log('receiving', msg['content']['data'], msg);\n",
       "        // Pass the mpl event to the overriden (by mpl) onmessage function.\n",
       "        ws.onmessage(msg['content']['data'])\n",
       "    });\n",
       "    return ws;\n",
       "}\n",
       "\n",
       "mpl.mpl_figure_comm = function(comm, msg) {\n",
       "    // This is the function which gets called when the mpl process\n",
       "    // starts-up an IPython Comm through the \"matplotlib\" channel.\n",
       "\n",
       "    var id = msg.content.data.id;\n",
       "    // Get hold of the div created by the display call when the Comm\n",
       "    // socket was opened in Python.\n",
       "    var element = $(\"#\" + id);\n",
       "    var ws_proxy = comm_websocket_adapter(comm)\n",
       "\n",
       "    function ondownload(figure, format) {\n",
       "        window.open(figure.imageObj.src);\n",
       "    }\n",
       "\n",
       "    var fig = new mpl.figure(id, ws_proxy,\n",
       "                           ondownload,\n",
       "                           element.get(0));\n",
       "\n",
       "    // Call onopen now - mpl needs it, as it is assuming we've passed it a real\n",
       "    // web socket which is closed, not our websocket->open comm proxy.\n",
       "    ws_proxy.onopen();\n",
       "\n",
       "    fig.parent_element = element.get(0);\n",
       "    fig.cell_info = mpl.find_output_cell(\"<div id='\" + id + \"'></div>\");\n",
       "    if (!fig.cell_info) {\n",
       "        console.error(\"Failed to find cell for figure\", id, fig);\n",
       "        return;\n",
       "    }\n",
       "\n",
       "    var output_index = fig.cell_info[2]\n",
       "    var cell = fig.cell_info[0];\n",
       "\n",
       "};\n",
       "\n",
       "mpl.figure.prototype.handle_close = function(fig, msg) {\n",
       "    var width = fig.canvas.width/mpl.ratio\n",
       "    fig.root.unbind('remove')\n",
       "\n",
       "    // Update the output cell to use the data from the current canvas.\n",
       "    fig.push_to_output();\n",
       "    var dataURL = fig.canvas.toDataURL();\n",
       "    // Re-enable the keyboard manager in IPython - without this line, in FF,\n",
       "    // the notebook keyboard shortcuts fail.\n",
       "    IPython.keyboard_manager.enable()\n",
       "    $(fig.parent_element).html('<img src=\"' + dataURL + '\" width=\"' + width + '\">');\n",
       "    fig.close_ws(fig, msg);\n",
       "}\n",
       "\n",
       "mpl.figure.prototype.close_ws = function(fig, msg){\n",
       "    fig.send_message('closing', msg);\n",
       "    // fig.ws.close()\n",
       "}\n",
       "\n",
       "mpl.figure.prototype.push_to_output = function(remove_interactive) {\n",
       "    // Turn the data on the canvas into data in the output cell.\n",
       "    var width = this.canvas.width/mpl.ratio\n",
       "    var dataURL = this.canvas.toDataURL();\n",
       "    this.cell_info[1]['text/html'] = '<img src=\"' + dataURL + '\" width=\"' + width + '\">';\n",
       "}\n",
       "\n",
       "mpl.figure.prototype.updated_canvas_event = function() {\n",
       "    // Tell IPython that the notebook contents must change.\n",
       "    IPython.notebook.set_dirty(true);\n",
       "    this.send_message(\"ack\", {});\n",
       "    var fig = this;\n",
       "    // Wait a second, then push the new image to the DOM so\n",
       "    // that it is saved nicely (might be nice to debounce this).\n",
       "    setTimeout(function () { fig.push_to_output() }, 1000);\n",
       "}\n",
       "\n",
       "mpl.figure.prototype._init_toolbar = function() {\n",
       "    var fig = this;\n",
       "\n",
       "    var nav_element = $('<div/>')\n",
       "    nav_element.attr('style', 'width: 100%');\n",
       "    this.root.append(nav_element);\n",
       "\n",
       "    // Define a callback function for later on.\n",
       "    function toolbar_event(event) {\n",
       "        return fig.toolbar_button_onclick(event['data']);\n",
       "    }\n",
       "    function toolbar_mouse_event(event) {\n",
       "        return fig.toolbar_button_onmouseover(event['data']);\n",
       "    }\n",
       "\n",
       "    for(var toolbar_ind in mpl.toolbar_items){\n",
       "        var name = mpl.toolbar_items[toolbar_ind][0];\n",
       "        var tooltip = mpl.toolbar_items[toolbar_ind][1];\n",
       "        var image = mpl.toolbar_items[toolbar_ind][2];\n",
       "        var method_name = mpl.toolbar_items[toolbar_ind][3];\n",
       "\n",
       "        if (!name) { continue; };\n",
       "\n",
       "        var button = $('<button class=\"btn btn-default\" href=\"#\" title=\"' + name + '\"><i class=\"fa ' + image + ' fa-lg\"></i></button>');\n",
       "        button.click(method_name, toolbar_event);\n",
       "        button.mouseover(tooltip, toolbar_mouse_event);\n",
       "        nav_element.append(button);\n",
       "    }\n",
       "\n",
       "    // Add the status bar.\n",
       "    var status_bar = $('<span class=\"mpl-message\" style=\"text-align:right; float: right;\"/>');\n",
       "    nav_element.append(status_bar);\n",
       "    this.message = status_bar[0];\n",
       "\n",
       "    // Add the close button to the window.\n",
       "    var buttongrp = $('<div class=\"btn-group inline pull-right\"></div>');\n",
       "    var button = $('<button class=\"btn btn-mini btn-primary\" href=\"#\" title=\"Stop Interaction\"><i class=\"fa fa-power-off icon-remove icon-large\"></i></button>');\n",
       "    button.click(function (evt) { fig.handle_close(fig, {}); } );\n",
       "    button.mouseover('Stop Interaction', toolbar_mouse_event);\n",
       "    buttongrp.append(button);\n",
       "    var titlebar = this.root.find($('.ui-dialog-titlebar'));\n",
       "    titlebar.prepend(buttongrp);\n",
       "}\n",
       "\n",
       "mpl.figure.prototype._root_extra_style = function(el){\n",
       "    var fig = this\n",
       "    el.on(\"remove\", function(){\n",
       "\tfig.close_ws(fig, {});\n",
       "    });\n",
       "}\n",
       "\n",
       "mpl.figure.prototype._canvas_extra_style = function(el){\n",
       "    // this is important to make the div 'focusable\n",
       "    el.attr('tabindex', 0)\n",
       "    // reach out to IPython and tell the keyboard manager to turn it's self\n",
       "    // off when our div gets focus\n",
       "\n",
       "    // location in version 3\n",
       "    if (IPython.notebook.keyboard_manager) {\n",
       "        IPython.notebook.keyboard_manager.register_events(el);\n",
       "    }\n",
       "    else {\n",
       "        // location in version 2\n",
       "        IPython.keyboard_manager.register_events(el);\n",
       "    }\n",
       "\n",
       "}\n",
       "\n",
       "mpl.figure.prototype._key_event_extra = function(event, name) {\n",
       "    var manager = IPython.notebook.keyboard_manager;\n",
       "    if (!manager)\n",
       "        manager = IPython.keyboard_manager;\n",
       "\n",
       "    // Check for shift+enter\n",
       "    if (event.shiftKey && event.which == 13) {\n",
       "        this.canvas_div.blur();\n",
       "        event.shiftKey = false;\n",
       "        // Send a \"J\" for go to next cell\n",
       "        event.which = 74;\n",
       "        event.keyCode = 74;\n",
       "        manager.command_mode();\n",
       "        manager.handle_keydown(event);\n",
       "    }\n",
       "}\n",
       "\n",
       "mpl.figure.prototype.handle_save = function(fig, msg) {\n",
       "    fig.ondownload(fig, null);\n",
       "}\n",
       "\n",
       "\n",
       "mpl.find_output_cell = function(html_output) {\n",
       "    // Return the cell and output element which can be found *uniquely* in the notebook.\n",
       "    // Note - this is a bit hacky, but it is done because the \"notebook_saving.Notebook\"\n",
       "    // IPython event is triggered only after the cells have been serialised, which for\n",
       "    // our purposes (turning an active figure into a static one), is too late.\n",
       "    var cells = IPython.notebook.get_cells();\n",
       "    var ncells = cells.length;\n",
       "    for (var i=0; i<ncells; i++) {\n",
       "        var cell = cells[i];\n",
       "        if (cell.cell_type === 'code'){\n",
       "            for (var j=0; j<cell.output_area.outputs.length; j++) {\n",
       "                var data = cell.output_area.outputs[j];\n",
       "                if (data.data) {\n",
       "                    // IPython >= 3 moved mimebundle to data attribute of output\n",
       "                    data = data.data;\n",
       "                }\n",
       "                if (data['text/html'] == html_output) {\n",
       "                    return [cell, data, j];\n",
       "                }\n",
       "            }\n",
       "        }\n",
       "    }\n",
       "}\n",
       "\n",
       "// Register the function which deals with the matplotlib target/channel.\n",
       "// The kernel may be null if the page has been refreshed.\n",
       "if (IPython.notebook.kernel != null) {\n",
       "    IPython.notebook.kernel.comm_manager.register_target('matplotlib', mpl.mpl_figure_comm);\n",
       "}\n"
      ],
      "text/plain": [
       "<IPython.core.display.Javascript object>"
      ]
     },
     "metadata": {},
     "output_type": "display_data"
    },
    {
     "data": {
      "text/html": [
       "<img src=\"data:image/png;base64,iVBORw0KGgoAAAANSUhEUgAABQQAAAUECAYAAACKnh2bAAAZG0lEQVR4nOzBAQEAAACAkP6v7ggKAAAAAAAAAAAAAAAAAAAAAAAAAAAAAAAAAAAAAAAAAAAAAAAAAAAAAAAAAAAAAAAAAAAAAAAAAAAAAAAAAAAAAAAAAAAAAAAAAAAAAAAAAAAAAAAAAAAAAAAAAAAAAAAAAAAAAAAAAAAAAAAAAAAAAAAAAAAAAAAAAAAAAAAAAAAAAAAAAAAAAAAAAAAAAAAAAAAAAAAAAAAAAAAAAAAAAAAAAAAAAAAAAAAAAAAAAAAAAAAAAAAAAAAAAAAAAAAAAAAAAAAAAAAAAAAAAAAAAAAAAAAAAAAAAAAAAAAAAAAAAAAAAAAAAAAAAAAAAAAAAAAAAAAAAAAAAAAAAAAAAAAAAAAAAAAAAAAAAAAAAAAAAAAAAAAAAAAAAAAAAAAAAAAAAAAAAAAAAAAAAAAAAAAAAAAAAAAAAAAAAAAAAAAAAAAAAAAAAAAAAAAAAAAAAAAAAAAAAAAAAAAAAAAAAAAAAAAAAAAAAAAAAAAAAAAAAAAAAAAAAAAAAAAAAAAAAAAAAAAAAAAAAAAAAAAAAAAAAAAAAAAAAAAAAAAAAAAAAAAAAAAAAAAAAAAAAAAAAAAAAAAAAAAAAAAAAAAAAAAAAAAAAAAAAAAAAAAAAAAAAAAAAAAAAAAAAAAAAAAAAAAAAAAAAAAAAAAAAAAAAAAAAAAAAAAAAAAAAAAAAAAAAAAAAAAAAAAAAAAAAAAAAAAAAAAAAAAAAAAAAAAAAAAAAAAAAAAAAAAAAAAAAAAAAAAAAAAAAAAAAAAAAAAAAAAAAAAAAAAAAAAAAAAAAAAAAAAAAAAAAAAAAAAAAAAAAAAAAAAAAAAAAAAAAAAAAAAAAAAAAAAAAAAAAAAAAAAAAAAAAAAAAAAAAAAAAAAAAAAAAAAAAAAAAAAAAAAAAAAAAAAAAAAAAAAAAAAAAAAAAAAAAAAAAAAAAAAAAAAAAAAAAAAAAAAAAAAAAAAAAAAAAAAAAAAAAAAAAAAAAAAAAAAAAAAAAAAAAAAAAAAAAAAAAAAAAAAAAAAAAAAAAAAAAAAAAAAAAAAAAAAAAAAAAAAAAAAAAAAAAAAAAAAAAAAAAAAAAAAAAAAAAAAAAAAAAAAAAAAAAAAAAAAAAAAAAAAAAAAAAAAAAAAAAAAAAAAAAAAAAAAAAAAAAAAAAAAAAAAAAAAAAAAAAAAAAAAAAAAAAAAAAAAAAAAAAAAAAAAAAAAAAAAAAAAAAAAAAAAAAAAAAAAAAAAAAAAAAAAAAAAAAAAAAAAAAAAAAAAAAAAAAAAAAAAAAAAAAAAAAAAAAAAAAAAAAAAAAAAAAAAAAAAAAAAAAAAAAAAAAAAAAAAAAAAAAAAAAAAAAAAAAAAAAAAAAAAAAAAAAAAAAAAAAAAAAAAAAAAAAAAAAAAAAAAAAAAAAAAAAAAAAAAAAAAAAAAAAAAAAAAAAAAAAAAAAAAAAAAAAAAAAAAAAAAAAAAAAAAAAAAAAAAAAAAAAAAAAAAAAAAAAAAAAAAAAAAAAAAAAAAAAAAAAAAAAAAAAAAAAAAAAAAAAAAAAAAAAAAAAAAAAAAAAAAAAAAAAAAAAAAAAAAAAAAAAAAAAAAAAAAAAAAAAAAAAAAAAAAAAAAAAAAAAAAAAAAAAAAAAAAAAAAAAAAAAAAAAAAAAAAAAAAAAAAAAAAAAAAAAAAAAAAAAAAAAAAAAAAAAAAAAAAAAAAAAAAAAAAAAAAAAAAAAAAAAAAAAAAAAAAAAAAAAAAAAAAAAAAAAAAAAAAAAAAAAAAAAAAAAAAAAAAAAAAAAAAAAAAAAAAAAAAAAAAAAAAAAAAAAAAAAAAAAAAAAAAAAAAAAAAAAAAAAAAAAAAAAAAAAAAAAAAAAAAAAAAAAAAAAAAAAAAAAAAAAAAAAAAAAAAAAAAAAAAAAAAAAAAAAAAAAAAAAAAAAAAAAAAAAAAAAAAAAAAAAAAAAAAAAAAAAAAAAAAAAAAAAAAAAAAAAAAAAAAAAAAAAAAAAAAAAAAAAAAAAAAAAAAAAAAAAAAAAAAAAAAAAAAAAAAAAAAAAAAAAAAAAAAAAAAAAAAAAAAAAAAAAAAAAAAAAAAAAAAAAAAAAAAAAAAAAAAAAAAAAAAAAAAAAAAAAAAAAAAAAAAAAAAAAAAAAAAAAAAAAAAAAAAAAAAAAAAAAAAAAAAAAAAAAAAAAAAAAAAAAAAAAAAAAAAAAAAAAAAAAAAAAAAAAAAAAAAAAAAAAAAAAAAAAAAAAAAAAAAAAAAAAAAAAAAAAAAAAAAAAAAAAAAAAAAAAAAAAAAAAAAAAAAAAAAAAAAAAAAAAAAAAAAAAAAAAAAAAAAAAAAAAAAAAAAAAAAAAAAAAAAAAAAAAAAAAAAAAAAAAAAAAAAAAAAAAAAAAAAAAAAAAAAAAAAAAAAAAAAAAAAAAAAAAAAAAAAAAAAAAAAAAAAAAAAAAAAAAAAAAAAAAAAAAAAAAAAAAAAAAAAAAAAAAAAAAAAAAAAAAAAAAAAAAAAAAAAAAAAAAAAAAAAAAAAAAAAAAAAAAAAAAAAAAAAAAAAAAAAAAAAAAAAAAAAAAAAAAAAAAAAAAAAAAAAAAAAAAAAAAAAAAAAAAAAAAAAAAAAAAAAAAAAAAAAAAAAAAAAAAAAAAAAAAAAAAAAAAAAAAAAAAAAAAAAAAAAAAAAAAAAAAAAAAAAAAAAAAAAAAAAAAAAAAAAAAAAAAAAAAAAAAAAAAAAAAAAAAAAAAAAAAAAAAAAAAAAAAAAAAAAAAAAAAAAAAAAAAAAAAAAAAAAAAAAAAAAAAAAAAAAAAAAAAAAAAAAAAAAAAAAAAAAAAAAAAAAAAAAAAAAAAAAAAAAAAAAAAAAAAAAAAAAAAAAAAAAAAAAAAAAAAAAAAAAAAAAAAAAAAAAAAAAAAAAAAAAAAAAAAAAAAAAAAAAAAAAAAAAAAAAAAAAAAAAAAAAAAAAAAAAAAAAAAAAAAAAAAAAAAAAAAAAAAAAAAAAAAAAAAAAAAAAAAAAAAAAAAAAAAAAAAAAAAAAAAAAAAAAAAAAAAAAAAAAAAAAAAAAAAAAAAAAAAAAAAAAAAAAAAAAAAAAAAAAAAAAAAAAAAAAAAAAAAAAAAAAAAAAAAAAAAAAAAAAAAAAAAAAAAAAAAAAAAAAAAAAAAAAAAAAAAAAAAAAAAAAAAAAAAAAAAAAAAAAAAAAAAAAAAAAAAAAAAAAAAAAAAAAAAAAAAAAAAAAAAAAAAAAAAAAAAAAAAAAAAAAAAAAAAAAAAAAAAAAAAAAAAAAAAAAAAAAAAAAAAAAAAAAAAAAAAAAAAAAAAAAAAAAAAAAAAAAAAAAAAAAAAAAAAAAAAAAAAAAAAAAAAAAAAAAAAAAAAAAAAAAAAAAAAAAAAAAAAAAAAAAAAAAAAAAAAAAAAAAAAAAAAAAAAAAAAAAAAAAAAAAAAAAAAAAAAAAAAAAAAAAAAAAAAAAAAAAAAAAAAAAAAAAAAAAAAAAAAAAAAAAAAAAAAAAAAAAAAAAAAAAAAAAAAAAAAAAAAAAAAAAAAAAAAAAAAAAAAAAAAAAAAAAAAAAAAAAAAAAAAAAAAAAAAAAAAAAAAAAAAAAAAAAAAAAAAAAAAAAAAAAAAAAAAAAAAAAAAAAAAAAAAAAAAAAAAAAAAAAAAAAAAAAAAAAAAAAAAAAAAAAAAAAAAAAAAAAAAAAAAAAAAAAAAAAAAAAAAAAAAAAAAAAAAAAAAAAAAAAAAAAAAAAAAAAAAAAAAAAAAAAAAAAAAAAAAAAAAAAAAAAAAAAAAAAAAAAAAAAAAAAAAAAAAAAAAAAAAAAAAAAAAAAAAAAAAAAAAAAAAAAAAAAAAAAAAAAAAAAAAAAAAAAAAAAAAAAAAAAAAAAAAAAAAAAAAAAAAAAAAAAAAAAAAAAAAAAAAAAAAAAAAAAAAAAAAAAAAAAAAAAAAAAAAAAAAAAAAAAAAAAAAAAAAAAAAAAAAAAAAAAAAAAAAAAAAAAAAAAAAAAAAAAAAAAAAAAAAAAAAAAAAAAAAAAAAAAAAAAAAAAAAAAAAAAAAAAAAAAAAAAAAAAAAAAAAAAAAAAAAAAAAAAAAAAAAAAAAAAAAAAAAAAAAAAAAAAAAAAAAAAAAAAAAAAAAAAAAAAAAAAAAAAAAAAAAAAAAAAAAAAAAAAAAAAAAAAAAAAAAAAAAAAAAAAAAAAAAAAAAAAAAAAAAAAAAAAAAAAAAAAAAAAAAAAAAAAAAAAAAAAAAAAAAAAAAAAAAAAAAAAAAAAAAAAAAAAAAAAAAAAAAAAAAAAAAAAAAAAAAAAAAAAAAAAAAAAAAAAAAAAAAAAAAAAAAAAAAAAAAAAAAAAAAAAAAAAAAAAAAAAAAAAAAAAAAAAAAAAAAAAAAAAAAAAAAAAAAAAAAAAAAAAAAAAAAAAAAAAAAAAAAAAAAAAAAAAAAAAAAAAAAAAAAAAAAAAAAAAAAAAAAAAAAAAAAAAAAAAAAAAAAAAAAAAAAAAAAAAAAAAAAAAAAAAAAAAAAAAAAAAAAAAAAAAAAAAAAAAAAAAAAAAAAAAAAAAAAAAAAAAAAAAAAAAAAAAAAAAAAAAAAAAAAAAAAAAAAAAAAAAAAAAAAAAAAAAAAAAAAAAAAAAAAAAAAAAAAAAAAAAAAAAAAAAAAAAAAAAAAAAAAAAAAAAAAAAAAAAAAAAAAAAAAAAAAAAAAAAAAAAAAAAAAAAAAAAAAAAAAAAAAAAAAAAAAAAAAAAAAAAAAAAAAAAAAAAAAAAAAAAAAAAAAAAAAAAAAAAAAAAAAAAAAAAAAAAAAAAAAAAAAAAAAAAAAAAAAAAAAAAAAAAAAAAAAAAAAAAAAAAAAAAAAAAAAAAAAAAAAAAAAAAAAAAAAAAAAAAAAAAAAAAAAAAAAAAAAAAAAAAAAAAAAAAAAAAAAAAAAAAAAAAAAAAAAAAAAAAAAAAAAAAAAAAAAAAAAAAAAAAAAAAAAAAAAAAAAAAAAAAAAAAAAAAAAAAAAAAAAAAAAAAAAAAAAAAAAAAAAAAAAAAAAAAAAAAAAAAAAAAAAAAAAAAAAAAAAAAAAAAAAAAAAAAAAAAAAAAAAAAAAAAAAAAAAAAAAAAAAAAAAAAAAAAAAAAAAAAAAAAAAAAAAAAAAAAAAAAAAAAAAAAAAAAAAAAAAAAAAAAAAAAAAAAAAAAAAAAAAAAAAAAAAAAAAAAAAAAAAAAAAAAAAAAAAAAAAAAAAAAAAAAAAAAAAAAAAAAAAAAAAAAAAAAAAAAAAAAAAAAAAAAAAAAAAAAAAAAAAAAAAAAAAAAAAAAAAAAAAAAAAAAAAAAAAAAAAAAAAAAAAAAAAAAAAAAAAAAAAAAAAAAAAAAAAAAAAAAAAAAAAAAAAAAAAAAAAAAAAAAAAAAAAAAAAAAAAAAAAAAAAAAAAAAAAAAAAAAAAAAAAAAAAAAAAAAAAAAAAAAAAAAAAAAAAAAAAAAAAAAAAAAAAAAAAAAAAAAAAAAAAAAAAAAAAACA24NDAgAAAABB/197wwAAAAAAAAAAAAAAAAAAAAAAAAAAAAAAAAAAAAAAAAAAAAAAAAAAAAAAAAAAAAAAAAAAAAAAAAAAAAAAAAAAAAAAAAAAAAAAAAAAAAAAAAAAAAAAAAAAAAAAAAAAAAAAAAAAAAAAAAAAAAAAAAAAAAAAAAAAAAAAAAAAAAAAAAAAAAAAAAAAAAAAAAAAAAAAAAAAAAAAAAAAAAAAAAAAAAAAAAAAAAAAAAAAAAAAAAAAAAAAAAAAAAAAAAAAAAAAAAAAAAAAAAAAAAAAAAAAAAAAAAAAAAAAAAAAAAAAAAAAAAAAAAAAAAAAAAAAAAAAAAAAAAAAAAAAAAAAAAAAAAAAAAAAAAAAAAAAAAAAAAAAAAAAAAAAAAAAAAAAAAAAAAAAAAAAAAAAAAAAAAAAAAAAAAAAAAAAAAAAAAAAAAAAAAAAAAAAAAAAAAAAAAAAAAAAAAAAAAAAAAAAAAAAAAAAAAAAAAAAAAAAAAAAAAAAAAAAAAAAAAAAAAAAAAAAAAAAAAAAAAAAAAAAAAAAAAAAAAAAAAAAAAAAAAAAAAAAAAAAAAAAAAAAAAAAAAAAAAAAAAAAAAAAAAAAAAAAAAAAAAAAAAAAAAAAAAAAAAAAAAAAAAAAAAAAAAAAAAAAAAAAAAAAAAAAAAAAAAAAAAAAAAAAAAAAAAAAAAAAAAAAAAAAAAAAAAAAAAAAAAAAAAAAAAAAAAAAAAAAAAAAAAAAAAAAAAAAAAAAAAAAAAAAAAAAAAAAAAAAAAAAAAAAAAAAAAAAAAAAAAAAAAAAAAAAAAAAAAAAAAAAAAAAAAAAAAAAAAAAAAAAAAAAAAAAAAAAAAAAAAAAAAAAAAAAAAAAAAAAAAAAAAAAAAAAAAAAAAAAAAAAAAAAAAAAAAAAAAAAAAAAAAAAAAAAAAAAAAAAAAAAAAAAAAAAAAAAAAAAAAAAAAAAAAAAAAAAAAAAAAAAAAAAAAAAAAAAAAAAAAAAAAAAAAAAAAAAAAAAAAAAAAAAAAAAAAAAAAAAAAAAAAAAAAAAAAAAAAAAAAAAAAAAAAAAAAAAAAAAAAAAAAAAAAAAAAAAAAAAAAAAAAAAAAAAAAAAAAAAAAAAAAAAAAAAAAAAAAAAAAAAAAAAAAAAAAAAAAAAAAAAAAAAAAAAAAAAAAAAAAAAAAAAAAAAAAAAAAAAAAAAAAAAAAAAAAAAAAAAAAAAAAAAAAAAAAAAAAAAAAAAAAAAAAAAAAAAAAAAAAAAAAAAAAAAAAAAAAAAAAAAAAAAAAAAAAAAAAAAAAAAAAAAAAAAAAAAAAAAAAAAAAAAAAAAAAAAAAAAAAAAAAAAAAAAAAAAAAAAAAAAAAAAAAAAAAAAAAAAAAAAAAAAAAAAAAAAAAAAAAAAAAAAAAAAAAAAAAAAAAAAAAAAAAAAAAAAAAAAAAAAAAAAAAAAAAAAAAAAAAAAAAAAAAAAAAAAAAAAAAAAAAAAAAAAAAAAAAAAAAAAAAAAAAAAAAAAAAAAAAAAAAAAAAAAAAAAAAAAAAAAAAAAAAAAAAAAAAAAAAAAAAAAAAAAAAAAAAAAAAAAAAAAAAAAAAAAAAAAAAAAAAAAAAAAAAAAAAAAAAAAAAAAAAAAAAAAAAAAAAAAAAAAAAAAAAAAAAAAAAAAAAAAAAAAAAAAAAAAAAAAAAAAAAAAAAAAAAAAAAAAAAAAAAAAAAAAAAAAAAAAAAAAAAAAAAAAAAAAAAAAAAAAAAAAAAAAAAAAAAAAAAAAAAAAAAAAAAAAAAAAAAAAAAAAAAAAAAAAAAAAAAAAAAAAAAAAAAAAAAAAAAAAAAAAAAAAAAAAAAAAAAAAAAAAAAAAAAAAAAAAAAAAAAAAAAAAAAAAAAAAAAAAAAAAAAAAAAAAAAAAAAAAAAAAAAAAAAAAAAAAAAAAAAAAAAAAAAAAAAAAAAAAAAAAAAAAAAAAAAAAAAAAAAAAAAAAAAAAAAAAAAAAAAAAAAAAAAAAAAAAAAAAAAAAAAAAAAAAAAAAAAAAAAAAAAAAAAAAAAAAAAAAAAAAAAAAAAAAAAAAAAAAAAAAAAAAAAAAAAAAAAAAAAAAAAAAAAAAAAAAAAAAAAAAAAAAAAAAAAAAAAAAAAAAAAAAAAAAAAAAAAAAAAAAAAAAAAAAAAAAAAAAAAAAAAAAAAAAAAAAAAAAAAAAAAAAAAAAAAAAAAAAAAAAAAAAAAAAAAAAAAAAAAAAAAAAAAAAAAAAAAAAAAAAAAAAAAAAAAAAAAAAAAAAAAAAAAAAAAAAAAAAAAAAAAAAAAAAAAAAAAAAAAAAAAAAAAAAAAAAAAAAAAAAAAAAAAAAAAAAAAAAAAAAAAAAAAAAAAAAAAAAAAAAAAAAAAAAAAAAAAAAAAAAAAAAAAAAAAAAAAAAAAAAAAAAAAAAAAAAAAAAAAAAAAAAAAAAAAAAAAAAAAAAAAAAAAAAAAAAAAAAAAAAAAAAAAAAAAAAAAAAAAAAAAAAAAAAAAAAAAAAAAAAAAAAAAAAAAAAAAAAAAAAAAAAAAAAAAAAAAAAAAAAAAAAAAAAAAAAAAAAAAAAAAAAAAAAAAAAAAAAAAAAAAAAAAAAAAAAAAAAAAAAAAAAAAAAAAAAAAAAAAAAAAAAAAAAAAAAAAAAAAAAAAAAAAAAAAAAAAAAAAAAAAAAAAAAAAAAAAAAAAAAAAAAAAAAAAAAAAAAAAAAAAAAAAAAAAAAAAAAAAAAAAAAAAAAAAAAAAAAAAAAAAAAAAAAAAAAAAAAAAAAAAAAAAAAAAAAAAAAAAAAAAAAAAAAAAAAAAAAAAAAAAAAAAAAAAAAAAAAAAAAAAAAAAAAAAAAAAAAAAAAAAAAAAAAAAAAAAAAAAAAAAAAAAAAAAAAAAAAAAAAAAAAAAAAAAAAAAAAAAAAAAAAAAAAAAAAAAAAAAAAAAAAAAAAAAAAAAAAAAAAAAAAAAAAAAAAAAAAAAAAAAAAAAAAAAAAAAAAAAAAAAAAAAAAAAAAAAAAAAAAAAAAAAAAAAAAAAAAAAAAAAAAAAAAAAAAAAAAAAAAAAAAAAAAAAAAAAAAAAAAAAAAAAAAAAAAXASrIAABv8fLMwAAAABJRU5ErkJggg==\" width=\"1605\">"
      ],
      "text/plain": [
       "<IPython.core.display.HTML object>"
      ]
     },
     "metadata": {},
     "output_type": "display_data"
    },
    {
     "name": "stderr",
     "output_type": "stream",
     "text": [
      "WARNING:root:Too few points to create valid contours\n",
      "WARNING:root:Too few points to create valid contours\n",
      "WARNING:root:Too few points to create valid contours\n",
      "WARNING:root:Too few points to create valid contours\n",
      "WARNING:root:Too few points to create valid contours\n",
      "WARNING:root:Too few points to create valid contours\n",
      "WARNING:root:Too few points to create valid contours\n",
      "WARNING:root:Too few points to create valid contours\n",
      "WARNING:root:Too few points to create valid contours\n",
      "WARNING:root:Too few points to create valid contours\n",
      "WARNING:root:Too few points to create valid contours\n",
      "WARNING:root:Too few points to create valid contours\n",
      "WARNING:root:Too few points to create valid contours\n",
      "WARNING:root:Too few points to create valid contours\n",
      "WARNING:root:Too few points to create valid contours\n",
      "WARNING:root:Too few points to create valid contours\n",
      "WARNING:root:Too few points to create valid contours\n",
      "WARNING:root:Too few points to create valid contours\n",
      "WARNING:root:Too few points to create valid contours\n",
      "WARNING:root:Too few points to create valid contours\n",
      "WARNING:root:Too few points to create valid contours\n",
      "WARNING:root:Too few points to create valid contours\n",
      "WARNING:root:Too few points to create valid contours\n",
      "WARNING:root:Too few points to create valid contours\n",
      "WARNING:root:Too few points to create valid contours\n",
      "WARNING:root:Too few points to create valid contours\n",
      "WARNING:root:Too few points to create valid contours\n",
      "WARNING:root:Too few points to create valid contours\n",
      "WARNING:root:Too few points to create valid contours\n",
      "WARNING:root:Too few points to create valid contours\n",
      "WARNING:root:Too few points to create valid contours\n",
      "WARNING:root:Too few points to create valid contours\n",
      "WARNING:root:Too few points to create valid contours\n"
     ]
    }
   ],
   "source": [
    "%matplotlib agg\n",
    "medians = np.median(sample, axis=0)\n",
    "corner.corner(sample, labels=[C.labels_c[i] for i in indexes], quantiles=[0.01, 0.99], truths=medians, show_titles=True)\n",
    "plt.suptitle(r'$\\nu_f=%.2f$, $\\nu_1=%.2f$, $\\nu_2=%.2f$, $D=%.1f$, $R_\\mathrm{wall}=%s$, $R_\\mathrm{fil}=%s$' % (nuf, nu1, nu2, D, Rwall, Rfil))\n",
    "plt.savefig('/tmp/corner.pdf')\n",
    "%matplotlib nbagg"
   ]
  },
  {
   "cell_type": "markdown",
   "metadata": {
    "extensions": {
     "jupyter_dashboards": {
      "version": 1,
      "views": {
       "grid_default": {
        "col": 8,
        "height": 4,
        "hidden": false,
        "row": 189,
        "width": 4
       },
       "report_default": {}
      }
     }
    }
   },
   "source": [
    "# Probability of the constrains ?"
   ]
  },
  {
   "cell_type": "markdown",
   "metadata": {
    "extensions": {
     "jupyter_dashboards": {
      "version": 1,
      "views": {
       "grid_default": {
        "col": 8,
        "height": 4,
        "hidden": false,
        "row": 193,
        "width": 4
       },
       "report_default": {}
      }
     }
    }
   },
   "source": [
    "Use this to restore from the disk"
   ]
  },
  {
   "cell_type": "code",
   "execution_count": 5,
   "metadata": {
    "collapsed": true,
    "extensions": {
     "jupyter_dashboards": {
      "version": 1,
      "views": {
       "grid_default": {
        "hidden": true
       },
       "report_default": {}
      }
     }
    }
   },
   "outputs": [],
   "source": [
    "f = np.load('covariance.npz')\n",
    "cov, D, R, Rpts, Npts = f['cov'], f['D'], f['R'], f['Rpts'], f['Npts']\n",
    "C = Correlator(D=D, R=R, Rpts=Rpts, Npts=Npts)\n",
    "C._covariance = cov"
   ]
  },
  {
   "cell_type": "code",
   "execution_count": 10,
   "metadata": {
    "extensions": {
     "jupyter_dashboards": {
      "version": 1,
      "views": {
       "grid_default": {
        "col": 8,
        "height": 15,
        "hidden": false,
        "row": 197,
        "width": 4
       },
       "report_default": {}
      }
     }
    }
   },
   "outputs": [
    {
     "data": {
      "image/png": "[encoded data removed]",
      "text/plain": [
       "<matplotlib.figure.Figure at 0x7fc857b43b70>"
      ]
     },
     "metadata": {},
     "output_type": "display_data"
    }
   ],
   "source": [
    "plt.imshow(cov[:30, :30])\n",
    "C = plt.colorbar()\n",
    "C.set_label('Intensity')\n",
    "\n",
    "ticks = list(range(20))\n",
    "tick_labels = [r'\\nu', 'x_1', 'x_2', 'x_3', 'x_{11}', 'x_{22}', 'x_{33}', 'x_{12}', 'x_{13}', 'x_{23}'] * 2\n",
    "plt.xticks(ticks, ['$%s^%s$' % (s, 1 if i < 10 else 2) for (i, s) in enumerate(tick_labels)])\n",
    "_ = plt.yticks(ticks, ['$%s^%s$' % (s, 1 if i < 10 else 2) for (i, s) in enumerate(tick_labels)])\n",
    "\n",
    "plt.tight_layout()\n",
    "plt.savefig('covariance.pdf')"
   ]
  },
  {
   "cell_type": "code",
   "execution_count": 42,
   "metadata": {
    "ExecuteTime": {
     "end_time": "2018-02-01T12:44:20.494875Z",
     "start_time": "2018-02-01T12:44:20.461804Z"
    },
    "extensions": {
     "jupyter_dashboards": {
      "version": 1,
      "views": {
       "grid_default": {
        "hidden": true
       },
       "report_default": {}
      }
     }
    }
   },
   "outputs": [],
   "source": [
    "mean = np.zeros(34)\n",
    "cov = cov\n",
    "cons = np.zeros_like(mean) * np.nan\n",
    "\n",
    "# Impose zero gradient\n",
    "cons[[1, 2, 3, 11, 12, 13, 21, 22, 23, 31, 32, 33]] = 0\n",
    "# Impose heigth of center\n",
    "cons[30] = 1.68\n",
    "\n",
    "mean_c, cov_c = constrain(mean, cov[:34, :34], cons)"
   ]
  },
  {
   "cell_type": "code",
   "execution_count": 12,
   "metadata": {
    "extensions": {
     "jupyter_dashboards": {
      "version": 1,
      "views": {
       "grid_default": {
        "hidden": true
       },
       "report_default": {}
      }
     }
    }
   },
   "outputs": [
    {
     "name": "stderr",
     "output_type": "stream",
     "text": [
      "/usr/lib/python3.6/site-packages/ipykernel/__main__.py:2: RuntimeWarning: covariance is not positive-semidefinite.\n",
      "  from ipykernel import kernelapp as app\n"
     ]
    }
   ],
   "source": [
    "np.random.seed(16091992)\n",
    "sample = np.random.multivariate_normal(mean_c, cov_c, 5000000)"
   ]
  },
  {
   "cell_type": "code",
   "execution_count": 13,
   "metadata": {
    "extensions": {
     "jupyter_dashboards": {
      "version": 1,
      "views": {
       "grid_default": {
        "col": 8,
        "height": 4,
        "hidden": false,
        "row": 212,
        "width": 4
       },
       "report_default": {}
      }
     }
    }
   },
   "outputs": [
    {
     "name": "stdout",
     "output_type": "stream",
     "text": [
      "96239 samples (0.019%)\n"
     ]
    }
   ],
   "source": [
    "# Indexes of the matrix element\n",
    "mapping = np.array([[1, 4, 5], \n",
    "                    [4, 2, 6], \n",
    "                    [5, 6, 3]])\n",
    "\n",
    "# Compute the eigenvalues of the three points\n",
    "hij1 = np.linalg.eigvalsh(sample[:, mapping   ])\n",
    "hij2 = np.linalg.eigvalsh(sample[:, mapping+ 7])\n",
    "hij3 = np.linalg.eigvalsh(sample[:, mapping+14])\n",
    "# TODO quick draws where the height is inversed by swapping them\n",
    "mask = (np.sum(hij1 < 0, axis=1) == 2) & (np.sum(hij2 < 0, axis=1) == 2) & (np.sum(hij3 < 0, axis=1) == 2) & (sample[:, 0] >= sample[:, 7]) & (sample[:, 7] >= sample[:, 14]) \n",
    "print('%s samples (%.3f%%)' % (mask.sum(), mask.sum() / len(mask)))"
   ]
  },
  {
   "cell_type": "code",
   "execution_count": 14,
   "metadata": {
    "collapsed": true,
    "extensions": {
     "jupyter_dashboards": {
      "version": 1,
      "views": {
       "grid_default": {
        "hidden": true
       },
       "report_default": {}
      }
     }
    }
   },
   "outputs": [],
   "source": [
    "hij = np.concatenate((hij1[mask].T, hij2[mask].T, hij3[mask].T)).T\n",
    "weights = np.product(hij, axis=1)"
   ]
  },
  {
   "cell_type": "code",
   "execution_count": 23,
   "metadata": {
    "extensions": {
     "jupyter_dashboards": {
      "version": 1,
      "views": {
       "grid_default": {
        "col": 8,
        "height": 12,
        "hidden": false,
        "row": 216,
        "width": 4
       },
       "report_default": {}
      }
     }
    }
   },
   "outputs": [
    {
     "data": {
      "image/png": "[encoded data removed]",
      "text/plain": [
       "<matplotlib.figure.Figure at 0x7f4fde42c160>"
      ]
     },
     "metadata": {},
     "output_type": "display_data"
    }
   ],
   "source": [
    "from cycler import cycler\n",
    "\n",
    "bins = np.linspace(-1.5, 1.5, 50)\n",
    "kwa = dict(bins=bins, normed=True, alpha=0.5, weights=weights, histtype='stepfilled')\n",
    "plt.hist(sample[mask, 0], label=r'$\\nu^1$', **kwa)\n",
    "plt.hist(sample[mask, 7], label=r'$\\nu^2$', **kwa)\n",
    "plt.hist(sample[mask, 14], label=r'$\\nu^3$', **kwa)\n",
    "\n",
    "cs = cycler(ls=('solid','dashed', 'dotted')) * cycler(color=('red', 'green', 'blue'))\n",
    "\n",
    "for i, style in enumerate(cs):\n",
    "    ii = i // 3\n",
    "    kwa = dict(bins=bins, histtype='step', normed=True, weights=weights)\n",
    "    plt.hist(hij[:, i], label='$\\lambda^{%s}_%s$' % (ii, 'xyz'[i % 3]),\n",
    "             **kwa, **style)\n",
    "\n",
    "plt.xlabel('Value')\n",
    "plt.ylabel('Frequency')\n",
    "plt.legend()\n",
    "plt.xlim(bins.min(), bins.max())\n",
    "plt.title(r'Nsamples=%s, constrain $\\nu^1 > \\nu^2 > \\nu^3$ and $\\nabla \\nu^1 = \\nabla \\nu^2 = \\nabla \\nu^3 = 0 $ ' % (mask.sum()))\n",
    "plt.tight_layout()\n",
    "plt.savefig('distribution_eigvals.pdf', format='pdf')"
   ]
  },
  {
   "cell_type": "code",
   "execution_count": 24,
   "metadata": {
    "extensions": {
     "jupyter_dashboards": {
      "version": 1,
      "views": {
       "grid_default": {
        "col": 4,
        "height": 4,
        "hidden": false,
        "row": 226,
        "width": 4
       },
       "report_default": {}
      }
     }
    }
   },
   "outputs": [
    {
     "data": {
      "text/plain": [
       "array([ 0.074, -0.374, -0.886])"
      ]
     },
     "execution_count": 24,
     "metadata": {},
     "output_type": "execute_result"
    }
   ],
   "source": [
    "np.round([sample[mask, 0].mean(), sample[mask, 7].mean(), sample[mask, 14].mean()], 3)"
   ]
  },
  {
   "cell_type": "code",
   "execution_count": 18,
   "metadata": {
    "collapsed": true,
    "extensions": {
     "jupyter_dashboards": {
      "version": 1,
      "views": {
       "grid_default": {
        "hidden": true
       },
       "report_default": {}
      }
     }
    }
   },
   "outputs": [],
   "source": [
    "from corner import corner"
   ]
  },
  {
   "cell_type": "code",
   "execution_count": 26,
   "metadata": {
    "extensions": {
     "jupyter_dashboards": {
      "version": 1,
      "views": {
       "grid_default": {
        "col": 8,
        "height": 4,
        "hidden": false,
        "row": 228,
        "width": 4
       },
       "report_default": {}
      }
     }
    }
   },
   "outputs": [
    {
     "data": {
      "text/plain": [
       "(96239, 9)"
      ]
     },
     "execution_count": 26,
     "metadata": {},
     "output_type": "execute_result"
    }
   ],
   "source": [
    "hij.shape"
   ]
  },
  {
   "cell_type": "code",
   "execution_count": 35,
   "metadata": {
    "extensions": {
     "jupyter_dashboards": {
      "version": 1,
      "views": {
       "grid_default": {
        "col": 4,
        "height": 4,
        "hidden": false,
        "row": 230,
        "width": 4
       },
       "report_default": {}
      }
     }
    }
   },
   "outputs": [
    {
     "data": {
      "text/plain": [
       "(96239, 12)"
      ]
     },
     "execution_count": 35,
     "metadata": {},
     "output_type": "execute_result"
    }
   ],
   "source": [
    "sampleplot = np.concatenate([[sample[mask, 0], sample[mask, 7], sample[mask, 14]], hij.T]).T\n",
    "sampleplot.shape"
   ]
  },
  {
   "cell_type": "code",
   "execution_count": null,
   "metadata": {
    "extensions": {
     "jupyter_dashboards": {
      "version": 1,
      "views": {
       "grid_default": {
        "hidden": true
       },
       "report_default": {}
      }
     }
    }
   },
   "outputs": [],
   "source": [
    "N = 12\n",
    "labels = [r'$%s$' % e for e in r'\\nu^1 \\nu^2 \\nu^3 h^1_{xx} h^1_{yy} h^1_{zz} h^2_{xx} h^2_{yy} h^2_{zz} h^3_{xx} h^3_{yy} h^3_{zz}'.split()][:N]\n",
    "foo = corner(sample[mask, :N], bins=20, weights=weights, quantiles=[0.05, 0.5, 0.95], labels=labels)\n",
    "\n",
    "plt.savefig('corner.pdf')"
   ]
  },
  {
   "cell_type": "markdown",
   "metadata": {
    "extensions": {
     "jupyter_dashboards": {
      "version": 1,
      "views": {
       "grid_default": {
        "col": 8,
        "height": 4,
        "hidden": false,
        "row": 232,
        "width": null
       },
       "report_default": {}
      }
     }
    }
   },
   "source": [
    "## Constrained to $\\nabla \\nu=0$"
   ]
  },
  {
   "cell_type": "markdown",
   "metadata": {
    "extensions": {
     "jupyter_dashboards": {
      "version": 1,
      "views": {
       "grid_default": {
        "col": 4,
        "height": 4,
        "hidden": false,
        "row": 234,
        "width": 4
       },
       "report_default": {}
      }
     }
    }
   },
   "source": [
    "Use this to restore from the disk"
   ]
  },
  {
   "cell_type": "code",
   "execution_count": 281,
   "metadata": {
    "collapsed": true,
    "extensions": {
     "jupyter_dashboards": {
      "version": 1,
      "views": {
       "grid_default": {
        "hidden": true
       },
       "report_default": {}
      }
     }
    }
   },
   "outputs": [],
   "source": [
    "f = np.load('covariance.npz')\n",
    "cov, D, R, Rpts, Npts = f['cov'], f['D'], f['R'], f['Rpts'], f['Npts']\n",
    "C = Correlator(D=D, R=R, Rpts=Rpts, Npts=Npts)\n",
    "C._covariance = cov"
   ]
  },
  {
   "cell_type": "code",
   "execution_count": 282,
   "metadata": {
    "collapsed": true,
    "extensions": {
     "jupyter_dashboards": {
      "version": 1,
      "views": {
       "grid_default": {
        "hidden": true
       },
       "report_default": {}
      }
     }
    }
   },
   "outputs": [],
   "source": [
    "mean_c, cov_c = C.constrain(delta_center=1.68, delta_peaks=[0.074, -0.373, -0.887])"
   ]
  },
  {
   "cell_type": "code",
   "execution_count": 292,
   "metadata": {
    "extensions": {
     "jupyter_dashboards": {
      "version": 1,
      "views": {
       "grid_default": {
        "col": 8,
        "height": 14,
        "hidden": false,
        "row": 236,
        "width": 4
       },
       "report_default": {}
      }
     }
    }
   },
   "outputs": [
    {
     "data": {
      "text/plain": [
       "Text(0,0.5,'$\\\\nu$')"
      ]
     },
     "execution_count": 292,
     "metadata": {},
     "output_type": "execute_result"
    },
    {
     "data": {
      "image/png": "[encoded data removed]",
      "text/plain": [
       "<matplotlib.figure.Figure at 0x7fac89742fd0>"
      ]
     },
     "metadata": {},
     "output_type": "display_data"
    }
   ],
   "source": [
    "plt.plot(np.linspace(0, 2, 100), mean_c[-100:])\n",
    "plt.xlabel('$\\phi/\\pi$')\n",
    "plt.ylabel(r'$\\nu$')"
   ]
  },
  {
   "cell_type": "code",
   "execution_count": 289,
   "metadata": {
    "extensions": {
     "jupyter_dashboards": {
      "version": 1,
      "views": {
       "grid_default": {
        "col": 4,
        "height": 12,
        "hidden": false,
        "row": 238,
        "width": 4
       },
       "report_default": {}
      }
     }
    }
   },
   "outputs": [
    {
     "data": {
      "image/png": "[encoded data removed]",
      "text/plain": [
       "<matplotlib.figure.Figure at 0x7fac902c0978>"
      ]
     },
     "metadata": {},
     "output_type": "display_data"
    }
   ],
   "source": [
    "C.plot()"
   ]
  },
  {
   "cell_type": "markdown",
   "metadata": {
    "collapsed": true,
    "extensions": {
     "jupyter_dashboards": {
      "version": 1,
      "views": {
       "grid_default": {
        "col": 0,
        "height": 6,
        "hidden": false,
        "row": 250,
        "width": null
       },
       "report_default": {}
      }
     }
    }
   },
   "source": [
    "# TODO:\n",
    "- compute correlation in $(u_r, u_\\theta, u_z)$ instead of $(u_x, u_y, u_z)$\n",
    "- impose orientation of hessian $e_1 = u_r, e_2 = u_\\theta, e_3 = u_z$ and $\\lambda_1 \\leq \\lambda_2 \\leq 0 \\leq \\lambda_3$."
   ]
  },
  {
   "cell_type": "code",
   "execution_count": null,
   "metadata": {
    "collapsed": true,
    "extensions": {
     "jupyter_dashboards": {
      "version": 1,
      "views": {
       "grid_default": {
        "hidden": true
       },
       "report_default": {}
      }
     }
    }
   },
   "outputs": [],
   "source": []
  }
 ],
 "metadata": {
  "extensions": {
   "jupyter_dashboards": {
    "activeView": "grid_default",
    "version": 1,
    "views": {
     "grid_default": {
      "cellMargin": 10,
      "defaultCellHeight": 20,
      "maxColumns": 12,
      "name": "grid",
      "type": "grid"
     },
     "report_default": {
      "name": "report",
      "type": "report"
     }
    }
   }
  },
  "kernelspec": {
   "display_name": "Python [default]",
   "language": "python",
   "name": "python3"
  },
  "language_info": {
   "codemirror_mode": {
    "name": "ipython",
    "version": 3
   },
   "file_extension": ".py",
   "mimetype": "text/x-python",
   "name": "python",
   "nbconvert_exporter": "python",
   "pygments_lexer": "ipython3",
   "version": "3.6.4"
  },
  "notify_time": "5",
  "toc": {
   "nav_menu": {},
   "number_sections": true,
   "sideBar": true,
   "skip_h1_title": false,
   "title_cell": "Table of Contents",
   "title_sidebar": "Contents",
   "toc_cell": false,
   "toc_position": {
    "height": "862px",
    "left": "39px",
    "top": "321.85px",
    "width": "409px"
   },
   "toc_section_display": true,
   "toc_window_display": true
  }
 },
 "nbformat": 4,
 "nbformat_minor": 2
}
