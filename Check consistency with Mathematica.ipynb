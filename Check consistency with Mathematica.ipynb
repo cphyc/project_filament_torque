{
 "cells": [
  {
   "cell_type": "code",
   "execution_count": 1,
   "metadata": {
    "ExecuteTime": {
     "end_time": "2018-03-27T12:16:22.970649Z",
     "start_time": "2018-03-27T12:16:22.515155Z"
    }
   },
   "outputs": [],
   "source": [
    "from __future__ import print_function, division\n",
    "import numpy as np\n",
    "import matplotlib as mpl\n",
    "import matplotlib.pyplot as plt\n",
    "import itertools\n",
    "%matplotlib inline\n",
    "%load_ext autoreload\n",
    "%autoreload 2"
   ]
  },
  {
   "cell_type": "code",
   "execution_count": 2,
   "metadata": {
    "ExecuteTime": {
     "end_time": "2018-03-27T12:25:22.555602Z",
     "start_time": "2018-03-27T12:25:22.062732Z"
    }
   },
   "outputs": [],
   "source": [
    "from correlations import correlations\n",
    "import numpy as np"
   ]
  },
  {
   "cell_type": "markdown",
   "metadata": {},
   "source": [
    "# Reproduce equal voids"
   ]
  },
  {
   "cell_type": "code",
   "execution_count": 3,
   "metadata": {
    "ExecuteTime": {
     "end_time": "2018-03-27T12:25:25.525094Z",
     "start_time": "2018-03-27T12:25:25.449445Z"
    }
   },
   "outputs": [],
   "source": [
    "corr = correlations.Correlator()\n",
    "\n",
    "def eig2mat(e1, e2, theta):\n",
    "    '''Return the element of the matrix with eigen values e1, e2 in (x, y).'''\n",
    "    cos = np.cos(theta)\n",
    "    sin = np.sin(theta)\n",
    "    return [\n",
    "        e1 * cos**2 + e2 * sin**2,  # xx\n",
    "        e1 * sin**2 + e2 * cos**2,  # yy\n",
    "        np.inf,                      # zz\n",
    "        (e2-e1) * cos * sin,         # xy\n",
    "        np.inf,                      # xz\n",
    "        np.inf,                      # yz\n",
    "    ]\n",
    "kappa = 1\n",
    "\n",
    "corr.add_point([0, 0, 0], ['density', 'density_gradient', 'hessian'], 1, \n",
    "               constrains={'density': [3], 'density_gradient': [0, 0, np.inf], \n",
    "                           'hessian': [-kappa, -kappa, np.inf,\n",
    "                                       0,      np.inf, np.inf]})\n",
    "\n",
    "r = 5\n",
    "for phi in [0, 2*np.pi/3, -2*np.pi/3]:\n",
    "    x = r * np.cos(phi)\n",
    "    y = r * np.sin(phi)\n",
    "    corr.add_point([x, y, 0], ['density', 'density_gradient', 'hessian'], 1,\n",
    "                   constrains={'density': [-4], 'density_gradient': [0, 0, np.inf], \n",
    "                               'hessian': eig2mat(kappa, 2*kappa, phi+np.pi/2)})\n",
    "\n",
    "grid = np.linspace(-r, r, 11)\n",
    "xy = []\n",
    "for x, y in itertools.product(grid, grid):\n",
    "    corr.add_point([x, y, 0], ['density'], 1)\n",
    "    xy.append((x, y))\n",
    "    "
   ]
  },
  {
   "cell_type": "code",
   "execution_count": null,
   "metadata": {
    "ExecuteTime": {
     "start_time": "2018-03-27T12:25:27.264Z"
    }
   },
   "outputs": [
    {
     "name": "stderr",
     "output_type": "stream",
     "text": [
      "\r",
      "  0%|          | 0/13041 [00:00<?, ?it/s]"
     ]
    },
    {
     "name": "stdout",
     "output_type": "stream",
     "text": [
      "Running with 4 processes.\n"
     ]
    },
    {
     "name": "stderr",
     "output_type": "stream",
     "text": [
      "100%|██████████| 13041/13041 [02:33<00:00, 85.03it/s]"
     ]
    }
   ],
   "source": [
    "corr.cov_c"
   ]
  },
  {
   "cell_type": "code",
   "execution_count": null,
   "metadata": {
    "ExecuteTime": {
     "start_time": "2018-03-27T12:26:20.016Z"
    }
   },
   "outputs": [],
   "source": [
    "from scipy.interpolate import interp2d\n",
    "\n",
    "# o stands for original, h for high resolution\n",
    "ox, oy = np.meshgrid(grid, grid)\n",
    "ox, oy = ox.flatten(), oy.flatten()\n",
    "odata = corr.mean_c\n",
    "\n",
    "hx, hy = np.meshgrid(np.linspace(-r, r, 100), np.linspace(-r, r, 100))\n",
    "interp = np.vectorize(interp2d(ox, oy, odata, kind='quintic'))\n",
    "hdata = interp(hx, hy)\n",
    "\n",
    "# plt.pcolormesh(hx, hy, hdata, cmap='RdYlBu')\n",
    "plt.contourf(hx, hy, hdata.T, cmap='RdYlBu_r', vmin=-4, vmax=4)\n",
    "plt.gca().set_aspect('equal')"
   ]
  },
  {
   "cell_type": "code",
   "execution_count": null,
   "metadata": {},
   "outputs": [],
   "source": []
  }
 ],
 "metadata": {
  "kernelspec": {
   "display_name": "Python [conda root]",
   "language": "python",
   "name": "conda-root-py"
  },
  "language_info": {
   "codemirror_mode": {
    "name": "ipython",
    "version": 3
   },
   "file_extension": ".py",
   "mimetype": "text/x-python",
   "name": "python",
   "nbconvert_exporter": "python",
   "pygments_lexer": "ipython3",
   "version": "3.6.4"
  },
  "notify_time": "5",
  "toc": {
   "nav_menu": {},
   "number_sections": true,
   "sideBar": true,
   "skip_h1_title": false,
   "title_cell": "Table of Contents",
   "title_sidebar": "Contents",
   "toc_cell": false,
   "toc_position": {},
   "toc_section_display": true,
   "toc_window_display": false
  }
 },
 "nbformat": 4,
 "nbformat_minor": 2
}
